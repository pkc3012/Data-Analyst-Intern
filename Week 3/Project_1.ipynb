{
  "cells": [
    {
      "cell_type": "code",
      "execution_count": null,
      "metadata": {
        "id": "CD0dHC0yZHGn"
      },
      "outputs": [],
      "source": [
        "#Importing Libraries\n",
        "\n",
        "import numpy as np\n",
        "import pandas as pd\n"
      ]
    },
    {
      "cell_type": "markdown",
      "metadata": {
        "id": "3bxA5Z9fZy7f"
      },
      "source": [
        "**Reading the data**\n"
      ]
    },
    {
      "cell_type": "code",
      "execution_count": null,
      "metadata": {
        "colab": {
          "base_uri": "https://localhost:8080/"
        },
        "id": "wi2sHJvYZyZO",
        "outputId": "c1c1494f-05f2-41ee-fafb-20a99157cf00"
      },
      "outputs": [
        {
          "name": "stdout",
          "output_type": "stream",
          "text": [
            "    Index   Age      Salary  Rating       Location  Established Easy Apply\n",
            "0       0  44.0   $44k-$99k     5.4       India,In         1999       TRUE\n",
            "1       1  66.0   $55k-$66k     3.5    New York,Ny         2002       TRUE\n",
            "2       2   NaN   $77k-$89k    -1.0    New York,Ny           -1         -1\n",
            "3       3  64.0   $44k-$99k     4.4       India In         1988         -1\n",
            "4       4  25.0   $44k-$99k     6.4  Australia Aus         2002         -1\n",
            "5       5  44.0   $77k-$89k     1.4       India,In         1999       TRUE\n",
            "6       6  21.0   $44k-$99k     0.0    New York,Ny           -1         -1\n",
            "7       7  44.0   $44k-$99k    -1.0  Australia Aus           -1         -1\n",
            "8       8  35.0   $44k-$99k     5.4    New York,Ny           -1         -1\n",
            "9       9  22.0   $44k-$99k     7.7       India,In           -1       TRUE\n",
            "10     10  55.0   $10k-$49k     5.4       India,In         2008       TRUE\n",
            "11     11  44.0   $10k-$49k     6.7       India,In         2009         -1\n",
            "12     12   NaN   $44k-$99k     0.0       India,In         1999         -1\n",
            "13     13  25.0   $44k-$99k    -1.0  Australia Aus         2019       TRUE\n",
            "14     14  66.0   $44k-$99k     4.0  Australia Aus         2020       TRUE\n",
            "15     15  44.0  $88k-$101k     3.0  Australia Aus         1999         -1\n",
            "16     16  19.0   $19k-$40k     4.5       India,In         1984         -1\n",
            "17     17   NaN   $44k-$99k     5.3    New York,Ny         1943       TRUE\n",
            "18     18  35.0   $44k-$99k     6.7    New York,Ny         1954       TRUE\n",
            "19     19  32.0   $44k-$99k     3.3    New York,Ny         1955       TRUE\n",
            "20     20   NaN   $44k-$99k     5.7    New York,Ny         1944       TRUE\n",
            "21     21  35.0   $44k-$99k     5.0    New York,Ny         1946         -1\n",
            "22     22  19.0   $55k-$66k     7.8    New York,Ny         1988       TRUE\n",
            "23     23   NaN   $44k-$99k     2.4    New York,Ny         1999       TRUE\n",
            "24     24  13.0   $44k-$99k    -1.0    New York,Ny         1987         -1\n",
            "25     25  55.0   $44k-$99k     0.0  Australia Aus         1980       TRUE\n",
            "26     26   NaN   $55k-$66k     NaN       India,In         1934       TRUE\n",
            "27     27  52.0   $44k-$99k     5.4       India,In         1935         -1\n",
            "28     28   NaN   $39k-$88k     3.4  Australia Aus         1932         -1\n"
          ]
        }
      ],
      "source": [
        "  data = pd.read_csv (\"/content/Data-cleaning-for-beginners-using-pandas.csv\")\n",
        "  print(data)"
      ]
    },
    {
      "cell_type": "markdown",
      "metadata": {},
      "source": [
        "**Q1) Missing Values: Are there any missing values in the dataset, and if so, how should they be handled for each indicator?** bold text\n"
      ]
    },
    {
      "cell_type": "code",
      "execution_count": null,
      "metadata": {
        "colab": {
          "base_uri": "https://localhost:8080/"
        },
        "id": "yjP70Re6bgEX",
        "outputId": "f10fd41b-803a-4671-e49a-b33cf4c5f6eb"
      },
      "outputs": [
        {
          "data": {
            "text/plain": [
              "Index          0\n",
              "Age            7\n",
              "Salary         0\n",
              "Rating         1\n",
              "Location       0\n",
              "Established    0\n",
              "Easy Apply     0\n",
              "dtype: int64"
            ]
          },
          "execution_count": 9,
          "metadata": {},
          "output_type": "execute_result"
        }
      ],
      "source": [
        "data.isnull().sum()"
      ]
    },
    {
      "cell_type": "code",
      "execution_count": null,
      "metadata": {
        "colab": {
          "base_uri": "https://localhost:8080/"
        },
        "id": "vYXnbbXwcof_",
        "outputId": "88515ea9-2c1c-4ac3-e3b7-f063031c48c3"
      },
      "outputs": [
        {
          "name": "stdout",
          "output_type": "stream",
          "text": [
            "39.03448275862069\n",
            "3.528571428571429\n"
          ]
        }
      ],
      "source": [
        "#To fill the null values for age row\n",
        "avg_age = data['Age'].mean()\n",
        "print(avg_age)\n",
        "\n",
        "# To fill the null values for the rating row\n",
        "avg_rating = data['Rating'].mean()\n",
        "print(avg_rating)"
      ]
    },
    {
      "cell_type": "code",
      "execution_count": null,
      "metadata": {
        "id": "GqW0_RVjc03T"
      },
      "outputs": [],
      "source": [
        "# Now we have to fill the missing values with the mean\n",
        "data['Age'] = data.Age.fillna(avg_age)\n",
        "data['Age'] = data.Age.round(decimals=1)"
      ]
    },
    {
      "cell_type": "code",
      "execution_count": null,
      "metadata": {
        "colab": {
          "base_uri": "https://localhost:8080/"
        },
        "id": "fp8Urf6oc1sl",
        "outputId": "7d9766e1-5e97-4278-bf9e-3ebd7c7c11e6"
      },
      "outputs": [
        {
          "data": {
            "text/plain": [
              "0     44.0\n",
              "1     66.0\n",
              "2     39.0\n",
              "3     64.0\n",
              "4     25.0\n",
              "5     44.0\n",
              "6     21.0\n",
              "7     44.0\n",
              "8     35.0\n",
              "9     22.0\n",
              "10    55.0\n",
              "11    44.0\n",
              "12    39.0\n",
              "13    25.0\n",
              "14    66.0\n",
              "15    44.0\n",
              "16    19.0\n",
              "17    39.0\n",
              "18    35.0\n",
              "19    32.0\n",
              "20    39.0\n",
              "21    35.0\n",
              "22    19.0\n",
              "23    39.0\n",
              "24    13.0\n",
              "25    55.0\n",
              "26    39.0\n",
              "27    52.0\n",
              "28    39.0\n",
              "Name: Age, dtype: float64"
            ]
          },
          "execution_count": 14,
          "metadata": {},
          "output_type": "execute_result"
        }
      ],
      "source": [
        "# Now lets check how the missing values are replaced\n",
        "data['Age']"
      ]
    },
    {
      "cell_type": "code",
      "execution_count": null,
      "metadata": {
        "id": "IRTmxlhkde_r"
      },
      "outputs": [],
      "source": [
        "#Now to we have to fill the missing values with the mean in rating row\n",
        "\n",
        "data['Rating'] = data.Rating.fillna(avg_rating)\n",
        "data['Rating'] = data.Rating.round(decimals=1)"
      ]
    },
    {
      "cell_type": "code",
      "execution_count": null,
      "metadata": {
        "colab": {
          "base_uri": "https://localhost:8080/"
        },
        "id": "etH9iJgBc1pP",
        "outputId": "6af09866-5c25-4d67-d805-35083ef59cd1"
      },
      "outputs": [
        {
          "data": {
            "text/plain": [
              "0     5.4\n",
              "1     3.5\n",
              "2    -1.0\n",
              "3     4.4\n",
              "4     6.4\n",
              "5     1.4\n",
              "6     0.0\n",
              "7    -1.0\n",
              "8     5.4\n",
              "9     7.7\n",
              "10    5.4\n",
              "11    6.7\n",
              "12    0.0\n",
              "13   -1.0\n",
              "14    4.0\n",
              "15    3.0\n",
              "16    4.5\n",
              "17    5.3\n",
              "18    6.7\n",
              "19    3.3\n",
              "20    5.7\n",
              "21    5.0\n",
              "22    7.8\n",
              "23    2.4\n",
              "24   -1.0\n",
              "25    0.0\n",
              "26    NaN\n",
              "27    5.4\n",
              "28    3.4\n",
              "Name: Rating, dtype: float64"
            ]
          },
          "execution_count": 17,
          "metadata": {},
          "output_type": "execute_result"
        }
      ],
      "source": [
        "# Now lets check if all the missing vales are replaced or not\n",
        "data['Rating']"
      ]
    },
    {
      "cell_type": "markdown",
      "metadata": {
        "id": "-1XYGJZhfGPU"
      },
      "source": [
        "Q2) **Data Types: What are the data types of each indicator, and do they align with their expected types (e.g., numerical, categorical)?**\n"
      ]
    },
    {
      "cell_type": "code",
      "execution_count": null,
      "metadata": {
        "colab": {
          "base_uri": "https://localhost:8080/"
        },
        "id": "6nwDeGitc1mJ",
        "outputId": "310cc7b0-3f8e-4a05-d1d7-dcd2db7afcb5"
      },
      "outputs": [
        {
          "name": "stdout",
          "output_type": "stream",
          "text": [
            "Index            int64\n",
            "Age            float64\n",
            "Salary          object\n",
            "Rating         float64\n",
            "Location        object\n",
            "Established      int64\n",
            "Easy Apply      object\n",
            "dtype: object\n"
          ]
        }
      ],
      "source": [
        "# Firstly lets check the datatypes of the whole dataset\n",
        "print(data.dtypes)"
      ]
    },
    {
      "cell_type": "code",
      "execution_count": null,
      "metadata": {
        "colab": {
          "base_uri": "https://localhost:8080/"
        },
        "id": "FEf35jHEc0tb",
        "outputId": "64252fb3-c22b-4e83-a39e-e5d051d0665a"
      },
      "outputs": [
        {
          "name": "stdout",
          "output_type": "stream",
          "text": [
            "Index: int64\n",
            "\n",
            "Age: float64\n",
            "Expected Type: Numerical\n",
            "\n",
            "Salary: object\n",
            "Expected Type: Categorical\n",
            "\n",
            "Rating: float64\n",
            "Expected Type: Numerical\n",
            "\n",
            "Location: object\n",
            "Expected Type: Categorical\n",
            "\n",
            "Established: int64\n",
            "\n",
            "Easy Apply: object\n",
            "Expected Type: Categorical\n",
            "\n"
          ]
        }
      ],
      "source": [
        "data_types = data.dtypes\n",
        "\n",
        "for column, dtype in data_types.items():\n",
        "    print(f\"{column}: {dtype}\")\n",
        "\n",
        "    if data[column].dtype == 'object':\n",
        "        print(f\"Expected Type: Categorical\")\n",
        "    elif data[column].dtype == 'float64':\n",
        "        print(f\"Expected Type: Numerical\")\n",
        "\n",
        "\n",
        "    print()"
      ]
    },
    {
      "cell_type": "markdown",
      "metadata": {
        "id": "NCu-8m65iRHI"
      },
      "source": [
        "**Q3) Outliers: Identify potential outliers in numerical indicators (e.g., Age, Salary, Rating). Should outliers be removed or adjusted?**\n"
      ]
    },
    {
      "cell_type": "code",
      "execution_count": null,
      "metadata": {
        "colab": {
          "base_uri": "https://localhost:8080/"
        },
        "id": "subFoSbcqcxJ",
        "outputId": "6c613369-c0c1-4d04-f111-981bea31811e"
      },
      "outputs": [
        {
          "name": "stdout",
          "output_type": "stream",
          "text": [
            "Dataset after removing outliers:\n",
            "Empty DataFrame\n",
            "Columns: [Index, Age, Salary, Rating, Location, Established, Easy Apply]\n",
            "Index: []\n"
          ]
        },
        {
          "name": "stderr",
          "output_type": "stream",
          "text": [
            "<ipython-input-38-0c291d66372d>:3: FutureWarning: The default value of numeric_only in DataFrame.mean is deprecated. In a future version, it will default to False. In addition, specifying 'numeric_only=None' is deprecated. Select only valid columns or specify the value of numeric_only to silence this warning.\n",
            "  z_scores = np.abs((data[['Age', 'Salary', 'Rating']] - data[['Age', 'Salary', 'Rating']].mean()) / data[['Age', 'Salary', 'Rating']].std())\n",
            "<ipython-input-38-0c291d66372d>:3: FutureWarning: The default value of numeric_only in DataFrame.std is deprecated. In a future version, it will default to False. In addition, specifying 'numeric_only=None' is deprecated. Select only valid columns or specify the value of numeric_only to silence this warning.\n",
            "  z_scores = np.abs((data[['Age', 'Salary', 'Rating']] - data[['Age', 'Salary', 'Rating']].mean()) / data[['Age', 'Salary', 'Rating']].std())\n"
          ]
        }
      ],
      "source": [
        "z_score_threshold = 3\n",
        "\n",
        "z_scores = np.abs((data[['Age', 'Salary', 'Rating']] - data[['Age', 'Salary', 'Rating']].mean()) / data[['Age', 'Salary', 'Rating']].std())\n",
        "\n",
        "data_no_outliers = data[(z_scores <= z_score_threshold).all(axis=1)]\n",
        "\n",
        "print(\"Dataset after removing outliers:\")\n",
        "print(data_no_outliers)"
      ]
    },
    {
      "cell_type": "markdown",
      "metadata": {
        "id": "A_Zr1yVhoqzC"
      },
      "source": [
        "**Q4). Salary Formatting: Examine the format of the Salary column. Does it require any formatting or standardization for consistent analysis?**\n"
      ]
    },
    {
      "cell_type": "code",
      "execution_count": null,
      "metadata": {
        "colab": {
          "base_uri": "https://localhost:8080/"
        },
        "id": "jML5jbhtowfq",
        "outputId": "b172fc3a-43d9-4e13-f822-c6edd4247a25"
      },
      "outputs": [
        {
          "data": {
            "text/plain": [
              "0      $44k-$99k\n",
              "1      $55k-$66k\n",
              "2      $77k-$89k\n",
              "3      $44k-$99k\n",
              "4      $44k-$99k\n",
              "5      $77k-$89k\n",
              "6      $44k-$99k\n",
              "7      $44k-$99k\n",
              "8      $44k-$99k\n",
              "9      $44k-$99k\n",
              "10     $10k-$49k\n",
              "11     $10k-$49k\n",
              "12     $44k-$99k\n",
              "13     $44k-$99k\n",
              "14     $44k-$99k\n",
              "15    $88k-$101k\n",
              "16     $19k-$40k\n",
              "17     $44k-$99k\n",
              "18     $44k-$99k\n",
              "19     $44k-$99k\n",
              "20     $44k-$99k\n",
              "21     $44k-$99k\n",
              "22     $55k-$66k\n",
              "23     $44k-$99k\n",
              "24     $44k-$99k\n",
              "25     $44k-$99k\n",
              "26     $55k-$66k\n",
              "27     $44k-$99k\n",
              "28     $39k-$88k\n",
              "Name: Salary, dtype: object"
            ]
          },
          "execution_count": 39,
          "metadata": {},
          "output_type": "execute_result"
        }
      ],
      "source": [
        "data['Salary']"
      ]
    },
    {
      "cell_type": "code",
      "execution_count": null,
      "metadata": {
        "colab": {
          "base_uri": "https://localhost:8080/"
        },
        "id": "DNeOL-SSqipF",
        "outputId": "2e71e468-4524-4965-9024-0c67d7dd598a"
      },
      "outputs": [
        {
          "name": "stdout",
          "output_type": "stream",
          "text": [
            "Unique values in the 'Salary' column:\n",
            "['$44k-$99k' '$55k-$66k' '$77k-$89k' '$10k-$49k' '$88k-$101k' '$19k-$40k'\n",
            " '$39k-$88k']\n",
            "\n",
            "Counts of each unique pattern in the 'Salary' column:\n",
            "$44k-$99k     19\n",
            "$55k-$66k      3\n",
            "$77k-$89k      2\n",
            "$10k-$49k      2\n",
            "$88k-$101k     1\n",
            "$19k-$40k      1\n",
            "$39k-$88k      1\n",
            "Name: Salary, dtype: int64\n",
            "\n",
            "Missing values in the 'Salary' column: 0\n"
          ]
        }
      ],
      "source": [
        "unique_salary_values = data['Salary'].unique()\n",
        "\n",
        "print(\"Unique values in the 'Salary' column:\")\n",
        "print(unique_salary_values)\n",
        "\n",
        "pattern_counts = data['Salary'].value_counts()\n",
        "\n",
        "print(\"\\nCounts of each unique pattern in the 'Salary' column:\")\n",
        "print(pattern_counts)\n",
        "\n",
        "\n",
        "missing_salary_values = data['Salary'].isnull().sum()\n",
        "\n",
        "print(\"\\nMissing values in the 'Salary' column:\", missing_salary_values)"
      ]
    },
    {
      "cell_type": "markdown",
      "metadata": {
        "id": "hYdLqezHqx0t"
      },
      "source": [
        "Q**5) Location Standardization: Check the consistency of location entries. Do they need standardization, and how can this be achieved?**"
      ]
    },
    {
      "cell_type": "code",
      "execution_count": null,
      "metadata": {
        "colab": {
          "base_uri": "https://localhost:8080/"
        },
        "id": "rk-na7LAqxXq",
        "outputId": "2462329c-a485-4608-e910-8ef8d1b8a516"
      },
      "outputs": [
        {
          "name": "stdout",
          "output_type": "stream",
          "text": [
            "Unique values in the 'Location' column:\n",
            "['India,In' 'New York,Ny' 'India In' 'Australia Aus']\n",
            "\n",
            "Dataset after standardizing 'Location' entries:\n",
            "    Index   Age      Salary  Rating       Location  Established Easy Apply\n",
            "0       0  44.0   $44k-$99k     5.4       india,in         1999       TRUE\n",
            "1       1  66.0   $55k-$66k     3.5    new york,ny         2002       TRUE\n",
            "2       2  39.0   $77k-$89k    -1.0    new york,ny           -1         -1\n",
            "3       3  64.0   $44k-$99k     4.4       india in         1988         -1\n",
            "4       4  25.0   $44k-$99k     6.4  australia aus         2002         -1\n",
            "5       5  44.0   $77k-$89k     1.4       india,in         1999       TRUE\n",
            "6       6  21.0   $44k-$99k     0.0    new york,ny           -1         -1\n",
            "7       7  44.0   $44k-$99k    -1.0  australia aus           -1         -1\n",
            "8       8  35.0   $44k-$99k     5.4    new york,ny           -1         -1\n",
            "9       9  22.0   $44k-$99k     7.7       india,in           -1       TRUE\n",
            "10     10  55.0   $10k-$49k     5.4       india,in         2008       TRUE\n",
            "11     11  44.0   $10k-$49k     6.7       india,in         2009         -1\n",
            "12     12  39.0   $44k-$99k     0.0       india,in         1999         -1\n",
            "13     13  25.0   $44k-$99k    -1.0  australia aus         2019       TRUE\n",
            "14     14  66.0   $44k-$99k     4.0  australia aus         2020       TRUE\n",
            "15     15  44.0  $88k-$101k     3.0  australia aus         1999         -1\n",
            "16     16  19.0   $19k-$40k     4.5       india,in         1984         -1\n",
            "17     17  39.0   $44k-$99k     5.3    new york,ny         1943       TRUE\n",
            "18     18  35.0   $44k-$99k     6.7    new york,ny         1954       TRUE\n",
            "19     19  32.0   $44k-$99k     3.3    new york,ny         1955       TRUE\n",
            "20     20  39.0   $44k-$99k     5.7    new york,ny         1944       TRUE\n",
            "21     21  35.0   $44k-$99k     5.0    new york,ny         1946         -1\n",
            "22     22  19.0   $55k-$66k     7.8    new york,ny         1988       TRUE\n",
            "23     23  39.0   $44k-$99k     2.4    new york,ny         1999       TRUE\n",
            "24     24  13.0   $44k-$99k    -1.0    new york,ny         1987         -1\n",
            "25     25  55.0   $44k-$99k     0.0  australia aus         1980       TRUE\n",
            "26     26  39.0   $55k-$66k     NaN       india,in         1934       TRUE\n",
            "27     27  52.0   $44k-$99k     5.4       india,in         1935         -1\n",
            "28     28  39.0   $39k-$88k     3.4  australia aus         1932         -1\n"
          ]
        }
      ],
      "source": [
        "unique_locations = data['Location'].unique()\n",
        "\n",
        "print(\"Unique values in the 'Location' column:\")\n",
        "print(unique_locations)\n",
        "\n",
        "data['Location'] = data['Location'].str.lower()\n",
        "\n",
        "print(\"\\nDataset after standardizing 'Location' entries:\")\n",
        "print(data)"
      ]
    },
    {
      "cell_type": "markdown",
      "metadata": {
        "id": "2ZPH51xarG55"
      },
      "source": [
        "**Q6. Established Column: Explore the Established column. Are there any inconsistencies or anomalies that need to be addressed?**\n"
      ]
    },
    {
      "cell_type": "code",
      "execution_count": null,
      "metadata": {
        "id": "RtNH4CwurfOb"
      },
      "outputs": [],
      "source": []
    },
    {
      "cell_type": "markdown",
      "metadata": {
        "id": "RZPF_0kFrjz3"
      },
      "source": [
        "**Q7. Easy Apply Indicator: Analyze the Easy Apply column. Does it contain boolean values or need transformation for better analysis?**\n"
      ]
    },
    {
      "cell_type": "code",
      "execution_count": null,
      "metadata": {
        "colab": {
          "base_uri": "https://localhost:8080/"
        },
        "id": "3vf_h7qqroby",
        "outputId": "f5419db8-4884-4752-caae-0735d7f9e68f"
      },
      "outputs": [
        {
          "name": "stdout",
          "output_type": "stream",
          "text": [
            "Unique values in the 'Easy Apply' column:\n",
            "[True nan]\n",
            "\n",
            "Data type of the 'Easy Apply' column: object\n",
            "after potential transformation\n",
            "    Index   Age      Salary  Rating       Location  Established Easy Apply\n",
            "0       0  44.0   $44k-$99k     5.4       india,in         1999        NaN\n",
            "1       1  66.0   $55k-$66k     3.5    new york,ny         2002        NaN\n",
            "2       2  39.0   $77k-$89k    -1.0    new york,ny           -1        NaN\n",
            "3       3  64.0   $44k-$99k     4.4       india in         1988        NaN\n",
            "4       4  25.0   $44k-$99k     6.4  australia aus         2002        NaN\n",
            "5       5  44.0   $77k-$89k     1.4       india,in         1999        NaN\n",
            "6       6  21.0   $44k-$99k     0.0    new york,ny           -1        NaN\n",
            "7       7  44.0   $44k-$99k    -1.0  australia aus           -1        NaN\n",
            "8       8  35.0   $44k-$99k     5.4    new york,ny           -1        NaN\n",
            "9       9  22.0   $44k-$99k     7.7       india,in           -1        NaN\n",
            "10     10  55.0   $10k-$49k     5.4       india,in         2008        NaN\n",
            "11     11  44.0   $10k-$49k     6.7       india,in         2009        NaN\n",
            "12     12  39.0   $44k-$99k     0.0       india,in         1999        NaN\n",
            "13     13  25.0   $44k-$99k    -1.0  australia aus         2019        NaN\n",
            "14     14  66.0   $44k-$99k     4.0  australia aus         2020        NaN\n",
            "15     15  44.0  $88k-$101k     3.0  australia aus         1999        NaN\n",
            "16     16  19.0   $19k-$40k     4.5       india,in         1984        NaN\n",
            "17     17  39.0   $44k-$99k     5.3    new york,ny         1943        NaN\n",
            "18     18  35.0   $44k-$99k     6.7    new york,ny         1954        NaN\n",
            "19     19  32.0   $44k-$99k     3.3    new york,ny         1955        NaN\n",
            "20     20  39.0   $44k-$99k     5.7    new york,ny         1944        NaN\n",
            "21     21  35.0   $44k-$99k     5.0    new york,ny         1946        NaN\n",
            "22     22  19.0   $55k-$66k     7.8    new york,ny         1988        NaN\n",
            "23     23  39.0   $44k-$99k     2.4    new york,ny         1999        NaN\n",
            "24     24  13.0   $44k-$99k    -1.0    new york,ny         1987        NaN\n",
            "25     25  55.0   $44k-$99k     0.0  australia aus         1980        NaN\n",
            "26     26  39.0   $55k-$66k     NaN       india,in         1934        NaN\n",
            "27     27  52.0   $44k-$99k     5.4       india,in         1935        NaN\n",
            "28     28  39.0   $39k-$88k     3.4  australia aus         1932        NaN\n"
          ]
        }
      ],
      "source": [
        "unique_easy_apply_values = data['Easy Apply'].unique()\n",
        "\n",
        "print(\"Unique values in the 'Easy Apply' column:\")\n",
        "print(unique_easy_apply_values)\n",
        "\n",
        "easy_apply_data_type = data['Easy Apply'].dtype\n",
        "\n",
        "print(\"\\nData type of the 'Easy Apply' column:\", easy_apply_data_type)\n",
        "\n",
        "if easy_apply_data_type != bool:\n",
        "    data['Easy Apply'] = data['Easy Apply'].map({'TRUE': True, 'FALSE': False})\n",
        "\n",
        "print(\"after potential transformation\")\n",
        "print(data)"
      ]
    },
    {
      "cell_type": "markdown",
      "metadata": {
        "id": "D7pOXPTYsGWQ"
      },
      "source": [
        "**Q8. Rating Range: Investigate the range of values in the Rating column. Does it fall within expected rating scales, and how should outliers be treated?**\n"
      ]
    },
    {
      "cell_type": "code",
      "execution_count": null,
      "metadata": {
        "id": "Equ7AzUQsK3-"
      },
      "outputs": [],
      "source": []
    },
    {
      "cell_type": "markdown",
      "metadata": {
        "id": "S3qLtTeutjBq"
      },
      "source": [
        "**Q9. Age Distribution:Check the distribution of values in the Age column. Are there any unusual entries, and how might they impact analysis?**\n"
      ]
    },
    {
      "cell_type": "code",
      "execution_count": null,
      "metadata": {
        "colab": {
          "base_uri": "https://localhost:8080/"
        },
        "id": "3l8StkBctp1u",
        "outputId": "d9f57096-b965-42d4-d44b-23915a011065"
      },
      "outputs": [
        {
          "name": "stdout",
          "output_type": "stream",
          "text": [
            "Summary statistics for the 'Age' column:\n",
            "count    29.000000\n",
            "mean     39.034483\n",
            "std      13.973145\n",
            "min      13.000000\n",
            "25%      32.000000\n",
            "50%      39.000000\n",
            "75%      44.000000\n",
            "max      66.000000\n",
            "Name: Age, dtype: float64\n",
            "\n",
            "Unique values in the 'Age' column:\n",
            "[44. 66. 39. 64. 25. 21. 35. 22. 55. 19. 32. 13. 52.]\n",
            "\n",
            "Counts for each unique age value:\n",
            "39.0    7\n",
            "44.0    5\n",
            "35.0    3\n",
            "66.0    2\n",
            "25.0    2\n",
            "55.0    2\n",
            "19.0    2\n",
            "64.0    1\n",
            "21.0    1\n",
            "22.0    1\n",
            "32.0    1\n",
            "13.0    1\n",
            "52.0    1\n",
            "Name: Age, dtype: int64\n"
          ]
        }
      ],
      "source": [
        "age_summary = data['Age'].describe()\n",
        "\n",
        "print(\"Summary statistics for the 'Age' column:\")\n",
        "print(age_summary)\n",
        "\n",
        "unique_age_values = data['Age'].unique()\n",
        "age_counts = data['Age'].value_counts()\n",
        "\n",
        "print(\"\\nUnique values in the 'Age' column:\")\n",
        "print(unique_age_values)\n",
        "\n",
        "print(\"\\nCounts for each unique age value:\")\n",
        "print(age_counts)"
      ]
    },
    {
      "cell_type": "markdown",
      "metadata": {
        "id": "f2hVBvN8zx3J"
      },
      "source": [
        "**Q10. Handling Special Characters: Examine all text-based columns (e.g., Location). Are there special characters or inconsistencies that need cleaning?**\n"
      ]
    },
    {
      "cell_type": "code",
      "execution_count": null,
      "metadata": {
        "colab": {
          "base_uri": "https://localhost:8080/"
        },
        "id": "DJVRIzr_z2sb",
        "outputId": "b5743ffc-2a67-4a5b-8fe2-ba9a2594fffa"
      },
      "outputs": [
        {
          "name": "stdout",
          "output_type": "stream",
          "text": [
            "\n",
            "Unique values in the 'Location' column:\n",
            "['india,in' 'new york,ny' 'india in' 'australia aus']\n",
            "\n",
            "Dataset after cleaning text-based columns:\n",
            "    Index   Age      Salary  Rating       Location  Established Easy Apply\n",
            "0       0  44.0   $44k-$99k     5.4       india,in         1999        NaN\n",
            "1       1  66.0   $55k-$66k     3.5    new york,ny         2002        NaN\n",
            "2       2  39.0   $77k-$89k    -1.0    new york,ny           -1        NaN\n",
            "3       3  64.0   $44k-$99k     4.4       india in         1988        NaN\n",
            "4       4  25.0   $44k-$99k     6.4  australia aus         2002        NaN\n",
            "5       5  44.0   $77k-$89k     1.4       india,in         1999        NaN\n",
            "6       6  21.0   $44k-$99k     0.0    new york,ny           -1        NaN\n",
            "7       7  44.0   $44k-$99k    -1.0  australia aus           -1        NaN\n",
            "8       8  35.0   $44k-$99k     5.4    new york,ny           -1        NaN\n",
            "9       9  22.0   $44k-$99k     7.7       india,in           -1        NaN\n",
            "10     10  55.0   $10k-$49k     5.4       india,in         2008        NaN\n",
            "11     11  44.0   $10k-$49k     6.7       india,in         2009        NaN\n",
            "12     12  39.0   $44k-$99k     0.0       india,in         1999        NaN\n",
            "13     13  25.0   $44k-$99k    -1.0  australia aus         2019        NaN\n",
            "14     14  66.0   $44k-$99k     4.0  australia aus         2020        NaN\n",
            "15     15  44.0  $88k-$101k     3.0  australia aus         1999        NaN\n",
            "16     16  19.0   $19k-$40k     4.5       india,in         1984        NaN\n",
            "17     17  39.0   $44k-$99k     5.3    new york,ny         1943        NaN\n",
            "18     18  35.0   $44k-$99k     6.7    new york,ny         1954        NaN\n",
            "19     19  32.0   $44k-$99k     3.3    new york,ny         1955        NaN\n",
            "20     20  39.0   $44k-$99k     5.7    new york,ny         1944        NaN\n",
            "21     21  35.0   $44k-$99k     5.0    new york,ny         1946        NaN\n",
            "22     22  19.0   $55k-$66k     7.8    new york,ny         1988        NaN\n",
            "23     23  39.0   $44k-$99k     2.4    new york,ny         1999        NaN\n",
            "24     24  13.0   $44k-$99k    -1.0    new york,ny         1987        NaN\n",
            "25     25  55.0   $44k-$99k     0.0  australia aus         1980        NaN\n",
            "26     26  39.0   $55k-$66k     NaN       india,in         1934        NaN\n",
            "27     27  52.0   $44k-$99k     5.4       india,in         1935        NaN\n",
            "28     28  39.0   $39k-$88k     3.4  australia aus         1932        NaN\n"
          ]
        }
      ],
      "source": [
        "text_columns = ['Location']\n",
        "\n",
        "\n",
        "for column in text_columns:\n",
        "    unique_values = data[column].unique()\n",
        "    print(f\"\\nUnique values in the '{column}' column:\")\n",
        "    print(unique_values)\n",
        "\n",
        "\n",
        "data['Location'] = data['Location'].str.replace(r'[^a-zA-Z0-9\\s,]', '', regex=True)\n",
        "data['Location'] = data['Location'].str.strip()\n",
        "\n",
        "\n",
        "print(\"\\nDataset after cleaning text-based columns:\")\n",
        "print(data)"
      ]
    },
    {
      "cell_type": "markdown",
      "metadata": {
        "id": "M7eRuPn41wdC"
      },
      "source": [
        "Q11. Data Integrity: Ensure data integrity by cross-referencing entries. For instance, does the Established column align with the Age column?\n"
      ]
    },
    {
      "cell_type": "code",
      "execution_count": null,
      "metadata": {
        "colab": {
          "base_uri": "https://localhost:8080/"
        },
        "id": "aOxWodf51vMP",
        "outputId": "1c5f5da2-3728-45b1-baf1-8f9b49dda730"
      },
      "outputs": [
        {
          "name": "stdout",
          "output_type": "stream",
          "text": [
            "Entries where 'Age' and 'Established' columns don't align:\n",
            "     Age  Established\n",
            "0   44.0         1999\n",
            "1   66.0         2002\n",
            "3   64.0         1988\n",
            "4   25.0         2002\n",
            "5   44.0         1999\n",
            "10  55.0         2008\n",
            "11  44.0         2009\n",
            "12  39.0         1999\n",
            "13  25.0         2019\n",
            "14  66.0         2020\n",
            "15  44.0         1999\n",
            "16  19.0         1984\n",
            "17  39.0         1943\n",
            "18  35.0         1954\n",
            "19  32.0         1955\n",
            "20  39.0         1944\n",
            "21  35.0         1946\n",
            "22  19.0         1988\n",
            "23  39.0         1999\n",
            "24  13.0         1987\n",
            "25  55.0         1980\n",
            "26  39.0         1934\n",
            "27  52.0         1935\n",
            "28  39.0         1932\n",
            "\n",
            "Dataset after handling misaligned entries:\n",
            "    Index   Age      Salary  Rating       Location  Established Easy Apply\n",
            "0       0  44.0   $44k-$99k     5.4       india,in         1999        NaN\n",
            "1       1  66.0   $55k-$66k     3.5    new york,ny         2002        NaN\n",
            "2       2  39.0   $77k-$89k    -1.0    new york,ny           -1        NaN\n",
            "3       3  64.0   $44k-$99k     4.4       india in         1988        NaN\n",
            "4       4  25.0   $44k-$99k     6.4  australia aus         2002        NaN\n",
            "5       5  44.0   $77k-$89k     1.4       india,in         1999        NaN\n",
            "6       6  21.0   $44k-$99k     0.0    new york,ny           -1        NaN\n",
            "7       7  44.0   $44k-$99k    -1.0  australia aus           -1        NaN\n",
            "8       8  35.0   $44k-$99k     5.4    new york,ny           -1        NaN\n",
            "9       9  22.0   $44k-$99k     7.7       india,in           -1        NaN\n",
            "10     10  55.0   $10k-$49k     5.4       india,in         2008        NaN\n",
            "11     11  44.0   $10k-$49k     6.7       india,in         2009        NaN\n",
            "12     12  39.0   $44k-$99k     0.0       india,in         1999        NaN\n",
            "13     13  25.0   $44k-$99k    -1.0  australia aus         2019        NaN\n",
            "14     14  66.0   $44k-$99k     4.0  australia aus         2020        NaN\n",
            "15     15  44.0  $88k-$101k     3.0  australia aus         1999        NaN\n",
            "16     16  19.0   $19k-$40k     4.5       india,in         1984        NaN\n",
            "17     17  39.0   $44k-$99k     5.3    new york,ny         1943        NaN\n",
            "18     18  35.0   $44k-$99k     6.7    new york,ny         1954        NaN\n",
            "19     19  32.0   $44k-$99k     3.3    new york,ny         1955        NaN\n",
            "20     20  39.0   $44k-$99k     5.7    new york,ny         1944        NaN\n",
            "21     21  35.0   $44k-$99k     5.0    new york,ny         1946        NaN\n",
            "22     22  19.0   $55k-$66k     7.8    new york,ny         1988        NaN\n",
            "23     23  39.0   $44k-$99k     2.4    new york,ny         1999        NaN\n",
            "24     24  13.0   $44k-$99k    -1.0    new york,ny         1987        NaN\n",
            "25     25  55.0   $44k-$99k     0.0  australia aus         1980        NaN\n",
            "26     26  39.0   $55k-$66k     NaN       india,in         1934        NaN\n",
            "27     27  52.0   $44k-$99k     5.4       india,in         1935        NaN\n",
            "28     28  39.0   $39k-$88k     3.4  australia aus         1932        NaN\n"
          ]
        }
      ],
      "source": [
        "misaligned_entries = data[data['Age'] != -1]  # Assuming -1 is used for missing values in 'Age'\n",
        "misaligned_entries = misaligned_entries[(misaligned_entries['Established'] != -1) & (misaligned_entries['Age'] - misaligned_entries['Established'] < 0)]\n",
        "\n",
        "print(\"Entries where 'Age' and 'Established' columns don't align:\")\n",
        "print(misaligned_entries[['Age', 'Established']])\n",
        "\n",
        "data.loc[data['Age'] == -1, 'Age'] = data['Established'] - data['Established'].min()\n",
        "\n",
        "\n",
        "print(\"\\nDataset after handling misaligned entries:\")\n",
        "print(data)"
      ]
    },
    {
      "cell_type": "markdown",
      "metadata": {
        "id": "EmB7vmbx2PXz"
      },
      "source": [
        "**Q12. Easy Apply Transformation: If the Easy Apply column contains non-boolean values, how can it be transformed into a usable format?**\n"
      ]
    },
    {
      "cell_type": "code",
      "execution_count": null,
      "metadata": {
        "colab": {
          "base_uri": "https://localhost:8080/"
        },
        "id": "unyy57lh2Uwr",
        "outputId": "45560bca-8fa8-40d0-fd36-b72734293e1a"
      },
      "outputs": [
        {
          "name": "stdout",
          "output_type": "stream",
          "text": [
            "Unique values in the 'Easy Apply' column:\n",
            "[nan]\n",
            "\n",
            "Data type of the 'Easy Apply' column: object\n",
            "\n",
            "Dataset after transforming 'Easy Apply' column:\n",
            "    Index   Age      Salary  Rating       Location  Established Easy Apply\n",
            "0       0  44.0   $44k-$99k     5.4       india,in         1999        NaN\n",
            "1       1  66.0   $55k-$66k     3.5    new york,ny         2002        NaN\n",
            "2       2  39.0   $77k-$89k    -1.0    new york,ny           -1        NaN\n",
            "3       3  64.0   $44k-$99k     4.4       india in         1988        NaN\n",
            "4       4  25.0   $44k-$99k     6.4  australia aus         2002        NaN\n",
            "5       5  44.0   $77k-$89k     1.4       india,in         1999        NaN\n",
            "6       6  21.0   $44k-$99k     0.0    new york,ny           -1        NaN\n",
            "7       7  44.0   $44k-$99k    -1.0  australia aus           -1        NaN\n",
            "8       8  35.0   $44k-$99k     5.4    new york,ny           -1        NaN\n",
            "9       9  22.0   $44k-$99k     7.7       india,in           -1        NaN\n",
            "10     10  55.0   $10k-$49k     5.4       india,in         2008        NaN\n",
            "11     11  44.0   $10k-$49k     6.7       india,in         2009        NaN\n",
            "12     12  39.0   $44k-$99k     0.0       india,in         1999        NaN\n",
            "13     13  25.0   $44k-$99k    -1.0  australia aus         2019        NaN\n",
            "14     14  66.0   $44k-$99k     4.0  australia aus         2020        NaN\n",
            "15     15  44.0  $88k-$101k     3.0  australia aus         1999        NaN\n",
            "16     16  19.0   $19k-$40k     4.5       india,in         1984        NaN\n",
            "17     17  39.0   $44k-$99k     5.3    new york,ny         1943        NaN\n",
            "18     18  35.0   $44k-$99k     6.7    new york,ny         1954        NaN\n",
            "19     19  32.0   $44k-$99k     3.3    new york,ny         1955        NaN\n",
            "20     20  39.0   $44k-$99k     5.7    new york,ny         1944        NaN\n",
            "21     21  35.0   $44k-$99k     5.0    new york,ny         1946        NaN\n",
            "22     22  19.0   $55k-$66k     7.8    new york,ny         1988        NaN\n",
            "23     23  39.0   $44k-$99k     2.4    new york,ny         1999        NaN\n",
            "24     24  13.0   $44k-$99k    -1.0    new york,ny         1987        NaN\n",
            "25     25  55.0   $44k-$99k     0.0  australia aus         1980        NaN\n",
            "26     26  39.0   $55k-$66k     NaN       india,in         1934        NaN\n",
            "27     27  52.0   $44k-$99k     5.4       india,in         1935        NaN\n",
            "28     28  39.0   $39k-$88k     3.4  australia aus         1932        NaN\n"
          ]
        }
      ],
      "source": [
        "unique_easy_apply_values = data['Easy Apply'].unique()\n",
        "\n",
        "print(\"Unique values in the 'Easy Apply' column:\")\n",
        "print(unique_easy_apply_values)\n",
        "\n",
        "easy_apply_data_type = data['Easy Apply'].dtype\n",
        "\n",
        "print(\"\\nData type of the 'Easy Apply' column:\", easy_apply_data_type)\n",
        "\n",
        "if easy_apply_data_type != bool:\n",
        "    data['Easy Apply'] = data['Easy Apply'].map({'TRUE': True, 'FALSE': False})\n",
        "\n",
        "print(\"\\nDataset after transforming 'Easy Apply' column:\")\n",
        "print(data)"
      ]
    },
    {
      "cell_type": "markdown",
      "metadata": {
        "id": "ZYvgK9cU2r_j"
      },
      "source": [
        "**Q13. Location Accuracy: Assess the accuracy of location entries. Are there misspelled or ambiguous locations that require correction?**\n"
      ]
    },
    {
      "cell_type": "code",
      "execution_count": null,
      "metadata": {
        "id": "0wq5mw2-2-uw"
      },
      "outputs": [],
      "source": []
    },
    {
      "cell_type": "markdown",
      "metadata": {
        "id": "IEQuuf_a2-Le"
      },
      "source": [
        "**Q14. Handling Categorical Data: For categorical indicators, consider encoding or transforming them into a format suitable for analysis**\n"
      ]
    },
    {
      "cell_type": "code",
      "execution_count": null,
      "metadata": {
        "colab": {
          "base_uri": "https://localhost:8080/"
        },
        "id": "J_YqyQim2vfg",
        "outputId": "981b5236-49b4-4a8c-9638-406d70e84d9c"
      },
      "outputs": [
        {
          "name": "stdout",
          "output_type": "stream",
          "text": [
            "Data types of each column:\n",
            "Index            int64\n",
            "Age            float64\n",
            "Salary          object\n",
            "Rating         float64\n",
            "Location        object\n",
            "Established      int64\n",
            "Easy Apply      object\n",
            "dtype: object\n",
            "\n",
            "Categorical columns:\n",
            "Index(['Salary', 'Location', 'Easy Apply'], dtype='object')\n",
            "\n",
            "Dataset after one-hot encoding categorical columns:\n",
            "    Index   Age  Rating  Established  Salary_$19k-$40k  Salary_$39k-$88k  \\\n",
            "0       0  44.0     5.4         1999                 0                 0   \n",
            "1       1  66.0     3.5         2002                 0                 0   \n",
            "2       2  39.0    -1.0           -1                 0                 0   \n",
            "3       3  64.0     4.4         1988                 0                 0   \n",
            "4       4  25.0     6.4         2002                 0                 0   \n",
            "5       5  44.0     1.4         1999                 0                 0   \n",
            "6       6  21.0     0.0           -1                 0                 0   \n",
            "7       7  44.0    -1.0           -1                 0                 0   \n",
            "8       8  35.0     5.4           -1                 0                 0   \n",
            "9       9  22.0     7.7           -1                 0                 0   \n",
            "10     10  55.0     5.4         2008                 0                 0   \n",
            "11     11  44.0     6.7         2009                 0                 0   \n",
            "12     12  39.0     0.0         1999                 0                 0   \n",
            "13     13  25.0    -1.0         2019                 0                 0   \n",
            "14     14  66.0     4.0         2020                 0                 0   \n",
            "15     15  44.0     3.0         1999                 0                 0   \n",
            "16     16  19.0     4.5         1984                 1                 0   \n",
            "17     17  39.0     5.3         1943                 0                 0   \n",
            "18     18  35.0     6.7         1954                 0                 0   \n",
            "19     19  32.0     3.3         1955                 0                 0   \n",
            "20     20  39.0     5.7         1944                 0                 0   \n",
            "21     21  35.0     5.0         1946                 0                 0   \n",
            "22     22  19.0     7.8         1988                 0                 0   \n",
            "23     23  39.0     2.4         1999                 0                 0   \n",
            "24     24  13.0    -1.0         1987                 0                 0   \n",
            "25     25  55.0     0.0         1980                 0                 0   \n",
            "26     26  39.0     NaN         1934                 0                 0   \n",
            "27     27  52.0     5.4         1935                 0                 0   \n",
            "28     28  39.0     3.4         1932                 0                 1   \n",
            "\n",
            "    Salary_$44k-$99k  Salary_$55k-$66k  Salary_$77k-$89k  Salary_$88k-$101k  \\\n",
            "0                  1                 0                 0                  0   \n",
            "1                  0                 1                 0                  0   \n",
            "2                  0                 0                 1                  0   \n",
            "3                  1                 0                 0                  0   \n",
            "4                  1                 0                 0                  0   \n",
            "5                  0                 0                 1                  0   \n",
            "6                  1                 0                 0                  0   \n",
            "7                  1                 0                 0                  0   \n",
            "8                  1                 0                 0                  0   \n",
            "9                  1                 0                 0                  0   \n",
            "10                 0                 0                 0                  0   \n",
            "11                 0                 0                 0                  0   \n",
            "12                 1                 0                 0                  0   \n",
            "13                 1                 0                 0                  0   \n",
            "14                 1                 0                 0                  0   \n",
            "15                 0                 0                 0                  1   \n",
            "16                 0                 0                 0                  0   \n",
            "17                 1                 0                 0                  0   \n",
            "18                 1                 0                 0                  0   \n",
            "19                 1                 0                 0                  0   \n",
            "20                 1                 0                 0                  0   \n",
            "21                 1                 0                 0                  0   \n",
            "22                 0                 1                 0                  0   \n",
            "23                 1                 0                 0                  0   \n",
            "24                 1                 0                 0                  0   \n",
            "25                 1                 0                 0                  0   \n",
            "26                 0                 1                 0                  0   \n",
            "27                 1                 0                 0                  0   \n",
            "28                 0                 0                 0                  0   \n",
            "\n",
            "    Location_india in  Location_india,in  Location_new york,ny  \n",
            "0                   0                  1                     0  \n",
            "1                   0                  0                     1  \n",
            "2                   0                  0                     1  \n",
            "3                   1                  0                     0  \n",
            "4                   0                  0                     0  \n",
            "5                   0                  1                     0  \n",
            "6                   0                  0                     1  \n",
            "7                   0                  0                     0  \n",
            "8                   0                  0                     1  \n",
            "9                   0                  1                     0  \n",
            "10                  0                  1                     0  \n",
            "11                  0                  1                     0  \n",
            "12                  0                  1                     0  \n",
            "13                  0                  0                     0  \n",
            "14                  0                  0                     0  \n",
            "15                  0                  0                     0  \n",
            "16                  0                  1                     0  \n",
            "17                  0                  0                     1  \n",
            "18                  0                  0                     1  \n",
            "19                  0                  0                     1  \n",
            "20                  0                  0                     1  \n",
            "21                  0                  0                     1  \n",
            "22                  0                  0                     1  \n",
            "23                  0                  0                     1  \n",
            "24                  0                  0                     1  \n",
            "25                  0                  0                     0  \n",
            "26                  0                  1                     0  \n",
            "27                  0                  1                     0  \n",
            "28                  0                  0                     0  \n"
          ]
        }
      ],
      "source": [
        "data_types = data.dtypes\n",
        "\n",
        "print(\"Data types of each column:\")\n",
        "print(data_types)\n",
        "\n",
        "categorical_columns = data.select_dtypes(include=['object']).columns\n",
        "\n",
        "print(\"\\nCategorical columns:\")\n",
        "print(categorical_columns)\n",
        "\n",
        "\n",
        "data_encoded = pd.get_dummies(data, columns=categorical_columns, drop_first=True)\n",
        "\n",
        "\n",
        "print(\"\\nDataset after one-hot encoding categorical columns:\")\n",
        "print(data_encoded)"
      ]
    },
    {
      "cell_type": "markdown",
      "metadata": {
        "id": "A2qU3eCp-qHC"
      },
      "source": [
        "**Q15. Consistent Rating Scale: Ensure a consistent rating scale in the Rating column. Should it be normalized or adjusted for uniform analysis?**\n"
      ]
    }
  ],
  "metadata": {
    "colab": {
      "provenance": []
    },
    "kernelspec": {
      "display_name": "Python 3",
      "name": "python3"
    },
    "language_info": {
      "codemirror_mode": {
        "name": "ipython",
        "version": 3
      },
      "file_extension": ".py",
      "mimetype": "text/x-python",
      "name": "python",
      "nbconvert_exporter": "python",
      "pygments_lexer": "ipython3",
      "version": "3.9.6"
    }
  },
  "nbformat": 4,
  "nbformat_minor": 0
}
