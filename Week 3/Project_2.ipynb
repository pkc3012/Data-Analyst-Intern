{
  "nbformat": 4,
  "nbformat_minor": 0,
  "metadata": {
    "colab": {
      "provenance": []
    },
    "kernelspec": {
      "name": "python3",
      "display_name": "Python 3"
    },
    "language_info": {
      "name": "python"
    }
  },
  "cells": [
    {
      "cell_type": "code",
      "execution_count": null,
      "metadata": {
        "id": "Zn2QhkqKNoUh"
      },
      "outputs": [],
      "source": [
        "#Importing libraries\n",
        "\n",
        "import numpy as np\n",
        "import pandas as pd\n"
      ]
    },
    {
      "cell_type": "markdown",
      "source": [
        "**Reading the data **"
      ],
      "metadata": {
        "id": "WXYN-RzbTgtc"
      }
    },
    {
      "cell_type": "code",
      "source": [
        "data = pd.read_csv (\"/content/chipotle.csv\")\n",
        "print(data)"
      ],
      "metadata": {
        "colab": {
          "base_uri": "https://localhost:8080/"
        },
        "id": "shIudU2sTjDy",
        "outputId": "8aa60fa5-7821-4602-e2e5-05ac9214afed"
      },
      "execution_count": null,
      "outputs": [
        {
          "output_type": "stream",
          "name": "stdout",
          "text": [
            "      order_id  quantity                              item_name  \\\n",
            "0            1         1           Chips and Fresh Tomato Salsa   \n",
            "1            1         1                                   Izze   \n",
            "2            1         1                       Nantucket Nectar   \n",
            "3            1         1  Chips and Tomatillo-Green Chili Salsa   \n",
            "4            2         2                           Chicken Bowl   \n",
            "...        ...       ...                                    ...   \n",
            "4617      1833         1                          Steak Burrito   \n",
            "4618      1833         1                          Steak Burrito   \n",
            "4619      1834         1                     Chicken Salad Bowl   \n",
            "4620      1834         1                     Chicken Salad Bowl   \n",
            "4621      1834         1                     Chicken Salad Bowl   \n",
            "\n",
            "                                     choice_description item_price  \n",
            "0                                                   NaN     $2.39   \n",
            "1                                          [Clementine]     $3.39   \n",
            "2                                               [Apple]     $3.39   \n",
            "3                                                   NaN     $2.39   \n",
            "4     [Tomatillo-Red Chili Salsa (Hot), [Black Beans...    $16.98   \n",
            "...                                                 ...        ...  \n",
            "4617  [Fresh Tomato Salsa, [Rice, Black Beans, Sour ...    $11.75   \n",
            "4618  [Fresh Tomato Salsa, [Rice, Sour Cream, Cheese...    $11.75   \n",
            "4619  [Fresh Tomato Salsa, [Fajita Vegetables, Pinto...    $11.25   \n",
            "4620  [Fresh Tomato Salsa, [Fajita Vegetables, Lettu...     $8.75   \n",
            "4621  [Fresh Tomato Salsa, [Fajita Vegetables, Pinto...     $8.75   \n",
            "\n",
            "[4622 rows x 5 columns]\n"
          ]
        }
      ]
    },
    {
      "cell_type": "markdown",
      "source": [
        "1. Missing Values:\n",
        "Question: Check for missing values in each column (Order ID, Quantity, Item Name, Choice Description, Item Price). How should missing values be handled?"
      ],
      "metadata": {
        "id": "2EOkzzKmZX9d"
      }
    },
    {
      "cell_type": "code",
      "source": [
        "# Check for missing values\n",
        "missing_values = data.isnull().sum()\n",
        "\n",
        "# Display the count of missing values for each column\n",
        "print(missing_values)\n",
        "\n",
        "# Handle missing values by dropping rows with any missing values\n",
        "data_cleaned = data.dropna()\n",
        "\n"
      ],
      "metadata": {
        "colab": {
          "base_uri": "https://localhost:8080/"
        },
        "id": "5diBOOeeZbOF",
        "outputId": "a9f97810-7c1a-4d08-946c-7c5783d7103f"
      },
      "execution_count": null,
      "outputs": [
        {
          "output_type": "stream",
          "name": "stdout",
          "text": [
            "order_id                 0\n",
            "quantity                 0\n",
            "item_name                0\n",
            "choice_description    1246\n",
            "item_price               0\n",
            "dtype: int64\n"
          ]
        }
      ]
    },
    {
      "cell_type": "markdown",
      "source": [
        "Q2. Data Types:\n",
        "Question: Verify the data types of each column. Do they align with their expected types, and should any adjustments be made?\n"
      ],
      "metadata": {
        "id": "_TdOeJdvZlrA"
      }
    },
    {
      "cell_type": "code",
      "source": [
        "# Display the data types of each column\n",
        "print(data.dtypes)\n",
        "\n"
      ],
      "metadata": {
        "colab": {
          "base_uri": "https://localhost:8080/"
        },
        "id": "I3sXvgaLZp0Z",
        "outputId": "151f0b71-2050-4aff-91ec-936368cd5c7f"
      },
      "execution_count": null,
      "outputs": [
        {
          "output_type": "stream",
          "name": "stdout",
          "text": [
            "order_id               int64\n",
            "quantity               int64\n",
            "item_name             object\n",
            "choice_description    object\n",
            "item_price            object\n",
            "dtype: object\n"
          ]
        }
      ]
    },
    {
      "cell_type": "markdown",
      "source": [
        "Q3. Duplicated Entries:\n",
        "Question: Identify and handle duplicated entries in the dataset. How might duplicates impact analysis, and what is the appropriate action?\n"
      ],
      "metadata": {
        "id": "RSdP8rT1Z7tj"
      }
    },
    {
      "cell_type": "code",
      "source": [
        "# Identify duplicated entries\n",
        "duplicates = data[data.duplicated()]\n",
        "\n",
        "# Display duplicated entries\n",
        "print(\"Duplicated Entries:\")\n",
        "print(duplicates)\n",
        "\n",
        "# Handle duplicates by dropping them\n",
        "data_no_duplicates = data.drop_duplicates()\n",
        "\n"
      ],
      "metadata": {
        "colab": {
          "base_uri": "https://localhost:8080/"
        },
        "id": "GEsuwFLWaBjY",
        "outputId": "6435e945-438a-4852-d813-a791934a1784"
      },
      "execution_count": null,
      "outputs": [
        {
          "output_type": "stream",
          "name": "stdout",
          "text": [
            "Duplicated Entries:\n",
            "      order_id  quantity                            item_name  \\\n",
            "238        103         1                        Steak Burrito   \n",
            "248        108         1                          Canned Soda   \n",
            "297        129         1                        Steak Burrito   \n",
            "381        165         1                    Canned Soft Drink   \n",
            "484        205         1                         Chicken Bowl   \n",
            "567        233         1                    Canned Soft Drink   \n",
            "617        254         1                                Chips   \n",
            "684        282         1                    Canned Soft Drink   \n",
            "773        319         1                         Chicken Bowl   \n",
            "908        376         1                        Steak Burrito   \n",
            "924        381         1                   Chicken Soft Tacos   \n",
            "1003       412         1                        Bottled Water   \n",
            "1117       462         1                      Chicken Burrito   \n",
            "1203       491         1                      Chicken Burrito   \n",
            "1245       507         1                    Canned Soft Drink   \n",
            "1381       561         1                    Canned Soft Drink   \n",
            "1410       573         1                        Bottled Water   \n",
            "1420       576         1                        Barbacoa Bowl   \n",
            "1421       576         1                  Barbacoa Salad Bowl   \n",
            "1502       610         1                      Chicken Burrito   \n",
            "1534       624         1  Chips and Tomatillo-Red Chili Salsa   \n",
            "1548       628         1                  Chips and Guacamole   \n",
            "1612       651         1                                 Izze   \n",
            "1791       724         1                    Canned Soft Drink   \n",
            "1792       724         1                    Canned Soft Drink   \n",
            "2078       838         1                   Chicken Soft Tacos   \n",
            "2127       856         1                      Chicken Burrito   \n",
            "2307       926         1                         Chicken Bowl   \n",
            "2318       926         1                         Chicken Bowl   \n",
            "2362       940         1                    Canned Soft Drink   \n",
            "2448       972         1                         Chicken Bowl   \n",
            "2553      1011         1                    Canned Soft Drink   \n",
            "2554      1011         1                    Canned Soft Drink   \n",
            "2560      1013         1                  Chips and Guacamole   \n",
            "2576      1020         1  Chips and Tomatillo Red Chili Salsa   \n",
            "2662      1057         1                   Chicken Soft Tacos   \n",
            "2708      1074         1                                Chips   \n",
            "2717      1078         1                         Chicken Bowl   \n",
            "2833      1125         1                      Chicken Burrito   \n",
            "2881      1144         1                        Bottled Water   \n",
            "2973      1182         1                         Chicken Bowl   \n",
            "2977      1184         1                           Steak Bowl   \n",
            "3121      1244         1                  Chips and Guacamole   \n",
            "3430      1377         1  Chips and Tomatillo Red Chili Salsa   \n",
            "3637      1454         1                   Chicken Soft Tacos   \n",
            "3716      1484         1                          Canned Soda   \n",
            "3764      1507         1                      Chicken Burrito   \n",
            "3829      1534         1                      Chicken Burrito   \n",
            "3924      1574         1                        Bottled Water   \n",
            "4112      1647         1                         Chicken Bowl   \n",
            "4155      1660         1                  Chips and Guacamole   \n",
            "4236      1691         1                         Chicken Bowl   \n",
            "4266      1701         1                                Chips   \n",
            "4372      1745         1                  Chips and Guacamole   \n",
            "4463      1778         1                    Canned Soft Drink   \n",
            "4479      1785         1                        Bottled Water   \n",
            "4544      1806         1                        Bottled Water   \n",
            "4570      1817         1                        Bottled Water   \n",
            "4603      1827         1                     Barbacoa Burrito   \n",
            "\n",
            "                                     choice_description item_price  \n",
            "238   [Tomatillo Red Chili Salsa, [Rice, Black Beans...    $11.75   \n",
            "248                                      [Mountain Dew]     $1.09   \n",
            "297   [Tomatillo Green Chili Salsa, [Rice, Cheese, G...    $11.75   \n",
            "381                                              [Coke]     $1.25   \n",
            "484   [Fresh Tomato Salsa, [Fajita Vegetables, Rice,...     $8.75   \n",
            "567                                         [Diet Coke]     $1.25   \n",
            "617                                                 NaN     $2.15   \n",
            "684                                              [Coke]     $1.25   \n",
            "773   [Tomatillo-Green Chili Salsa (Medium), Black B...     $8.49   \n",
            "908   [Roasted Chili Corn Salsa (Medium), [Rice, Faj...     $8.99   \n",
            "924           [Tomatillo-Red Chili Salsa (Hot), Cheese]     $8.49   \n",
            "1003                                                NaN     $1.50   \n",
            "1117  [Fresh Tomato Salsa, [Rice, Black Beans, Chees...    $11.25   \n",
            "1203  [Fresh Tomato Salsa, [Cheese, Sour Cream, Lett...     $8.75   \n",
            "1245                                         [Lemonade]     $1.25   \n",
            "1381                                             [Coke]     $1.25   \n",
            "1410                                                NaN     $1.50   \n",
            "1420                         [Roasted Chili Corn Salsa]     $9.25   \n",
            "1421                         [Roasted Chili Corn Salsa]     $9.39   \n",
            "1502  [Fresh Tomato Salsa, [Fajita Vegetables, Rice,...     $8.75   \n",
            "1534                                                NaN     $2.39   \n",
            "1548                                                NaN     $4.45   \n",
            "1612                                       [Blackberry]     $3.39   \n",
            "1791                                             [Coke]     $1.25   \n",
            "1792                                             [Coke]     $1.25   \n",
            "2078  [Fresh Tomato Salsa, [Cheese, Sour Cream, Lett...     $8.75   \n",
            "2127  [Fresh Tomato Salsa, [Rice, Black Beans, Chees...    $11.25   \n",
            "2307  [Roasted Chili Corn Salsa, [Fajita Vegetables,...     $8.75   \n",
            "2318  [Roasted Chili Corn Salsa, [Fajita Vegetables,...     $8.75   \n",
            "2362                                             [Coke]     $1.25   \n",
            "2448  [Tomatillo Red Chili Salsa, [Rice, Black Beans...     $8.75   \n",
            "2553                                             [Coke]     $1.25   \n",
            "2554                                             [Coke]     $1.25   \n",
            "2560                                                NaN     $4.45   \n",
            "2576                                                NaN     $2.95   \n",
            "2662  [Tomatillo Red Chili Salsa, [Fajita Vegetables...    $11.25   \n",
            "2708                                                NaN     $2.15   \n",
            "2717  [Fresh Tomato Salsa, [Rice, Black Beans, Chees...    $11.25   \n",
            "2833      [Fresh Tomato Salsa, [Rice, Cheese, Lettuce]]     $8.75   \n",
            "2881                                                NaN     $1.50   \n",
            "2973  [Tomatillo-Red Chili Salsa (Hot), [Rice, Black...     $8.49   \n",
            "2977  [Fresh Tomato Salsa, [Rice, Pinto Beans, Chees...     $9.25   \n",
            "3121                                                NaN     $4.45   \n",
            "3430                                                NaN     $2.95   \n",
            "3637                         [Fresh Tomato Salsa, Rice]     $8.75   \n",
            "3716                                       [Dr. Pepper]     $1.09   \n",
            "3764  [Fresh Tomato Salsa, [Rice, Black Beans, Chees...     $8.75   \n",
            "3829  [Fresh Tomato Salsa, [Rice, Cheese, Sour Cream...     $8.75   \n",
            "3924                                                NaN     $1.50   \n",
            "4112  [Fresh Tomato Salsa, [Fajita Vegetables, Rice,...    $11.25   \n",
            "4155                                                NaN     $4.45   \n",
            "4236                                       [White Rice]     $8.50   \n",
            "4266                                                NaN     $2.15   \n",
            "4372                                                NaN     $4.45   \n",
            "4463                                         [Lemonade]     $1.25   \n",
            "4479                                                NaN     $1.50   \n",
            "4544                                                NaN     $1.50   \n",
            "4570                                                NaN     $1.50   \n",
            "4603                      [Tomatillo Green Chili Salsa]     $9.25   \n"
          ]
        }
      ]
    },
    {
      "cell_type": "markdown",
      "source": [
        "Q5. Choice Description:\n",
        "Question: Analyze the Choice Description column. How should choices be handled, especially when there are multiple descriptions for a single item?\n"
      ],
      "metadata": {
        "id": "fSpSPh8zaYMK"
      }
    },
    {
      "cell_type": "code",
      "source": [
        "\n",
        "data['Combined_Description'] = data.groupby('item_name')['choice_description'].transform(lambda x: ', '.join(x.dropna()))\n",
        "\n",
        "# Drop duplicates to keep one row per unique item\n",
        "data_unique_items = data[['item_name', 'Combined_Description']].drop_duplicates()\n",
        "\n",
        "# Display the result\n",
        "print(data_unique_items)\n",
        "\n"
      ],
      "metadata": {
        "colab": {
          "base_uri": "https://localhost:8080/"
        },
        "id": "sV-OI09maonu",
        "outputId": "22972efb-92bc-4a9d-8634-585062195c53"
      },
      "execution_count": null,
      "outputs": [
        {
          "output_type": "stream",
          "name": "stdout",
          "text": [
            "                                  item_name  \\\n",
            "0              Chips and Fresh Tomato Salsa   \n",
            "1                                      Izze   \n",
            "2                          Nantucket Nectar   \n",
            "3     Chips and Tomatillo-Green Chili Salsa   \n",
            "4                              Chicken Bowl   \n",
            "6                             Side of Chips   \n",
            "7                             Steak Burrito   \n",
            "8                          Steak Soft Tacos   \n",
            "10                      Chips and Guacamole   \n",
            "11                     Chicken Crispy Tacos   \n",
            "12                       Chicken Soft Tacos   \n",
            "16                          Chicken Burrito   \n",
            "18                              Canned Soda   \n",
            "21                         Barbacoa Burrito   \n",
            "27                         Carnitas Burrito   \n",
            "33                            Carnitas Bowl   \n",
            "34                            Bottled Water   \n",
            "38    Chips and Tomatillo Green Chili Salsa   \n",
            "39                            Barbacoa Bowl   \n",
            "40                                    Chips   \n",
            "44                       Chicken Salad Bowl   \n",
            "54                               Steak Bowl   \n",
            "56                      Barbacoa Soft Tacos   \n",
            "57                           Veggie Burrito   \n",
            "62                              Veggie Bowl   \n",
            "92                       Steak Crispy Tacos   \n",
            "111     Chips and Tomatillo Red Chili Salsa   \n",
            "168                   Barbacoa Crispy Tacos   \n",
            "186                       Veggie Salad Bowl   \n",
            "191      Chips and Roasted Chili-Corn Salsa   \n",
            "233      Chips and Roasted Chili Corn Salsa   \n",
            "237                     Carnitas Soft Tacos   \n",
            "250                           Chicken Salad   \n",
            "263                       Canned Soft Drink   \n",
            "281                        Steak Salad Bowl   \n",
            "298                       6 Pack Soft Drink   \n",
            "300     Chips and Tomatillo-Red Chili Salsa   \n",
            "445                                    Bowl   \n",
            "510                                 Burrito   \n",
            "520                            Crispy Tacos   \n",
            "554                   Carnitas Crispy Tacos   \n",
            "664                             Steak Salad   \n",
            "674       Chips and Mild Fresh Tomato Salsa   \n",
            "738                       Veggie Soft Tacos   \n",
            "1132                    Carnitas Salad Bowl   \n",
            "1229                    Barbacoa Salad Bowl   \n",
            "1414                                  Salad   \n",
            "1653                    Veggie Crispy Tacos   \n",
            "1694                           Veggie Salad   \n",
            "3750                         Carnitas Salad   \n",
            "\n",
            "                                   Combined_Description  \n",
            "0                                                        \n",
            "1     [Clementine], [Grapefruit], [Blackberry], [Bla...  \n",
            "2     [Apple], [Pomegranate Cherry], [Pineapple Oran...  \n",
            "3                                                        \n",
            "4     [Tomatillo-Red Chili Salsa (Hot), [Black Beans...  \n",
            "6                                                        \n",
            "7     [Tomatillo Red Chili Salsa, [Fajita Vegetables...  \n",
            "8     [Tomatillo Green Chili Salsa, [Pinto Beans, Ch...  \n",
            "10                                                       \n",
            "11    [Roasted Chili Corn Salsa, [Fajita Vegetables,...  \n",
            "12    [Roasted Chili Corn Salsa, [Rice, Black Beans,...  \n",
            "16    [Tomatillo-Green Chili Salsa (Medium), [Pinto ...  \n",
            "18    [Sprite], [Dr. Pepper], [Mountain Dew], [Sprit...  \n",
            "21    [[Fresh Tomato Salsa (Mild), Tomatillo-Green C...  \n",
            "27    [[Tomatillo-Green Chili Salsa (Medium), Roaste...  \n",
            "33    [Tomatillo-Red Chili Salsa (Hot), [Black Beans...  \n",
            "34                                                       \n",
            "38                                                       \n",
            "39    [Roasted Chili Corn Salsa, [Fajita Vegetables,...  \n",
            "40                                                       \n",
            "44    [Fresh Tomato Salsa, [Fajita Vegetables, Pinto...  \n",
            "54    [Fresh Tomato Salsa (Mild), [Black Beans, Rice...  \n",
            "56    [Fresh Tomato Salsa, [Fajita Vegetables, Black...  \n",
            "57    [Tomatillo Red Chili Salsa, [Fajita Vegetables...  \n",
            "62    [Fresh Tomato Salsa, [Fajita Vegetables, Rice,...  \n",
            "92    [Fresh Tomato Salsa, Sour Cream], [[Roasted Ch...  \n",
            "111                                                      \n",
            "168   [Tomatillo Red Chili Salsa, [Rice, Black Beans...  \n",
            "186   [Fresh Tomato Salsa, [Fajita Vegetables, Rice,...  \n",
            "191                                                      \n",
            "233                                                      \n",
            "237   [Tomatillo Green Chili Salsa, [Fajita Vegetabl...  \n",
            "250   [Roasted Chili Corn Salsa (Medium), [Black Bea...  \n",
            "263   [Coke], [Sprite], [Coke], [Coke], [Lemonade], ...  \n",
            "281   [Tomatillo Red Chili Salsa, [Black Beans, Chee...  \n",
            "298   [Sprite], [Diet Coke], [Coke], [Diet Coke], [D...  \n",
            "300                                                      \n",
            "445   [Braised Carnitas, Pinto Beans, [Sour Cream, C...  \n",
            "510   [Adobo-Marinated and Grilled Chicken, Pinto Be...  \n",
            "520   [Adobo-Marinated and Grilled Steak], [Adobo-Ma...  \n",
            "554   [Roasted Chili Corn Salsa], [Tomatillo Green C...  \n",
            "664   [Tomatillo-Red Chili Salsa (Hot), [Black Beans...  \n",
            "674                                                      \n",
            "738   [Tomatillo Red Chili Salsa, [Fajita Vegetables...  \n",
            "1132  [Fresh Tomato Salsa, [Rice, Black Beans, Chees...  \n",
            "1229  [Fresh Tomato Salsa, [Rice, Fajita Vegetables,...  \n",
            "1414  [Brown Rice, Adobo-Marinated and Grilled Chick...  \n",
            "1653  [Fresh Tomato Salsa (Mild), [Pinto Beans, Rice...  \n",
            "1694  [[Fresh Tomato Salsa (Mild), Roasted Chili Cor...  \n",
            "3750  [[Fresh Tomato Salsa (Mild), Roasted Chili Cor...  \n"
          ]
        }
      ]
    },
    {
      "cell_type": "markdown",
      "source": [
        "8. Item Name Standardization:\n",
        "Question: Standardize the Item Name column. Are there variations that can be unified for better analysis?\n"
      ],
      "metadata": {
        "id": "f4wegoQJir7o"
      }
    },
    {
      "cell_type": "code",
      "source": [
        "\n",
        "# Display unique values in the Item Name column\n",
        "unique_item_names = data['item_name'].unique()\n",
        "\n",
        "# Define a mapping or function for standardization\n",
        "# Example: Convert all item names to lowercase\n",
        "data['standardized_item_name'] = data['item_name'].str.lower()\n",
        "\n",
        "# Display the result\n",
        "print(data[['item_name', 'standardized_item_name']].head())\n"
      ],
      "metadata": {
        "id": "wNYSOs_nitE6",
        "outputId": "0bef01cb-c9c2-4385-f04d-cb5baae727c1",
        "colab": {
          "base_uri": "https://localhost:8080/"
        }
      },
      "execution_count": null,
      "outputs": [
        {
          "output_type": "stream",
          "name": "stdout",
          "text": [
            "                               item_name  \\\n",
            "0           Chips and Fresh Tomato Salsa   \n",
            "1                                   Izze   \n",
            "2                       Nantucket Nectar   \n",
            "3  Chips and Tomatillo-Green Chili Salsa   \n",
            "4                           Chicken Bowl   \n",
            "\n",
            "                  standardized_item_name  \n",
            "0           chips and fresh tomato salsa  \n",
            "1                                   izze  \n",
            "2                       nantucket nectar  \n",
            "3  chips and tomatillo-green chili salsa  \n",
            "4                           chicken bowl  \n"
          ]
        }
      ]
    },
    {
      "cell_type": "markdown",
      "source": [
        "Q) Handling the categorical data"
      ],
      "metadata": {
        "id": "76dAqTSoJnTH"
      }
    },
    {
      "cell_type": "code",
      "source": [
        "# Use one-hot encoding for the 'item_name' column\n",
        "data_encoded = pd.get_dummies(data, columns=['item_name'], prefix='item')\n",
        "\n",
        "# Display the result\n",
        "print(data_encoded.head())"
      ],
      "metadata": {
        "colab": {
          "base_uri": "https://localhost:8080/"
        },
        "id": "-U18jWGxIg_g",
        "outputId": "4575a1da-826d-438e-abe0-a4b56dd81ded"
      },
      "execution_count": null,
      "outputs": [
        {
          "output_type": "stream",
          "name": "stdout",
          "text": [
            "   order_id  quantity                                 choice_description  \\\n",
            "0         1         1                                                NaN   \n",
            "1         1         1                                       [Clementine]   \n",
            "2         1         1                                            [Apple]   \n",
            "3         1         1                                                NaN   \n",
            "4         2         2  [Tomatillo-Red Chili Salsa (Hot), [Black Beans...   \n",
            "\n",
            "  item_price                               Combined_Description  \\\n",
            "0     $2.39                                                       \n",
            "1     $3.39   [Clementine], [Grapefruit], [Blackberry], [Bla...   \n",
            "2     $3.39   [Apple], [Pomegranate Cherry], [Pineapple Oran...   \n",
            "3     $2.39                                                       \n",
            "4    $16.98   [Tomatillo-Red Chili Salsa (Hot), [Black Beans...   \n",
            "\n",
            "                  standardized_item_name  item_6 Pack Soft Drink  \\\n",
            "0           chips and fresh tomato salsa                       0   \n",
            "1                                   izze                       0   \n",
            "2                       nantucket nectar                       0   \n",
            "3  chips and tomatillo-green chili salsa                       0   \n",
            "4                           chicken bowl                       0   \n",
            "\n",
            "   item_Barbacoa Bowl  item_Barbacoa Burrito  item_Barbacoa Crispy Tacos  ...  \\\n",
            "0                   0                      0                           0  ...   \n",
            "1                   0                      0                           0  ...   \n",
            "2                   0                      0                           0  ...   \n",
            "3                   0                      0                           0  ...   \n",
            "4                   0                      0                           0  ...   \n",
            "\n",
            "   item_Steak Crispy Tacos  item_Steak Salad  item_Steak Salad Bowl  \\\n",
            "0                        0                 0                      0   \n",
            "1                        0                 0                      0   \n",
            "2                        0                 0                      0   \n",
            "3                        0                 0                      0   \n",
            "4                        0                 0                      0   \n",
            "\n",
            "   item_Steak Soft Tacos  item_Veggie Bowl  item_Veggie Burrito  \\\n",
            "0                      0                 0                    0   \n",
            "1                      0                 0                    0   \n",
            "2                      0                 0                    0   \n",
            "3                      0                 0                    0   \n",
            "4                      0                 0                    0   \n",
            "\n",
            "   item_Veggie Crispy Tacos  item_Veggie Salad  item_Veggie Salad Bowl  \\\n",
            "0                         0                  0                       0   \n",
            "1                         0                  0                       0   \n",
            "2                         0                  0                       0   \n",
            "3                         0                  0                       0   \n",
            "4                         0                  0                       0   \n",
            "\n",
            "   item_Veggie Soft Tacos  \n",
            "0                       0  \n",
            "1                       0  \n",
            "2                       0  \n",
            "3                       0  \n",
            "4                       0  \n",
            "\n",
            "[5 rows x 56 columns]\n"
          ]
        }
      ]
    },
    {
      "cell_type": "markdown",
      "source": [
        "Q) Converting the chipotle file to csv"
      ],
      "metadata": {
        "id": "FRtwpaeCKG89"
      }
    },
    {
      "cell_type": "code",
      "source": [
        "\n",
        "# Assuming 'data' is your cleaned DataFrame\n",
        "\n",
        "# Specify the file path where you want to save the CSV file\n",
        "csv_file_path = '/content/chipotle_cleaned.csv'\n",
        "\n",
        "# Convert the cleaned DataFrame to CSV\n",
        "data.to_csv(csv_file_path, sep=',', index=False)\n",
        "\n",
        "# Display a message indicating the successful conversion\n",
        "print(f\"The cleaned dataset has been successfully saved to: {csv_file_path}\")\n"
      ],
      "metadata": {
        "colab": {
          "base_uri": "https://localhost:8080/"
        },
        "id": "zv2flFgxKLur",
        "outputId": "d6fc04e7-25cc-4781-b3f5-dbc6a699fab9"
      },
      "execution_count": null,
      "outputs": [
        {
          "output_type": "stream",
          "name": "stdout",
          "text": [
            "The cleaned dataset has been successfully saved to: /content/chipotle_cleaned.csv\n"
          ]
        }
      ]
    }
  ]
}