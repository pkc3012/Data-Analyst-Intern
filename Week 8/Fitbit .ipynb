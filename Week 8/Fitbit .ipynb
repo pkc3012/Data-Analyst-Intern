{
 "cells": [
  {
   "cell_type": "code",
   "execution_count": 1,
   "id": "labeled-helmet",
   "metadata": {
    "_cell_guid": "53bedab9-16e6-459a-b3ce-e0c6449b246f",
    "_uuid": "27e4f97b-1e17-462c-9cfe-d044b42cc1a7",
    "collapsed": false,
    "execution": {
     "iopub.execute_input": "2021-07-09T05:00:53.934508Z",
     "iopub.status.busy": "2021-07-09T05:00:53.933929Z",
     "iopub.status.idle": "2021-07-09T05:00:53.936961Z",
     "shell.execute_reply": "2021-07-09T05:00:53.936299Z",
     "shell.execute_reply.started": "2021-07-09T05:00:04.624347Z"
    },
    "jupyter": {
     "outputs_hidden": false
    },
    "papermill": {
     "duration": 0.034709,
     "end_time": "2021-07-09T05:00:53.937136",
     "exception": false,
     "start_time": "2021-07-09T05:00:53.902427",
     "status": "completed"
    },
    "tags": []
   },
   "outputs": [],
   "source": [
    "# import packages and alias\n",
    "import numpy as np # data arrays\n",
    "import pandas as pd # data structure and data analysis\n",
    "import matplotlib as plt # data visualization\n",
    "import datetime as dt # date time"
   ]
  },
  {
   "cell_type": "code",
   "execution_count": 2,
   "id": "drawn-senator",
   "metadata": {
    "_cell_guid": "7b95c099-c3e8-46f8-b60b-cbfaac7c3cd2",
    "_uuid": "c67360eb-49d0-4d8c-b436-ae473e3c7623",
    "collapsed": false,
    "execution": {
     "iopub.execute_input": "2021-07-09T05:00:54.077932Z",
     "iopub.status.busy": "2021-07-09T05:00:54.077310Z",
     "iopub.status.idle": "2021-07-09T05:00:54.102755Z",
     "shell.execute_reply": "2021-07-09T05:00:54.102214Z",
     "shell.execute_reply.started": "2021-07-09T05:00:04.638259Z"
    },
    "jupyter": {
     "outputs_hidden": false
    },
    "papermill": {
     "duration": 0.052581,
     "end_time": "2021-07-09T05:00:54.102905",
     "exception": false,
     "start_time": "2021-07-09T05:00:54.050324",
     "status": "completed"
    },
    "tags": []
   },
   "outputs": [],
   "source": [
    "# read_csv function to read the required CSV file\n",
    "daily_activity = pd.read_csv(\"D:\\Prepinsta\\Week 8\\Fitabase Data 4.12.16-5.12.16\\dailyActivity_merged.csv\")"
   ]
  },
  {
   "cell_type": "markdown",
   "id": "operating-biology",
   "metadata": {
    "_cell_guid": "7d80d7cf-e7f6-4951-9a8d-ec20258a2f2f",
    "_uuid": "23415393-9f2d-48ff-9cf7-9b56d0b9d2fc",
    "papermill": {
     "duration": 0.022429,
     "end_time": "2021-07-09T05:00:54.148159",
     "exception": false,
     "start_time": "2021-07-09T05:00:54.125730",
     "status": "completed"
    },
    "tags": []
   },
   "source": [
    "#### 1. Data cleaning and manipulation\n",
    "\n",
    "##### Steps\n",
    "\n",
    "1. Observe and familiarize with data\n",
    "\n",
    "2. Check for null or missing values\n",
    "\n",
    "3. Perform sanity check of data"
   ]
  },
  {
   "cell_type": "markdown",
   "id": "personal-helmet",
   "metadata": {
    "papermill": {
     "duration": 0.022295,
     "end_time": "2021-07-09T05:00:54.193236",
     "exception": false,
     "start_time": "2021-07-09T05:00:54.170941",
     "status": "completed"
    },
    "tags": []
   },
   "source": [
    "Previewing using head function to show the first 10 rows of daily_activity to familiarise with the data."
   ]
  },
  {
   "cell_type": "code",
   "execution_count": 3,
   "id": "collectible-country",
   "metadata": {
    "_cell_guid": "4126117c-5d8d-47f5-be26-ad0ef695ec29",
    "_uuid": "941abfee-ce91-435a-9a7f-22e129b45d30",
    "collapsed": false,
    "execution": {
     "iopub.execute_input": "2021-07-09T05:00:54.250511Z",
     "iopub.status.busy": "2021-07-09T05:00:54.249724Z",
     "iopub.status.idle": "2021-07-09T05:00:54.278117Z",
     "shell.execute_reply": "2021-07-09T05:00:54.278594Z",
     "shell.execute_reply.started": "2021-07-09T05:00:04.698951Z"
    },
    "jupyter": {
     "outputs_hidden": false
    },
    "papermill": {
     "duration": 0.062841,
     "end_time": "2021-07-09T05:00:54.278767",
     "exception": false,
     "start_time": "2021-07-09T05:00:54.215926",
     "status": "completed"
    },
    "tags": []
   },
   "outputs": [
    {
     "data": {
      "text/html": [
       "<div>\n",
       "<style scoped>\n",
       "    .dataframe tbody tr th:only-of-type {\n",
       "        vertical-align: middle;\n",
       "    }\n",
       "\n",
       "    .dataframe tbody tr th {\n",
       "        vertical-align: top;\n",
       "    }\n",
       "\n",
       "    .dataframe thead th {\n",
       "        text-align: right;\n",
       "    }\n",
       "</style>\n",
       "<table border=\"1\" class=\"dataframe\">\n",
       "  <thead>\n",
       "    <tr style=\"text-align: right;\">\n",
       "      <th></th>\n",
       "      <th>Id</th>\n",
       "      <th>ActivityDate</th>\n",
       "      <th>TotalSteps</th>\n",
       "      <th>TotalDistance</th>\n",
       "      <th>TrackerDistance</th>\n",
       "      <th>LoggedActivitiesDistance</th>\n",
       "      <th>VeryActiveDistance</th>\n",
       "      <th>ModeratelyActiveDistance</th>\n",
       "      <th>LightActiveDistance</th>\n",
       "      <th>SedentaryActiveDistance</th>\n",
       "      <th>VeryActiveMinutes</th>\n",
       "      <th>FairlyActiveMinutes</th>\n",
       "      <th>LightlyActiveMinutes</th>\n",
       "      <th>SedentaryMinutes</th>\n",
       "      <th>Calories</th>\n",
       "    </tr>\n",
       "  </thead>\n",
       "  <tbody>\n",
       "    <tr>\n",
       "      <th>0</th>\n",
       "      <td>1503960366</td>\n",
       "      <td>4/12/2016</td>\n",
       "      <td>13162</td>\n",
       "      <td>8.50</td>\n",
       "      <td>8.50</td>\n",
       "      <td>0.0</td>\n",
       "      <td>1.88</td>\n",
       "      <td>0.55</td>\n",
       "      <td>6.06</td>\n",
       "      <td>0.0</td>\n",
       "      <td>25</td>\n",
       "      <td>13</td>\n",
       "      <td>328</td>\n",
       "      <td>728</td>\n",
       "      <td>1985</td>\n",
       "    </tr>\n",
       "    <tr>\n",
       "      <th>1</th>\n",
       "      <td>1503960366</td>\n",
       "      <td>4/13/2016</td>\n",
       "      <td>10735</td>\n",
       "      <td>6.97</td>\n",
       "      <td>6.97</td>\n",
       "      <td>0.0</td>\n",
       "      <td>1.57</td>\n",
       "      <td>0.69</td>\n",
       "      <td>4.71</td>\n",
       "      <td>0.0</td>\n",
       "      <td>21</td>\n",
       "      <td>19</td>\n",
       "      <td>217</td>\n",
       "      <td>776</td>\n",
       "      <td>1797</td>\n",
       "    </tr>\n",
       "    <tr>\n",
       "      <th>2</th>\n",
       "      <td>1503960366</td>\n",
       "      <td>4/14/2016</td>\n",
       "      <td>10460</td>\n",
       "      <td>6.74</td>\n",
       "      <td>6.74</td>\n",
       "      <td>0.0</td>\n",
       "      <td>2.44</td>\n",
       "      <td>0.40</td>\n",
       "      <td>3.91</td>\n",
       "      <td>0.0</td>\n",
       "      <td>30</td>\n",
       "      <td>11</td>\n",
       "      <td>181</td>\n",
       "      <td>1218</td>\n",
       "      <td>1776</td>\n",
       "    </tr>\n",
       "    <tr>\n",
       "      <th>3</th>\n",
       "      <td>1503960366</td>\n",
       "      <td>4/15/2016</td>\n",
       "      <td>9762</td>\n",
       "      <td>6.28</td>\n",
       "      <td>6.28</td>\n",
       "      <td>0.0</td>\n",
       "      <td>2.14</td>\n",
       "      <td>1.26</td>\n",
       "      <td>2.83</td>\n",
       "      <td>0.0</td>\n",
       "      <td>29</td>\n",
       "      <td>34</td>\n",
       "      <td>209</td>\n",
       "      <td>726</td>\n",
       "      <td>1745</td>\n",
       "    </tr>\n",
       "    <tr>\n",
       "      <th>4</th>\n",
       "      <td>1503960366</td>\n",
       "      <td>4/16/2016</td>\n",
       "      <td>12669</td>\n",
       "      <td>8.16</td>\n",
       "      <td>8.16</td>\n",
       "      <td>0.0</td>\n",
       "      <td>2.71</td>\n",
       "      <td>0.41</td>\n",
       "      <td>5.04</td>\n",
       "      <td>0.0</td>\n",
       "      <td>36</td>\n",
       "      <td>10</td>\n",
       "      <td>221</td>\n",
       "      <td>773</td>\n",
       "      <td>1863</td>\n",
       "    </tr>\n",
       "    <tr>\n",
       "      <th>5</th>\n",
       "      <td>1503960366</td>\n",
       "      <td>4/17/2016</td>\n",
       "      <td>9705</td>\n",
       "      <td>6.48</td>\n",
       "      <td>6.48</td>\n",
       "      <td>0.0</td>\n",
       "      <td>3.19</td>\n",
       "      <td>0.78</td>\n",
       "      <td>2.51</td>\n",
       "      <td>0.0</td>\n",
       "      <td>38</td>\n",
       "      <td>20</td>\n",
       "      <td>164</td>\n",
       "      <td>539</td>\n",
       "      <td>1728</td>\n",
       "    </tr>\n",
       "    <tr>\n",
       "      <th>6</th>\n",
       "      <td>1503960366</td>\n",
       "      <td>4/18/2016</td>\n",
       "      <td>13019</td>\n",
       "      <td>8.59</td>\n",
       "      <td>8.59</td>\n",
       "      <td>0.0</td>\n",
       "      <td>3.25</td>\n",
       "      <td>0.64</td>\n",
       "      <td>4.71</td>\n",
       "      <td>0.0</td>\n",
       "      <td>42</td>\n",
       "      <td>16</td>\n",
       "      <td>233</td>\n",
       "      <td>1149</td>\n",
       "      <td>1921</td>\n",
       "    </tr>\n",
       "    <tr>\n",
       "      <th>7</th>\n",
       "      <td>1503960366</td>\n",
       "      <td>4/19/2016</td>\n",
       "      <td>15506</td>\n",
       "      <td>9.88</td>\n",
       "      <td>9.88</td>\n",
       "      <td>0.0</td>\n",
       "      <td>3.53</td>\n",
       "      <td>1.32</td>\n",
       "      <td>5.03</td>\n",
       "      <td>0.0</td>\n",
       "      <td>50</td>\n",
       "      <td>31</td>\n",
       "      <td>264</td>\n",
       "      <td>775</td>\n",
       "      <td>2035</td>\n",
       "    </tr>\n",
       "    <tr>\n",
       "      <th>8</th>\n",
       "      <td>1503960366</td>\n",
       "      <td>4/20/2016</td>\n",
       "      <td>10544</td>\n",
       "      <td>6.68</td>\n",
       "      <td>6.68</td>\n",
       "      <td>0.0</td>\n",
       "      <td>1.96</td>\n",
       "      <td>0.48</td>\n",
       "      <td>4.24</td>\n",
       "      <td>0.0</td>\n",
       "      <td>28</td>\n",
       "      <td>12</td>\n",
       "      <td>205</td>\n",
       "      <td>818</td>\n",
       "      <td>1786</td>\n",
       "    </tr>\n",
       "    <tr>\n",
       "      <th>9</th>\n",
       "      <td>1503960366</td>\n",
       "      <td>4/21/2016</td>\n",
       "      <td>9819</td>\n",
       "      <td>6.34</td>\n",
       "      <td>6.34</td>\n",
       "      <td>0.0</td>\n",
       "      <td>1.34</td>\n",
       "      <td>0.35</td>\n",
       "      <td>4.65</td>\n",
       "      <td>0.0</td>\n",
       "      <td>19</td>\n",
       "      <td>8</td>\n",
       "      <td>211</td>\n",
       "      <td>838</td>\n",
       "      <td>1775</td>\n",
       "    </tr>\n",
       "  </tbody>\n",
       "</table>\n",
       "</div>"
      ],
      "text/plain": [
       "           Id ActivityDate  TotalSteps  TotalDistance  TrackerDistance  \\\n",
       "0  1503960366    4/12/2016       13162           8.50             8.50   \n",
       "1  1503960366    4/13/2016       10735           6.97             6.97   \n",
       "2  1503960366    4/14/2016       10460           6.74             6.74   \n",
       "3  1503960366    4/15/2016        9762           6.28             6.28   \n",
       "4  1503960366    4/16/2016       12669           8.16             8.16   \n",
       "5  1503960366    4/17/2016        9705           6.48             6.48   \n",
       "6  1503960366    4/18/2016       13019           8.59             8.59   \n",
       "7  1503960366    4/19/2016       15506           9.88             9.88   \n",
       "8  1503960366    4/20/2016       10544           6.68             6.68   \n",
       "9  1503960366    4/21/2016        9819           6.34             6.34   \n",
       "\n",
       "   LoggedActivitiesDistance  VeryActiveDistance  ModeratelyActiveDistance  \\\n",
       "0                       0.0                1.88                      0.55   \n",
       "1                       0.0                1.57                      0.69   \n",
       "2                       0.0                2.44                      0.40   \n",
       "3                       0.0                2.14                      1.26   \n",
       "4                       0.0                2.71                      0.41   \n",
       "5                       0.0                3.19                      0.78   \n",
       "6                       0.0                3.25                      0.64   \n",
       "7                       0.0                3.53                      1.32   \n",
       "8                       0.0                1.96                      0.48   \n",
       "9                       0.0                1.34                      0.35   \n",
       "\n",
       "   LightActiveDistance  SedentaryActiveDistance  VeryActiveMinutes  \\\n",
       "0                 6.06                      0.0                 25   \n",
       "1                 4.71                      0.0                 21   \n",
       "2                 3.91                      0.0                 30   \n",
       "3                 2.83                      0.0                 29   \n",
       "4                 5.04                      0.0                 36   \n",
       "5                 2.51                      0.0                 38   \n",
       "6                 4.71                      0.0                 42   \n",
       "7                 5.03                      0.0                 50   \n",
       "8                 4.24                      0.0                 28   \n",
       "9                 4.65                      0.0                 19   \n",
       "\n",
       "   FairlyActiveMinutes  LightlyActiveMinutes  SedentaryMinutes  Calories  \n",
       "0                   13                   328               728      1985  \n",
       "1                   19                   217               776      1797  \n",
       "2                   11                   181              1218      1776  \n",
       "3                   34                   209               726      1745  \n",
       "4                   10                   221               773      1863  \n",
       "5                   20                   164               539      1728  \n",
       "6                   16                   233              1149      1921  \n",
       "7                   31                   264               775      2035  \n",
       "8                   12                   205               818      1786  \n",
       "9                    8                   211               838      1775  "
      ]
     },
     "execution_count": 3,
     "metadata": {},
     "output_type": "execute_result"
    }
   ],
   "source": [
    "# preview first 10 rows with all columns\n",
    "daily_activity.head(10)"
   ]
  },
  {
   "cell_type": "markdown",
   "id": "indie-windows",
   "metadata": {
    "papermill": {
     "duration": 0.023195,
     "end_time": "2021-07-09T05:00:54.325817",
     "exception": false,
     "start_time": "2021-07-09T05:00:54.302622",
     "status": "completed"
    },
    "tags": []
   },
   "source": [
    "Then, finding out whether there is any null or missing values in daily_activity."
   ]
  },
  {
   "cell_type": "code",
   "execution_count": 4,
   "id": "stunning-lincoln",
   "metadata": {
    "_cell_guid": "af5c7249-a592-4e10-bacd-4188ce32fabc",
    "_uuid": "29266e28-766a-41e4-bd3f-1c945baea3bb",
    "collapsed": false,
    "execution": {
     "iopub.execute_input": "2021-07-09T05:00:54.380669Z",
     "iopub.status.busy": "2021-07-09T05:00:54.379945Z",
     "iopub.status.idle": "2021-07-09T05:00:54.383024Z",
     "shell.execute_reply": "2021-07-09T05:00:54.382488Z",
     "shell.execute_reply.started": "2021-07-09T05:00:04.740277Z"
    },
    "jupyter": {
     "outputs_hidden": false
    },
    "papermill": {
     "duration": 0.033758,
     "end_time": "2021-07-09T05:00:54.383172",
     "exception": false,
     "start_time": "2021-07-09T05:00:54.349414",
     "status": "completed"
    },
    "tags": []
   },
   "outputs": [
    {
     "data": {
      "text/plain": [
       "Id                          0\n",
       "ActivityDate                0\n",
       "TotalSteps                  0\n",
       "TotalDistance               0\n",
       "TrackerDistance             0\n",
       "LoggedActivitiesDistance    0\n",
       "VeryActiveDistance          0\n",
       "ModeratelyActiveDistance    0\n",
       "LightActiveDistance         0\n",
       "SedentaryActiveDistance     0\n",
       "VeryActiveMinutes           0\n",
       "FairlyActiveMinutes         0\n",
       "LightlyActiveMinutes        0\n",
       "SedentaryMinutes            0\n",
       "Calories                    0\n",
       "dtype: int64"
      ]
     },
     "execution_count": 4,
     "metadata": {},
     "output_type": "execute_result"
    }
   ],
   "source": [
    "# obtain the # of missing data points per column\n",
    "missing_values_count = daily_activity.isnull().sum()\n",
    "\n",
    "# look at the # of missing points in all columns\n",
    "missing_values_count[:]"
   ]
  },
  {
   "cell_type": "markdown",
   "id": "racial-veteran",
   "metadata": {
    "papermill": {
     "duration": 0.023496,
     "end_time": "2021-07-09T05:00:54.430903",
     "exception": false,
     "start_time": "2021-07-09T05:00:54.407407",
     "status": "completed"
    },
    "tags": []
   },
   "source": [
    "Finding out the basic information of daily_activity:\n",
    "* no. of rows and columns\n",
    "* name of columns\n",
    "* type of value"
   ]
  },
  {
   "cell_type": "code",
   "execution_count": 5,
   "id": "lightweight-brighton",
   "metadata": {
    "_cell_guid": "72b6f724-a60c-4e0d-b627-e1bfdc7ed820",
    "_uuid": "a611da02-43f1-4e0c-ab2a-1f1a648a329d",
    "collapsed": false,
    "execution": {
     "iopub.execute_input": "2021-07-09T05:00:54.499055Z",
     "iopub.status.busy": "2021-07-09T05:00:54.498448Z",
     "iopub.status.idle": "2021-07-09T05:00:54.502355Z",
     "shell.execute_reply": "2021-07-09T05:00:54.501741Z",
     "shell.execute_reply.started": "2021-07-09T05:00:04.751994Z"
    },
    "jupyter": {
     "outputs_hidden": false
    },
    "papermill": {
     "duration": 0.047788,
     "end_time": "2021-07-09T05:00:54.502511",
     "exception": false,
     "start_time": "2021-07-09T05:00:54.454723",
     "status": "completed"
    },
    "tags": []
   },
   "outputs": [
    {
     "name": "stdout",
     "output_type": "stream",
     "text": [
      "<class 'pandas.core.frame.DataFrame'>\n",
      "RangeIndex: 940 entries, 0 to 939\n",
      "Data columns (total 15 columns):\n",
      " #   Column                    Non-Null Count  Dtype  \n",
      "---  ------                    --------------  -----  \n",
      " 0   Id                        940 non-null    int64  \n",
      " 1   ActivityDate              940 non-null    object \n",
      " 2   TotalSteps                940 non-null    int64  \n",
      " 3   TotalDistance             940 non-null    float64\n",
      " 4   TrackerDistance           940 non-null    float64\n",
      " 5   LoggedActivitiesDistance  940 non-null    float64\n",
      " 6   VeryActiveDistance        940 non-null    float64\n",
      " 7   ModeratelyActiveDistance  940 non-null    float64\n",
      " 8   LightActiveDistance       940 non-null    float64\n",
      " 9   SedentaryActiveDistance   940 non-null    float64\n",
      " 10  VeryActiveMinutes         940 non-null    int64  \n",
      " 11  FairlyActiveMinutes       940 non-null    int64  \n",
      " 12  LightlyActiveMinutes      940 non-null    int64  \n",
      " 13  SedentaryMinutes          940 non-null    int64  \n",
      " 14  Calories                  940 non-null    int64  \n",
      "dtypes: float64(7), int64(7), object(1)\n",
      "memory usage: 110.3+ KB\n"
     ]
    }
   ],
   "source": [
    "# show basic information of data\n",
    "daily_activity.info()"
   ]
  },
  {
   "cell_type": "markdown",
   "id": "collect-fitting",
   "metadata": {
    "papermill": {
     "duration": 0.024216,
     "end_time": "2021-07-09T05:00:54.551283",
     "exception": false,
     "start_time": "2021-07-09T05:00:54.527067",
     "status": "completed"
    },
    "tags": []
   },
   "source": [
    "Counting the unique ID and to confirm whether data set has 30 IDs."
   ]
  },
  {
   "cell_type": "code",
   "execution_count": 6,
   "id": "interim-columbia",
   "metadata": {
    "_cell_guid": "8eb47be2-82ac-414f-8366-c998f31a00c6",
    "_uuid": "254b3971-3932-467c-a82f-68f5800c5b7b",
    "collapsed": false,
    "execution": {
     "iopub.execute_input": "2021-07-09T05:00:54.606931Z",
     "iopub.status.busy": "2021-07-09T05:00:54.606367Z",
     "iopub.status.idle": "2021-07-09T05:00:54.609683Z",
     "shell.execute_reply": "2021-07-09T05:00:54.610069Z",
     "shell.execute_reply.started": "2021-07-09T05:00:04.781274Z"
    },
    "jupyter": {
     "outputs_hidden": false
    },
    "papermill": {
     "duration": 0.034599,
     "end_time": "2021-07-09T05:00:54.610261",
     "exception": false,
     "start_time": "2021-07-09T05:00:54.575662",
     "status": "completed"
    },
    "tags": []
   },
   "outputs": [
    {
     "name": "stdout",
     "output_type": "stream",
     "text": [
      "# of unique Id: 33\n"
     ]
    }
   ],
   "source": [
    "# count distinct value of \"Id\"\n",
    "unique_id = len(pd.unique(daily_activity[\"Id\"]))\n",
    "  \n",
    "print(\"# of unique Id: \" + str(unique_id))"
   ]
  },
  {
   "cell_type": "markdown",
   "id": "interested-filename",
   "metadata": {
    "_cell_guid": "220e6c03-37de-42e4-ac9b-47ade59e2af6",
    "_uuid": "8916b38a-020a-476a-a3b8-dcff57614da0",
    "papermill": {
     "duration": 0.041359,
     "end_time": "2021-07-09T05:00:54.743414",
     "exception": false,
     "start_time": "2021-07-09T05:00:54.702055",
     "status": "completed"
    },
    "tags": []
   },
   "source": [
    "The following data manipulation is performed:\n",
    "\n",
    "1. Convert *ActivityDate* to ```datatime64``` dtype.\n",
    "\n",
    "2. Convert format of *ActivityDate* to ```yyyy-mm-dd```.\n",
    "\n",
    "3. Create new column *DayOfTheWeek* by separating the date into day of the week for further analysis.\n",
    "\n",
    "4. Create new column *TotalMins* being the sum of *VeryActiveMinutes*, *FairlyActiveMinutes*, *LightlyActiveMinutes* and *SedentaryMinutes*.\n",
    "\n",
    "5. Create new column *TotalHours* by converting new column in #4 to number of hours.\n",
    "\n",
    "6. Rearrange and rename columns."
   ]
  },
  {
   "cell_type": "code",
   "execution_count": 7,
   "id": "animal-antique",
   "metadata": {
    "_cell_guid": "10e0ae12-c842-4406-919d-ca947104d771",
    "_uuid": "29173d13-4135-4e6c-a37c-b833567073f7",
    "collapsed": false,
    "execution": {
     "iopub.execute_input": "2021-07-09T05:00:54.891828Z",
     "iopub.status.busy": "2021-07-09T05:00:54.891193Z",
     "iopub.status.idle": "2021-07-09T05:00:54.895891Z",
     "shell.execute_reply": "2021-07-09T05:00:54.896324Z",
     "shell.execute_reply.started": "2021-07-09T05:00:04.789260Z"
    },
    "jupyter": {
     "outputs_hidden": false
    },
    "papermill": {
     "duration": 0.062877,
     "end_time": "2021-07-09T05:00:54.896503",
     "exception": false,
     "start_time": "2021-07-09T05:00:54.833626",
     "status": "completed"
    },
    "tags": []
   },
   "outputs": [
    {
     "name": "stdout",
     "output_type": "stream",
     "text": [
      "<class 'pandas.core.frame.DataFrame'>\n",
      "RangeIndex: 940 entries, 0 to 939\n",
      "Data columns (total 15 columns):\n",
      " #   Column                    Non-Null Count  Dtype         \n",
      "---  ------                    --------------  -----         \n",
      " 0   Id                        940 non-null    int64         \n",
      " 1   ActivityDate              940 non-null    datetime64[ns]\n",
      " 2   TotalSteps                940 non-null    int64         \n",
      " 3   TotalDistance             940 non-null    float64       \n",
      " 4   TrackerDistance           940 non-null    float64       \n",
      " 5   LoggedActivitiesDistance  940 non-null    float64       \n",
      " 6   VeryActiveDistance        940 non-null    float64       \n",
      " 7   ModeratelyActiveDistance  940 non-null    float64       \n",
      " 8   LightActiveDistance       940 non-null    float64       \n",
      " 9   SedentaryActiveDistance   940 non-null    float64       \n",
      " 10  VeryActiveMinutes         940 non-null    int64         \n",
      " 11  FairlyActiveMinutes       940 non-null    int64         \n",
      " 12  LightlyActiveMinutes      940 non-null    int64         \n",
      " 13  SedentaryMinutes          940 non-null    int64         \n",
      " 14  Calories                  940 non-null    int64         \n",
      "dtypes: datetime64[ns](1), float64(7), int64(7)\n",
      "memory usage: 110.3 KB\n"
     ]
    },
    {
     "data": {
      "text/plain": [
       "0   2016-04-12\n",
       "1   2016-04-13\n",
       "2   2016-04-14\n",
       "3   2016-04-15\n",
       "4   2016-04-16\n",
       "Name: ActivityDate, dtype: datetime64[ns]"
      ]
     },
     "execution_count": 7,
     "metadata": {},
     "output_type": "execute_result"
    }
   ],
   "source": [
    "# convert \"ActivityDate\" to datatime64 dtype and format to yyyy-mm-dd\n",
    "daily_activity[\"ActivityDate\"] = pd.to_datetime(daily_activity[\"ActivityDate\"], format=\"%m/%d/%Y\")\n",
    "\n",
    "# re-print information to confirm\n",
    "daily_activity.info()\n",
    "\n",
    "# print the first 5 rows of \"ActivityDate\" to confirm\n",
    "daily_activity[\"ActivityDate\"].head()"
   ]
  },
  {
   "cell_type": "code",
   "execution_count": 8,
   "id": "sudden-hardwood",
   "metadata": {
    "_cell_guid": "24767d8e-4b12-4da5-8534-46e48373a946",
    "_uuid": "4032a725-60b2-4432-a496-8f89ca67e2e7",
    "collapsed": false,
    "execution": {
     "iopub.execute_input": "2021-07-09T05:00:55.023303Z",
     "iopub.status.busy": "2021-07-09T05:00:55.022351Z",
     "iopub.status.idle": "2021-07-09T05:00:55.049443Z",
     "shell.execute_reply": "2021-07-09T05:00:55.048662Z",
     "shell.execute_reply.started": "2021-07-09T05:00:04.822647Z"
    },
    "jupyter": {
     "outputs_hidden": false
    },
    "papermill": {
     "duration": 0.071415,
     "end_time": "2021-07-09T05:00:55.049637",
     "exception": false,
     "start_time": "2021-07-09T05:00:54.978222",
     "status": "completed"
    },
    "tags": []
   },
   "outputs": [
    {
     "data": {
      "text/html": [
       "<div>\n",
       "<style scoped>\n",
       "    .dataframe tbody tr th:only-of-type {\n",
       "        vertical-align: middle;\n",
       "    }\n",
       "\n",
       "    .dataframe tbody tr th {\n",
       "        vertical-align: top;\n",
       "    }\n",
       "\n",
       "    .dataframe thead th {\n",
       "        text-align: right;\n",
       "    }\n",
       "</style>\n",
       "<table border=\"1\" class=\"dataframe\">\n",
       "  <thead>\n",
       "    <tr style=\"text-align: right;\">\n",
       "      <th></th>\n",
       "      <th>Id</th>\n",
       "      <th>ActivityDate</th>\n",
       "      <th>DayOfTheWeek</th>\n",
       "      <th>TotalSteps</th>\n",
       "      <th>TotalDistance</th>\n",
       "      <th>TrackerDistance</th>\n",
       "      <th>LoggedActivitiesDistance</th>\n",
       "      <th>VeryActiveDistance</th>\n",
       "      <th>ModeratelyActiveDistance</th>\n",
       "      <th>LightActiveDistance</th>\n",
       "      <th>SedentaryActiveDistance</th>\n",
       "      <th>VeryActiveMinutes</th>\n",
       "      <th>FairlyActiveMinutes</th>\n",
       "      <th>LightlyActiveMinutes</th>\n",
       "      <th>SedentaryMinutes</th>\n",
       "      <th>TotalExerciseMinutes</th>\n",
       "      <th>TotalExerciseHours</th>\n",
       "      <th>Calories</th>\n",
       "    </tr>\n",
       "  </thead>\n",
       "  <tbody>\n",
       "    <tr>\n",
       "      <th>0</th>\n",
       "      <td>1503960366</td>\n",
       "      <td>2016-04-12</td>\n",
       "      <td>NaN</td>\n",
       "      <td>13162</td>\n",
       "      <td>8.50</td>\n",
       "      <td>8.50</td>\n",
       "      <td>0.0</td>\n",
       "      <td>1.88</td>\n",
       "      <td>0.55</td>\n",
       "      <td>6.06</td>\n",
       "      <td>0.0</td>\n",
       "      <td>25</td>\n",
       "      <td>13</td>\n",
       "      <td>328</td>\n",
       "      <td>728</td>\n",
       "      <td>NaN</td>\n",
       "      <td>NaN</td>\n",
       "      <td>1985</td>\n",
       "    </tr>\n",
       "    <tr>\n",
       "      <th>1</th>\n",
       "      <td>1503960366</td>\n",
       "      <td>2016-04-13</td>\n",
       "      <td>NaN</td>\n",
       "      <td>10735</td>\n",
       "      <td>6.97</td>\n",
       "      <td>6.97</td>\n",
       "      <td>0.0</td>\n",
       "      <td>1.57</td>\n",
       "      <td>0.69</td>\n",
       "      <td>4.71</td>\n",
       "      <td>0.0</td>\n",
       "      <td>21</td>\n",
       "      <td>19</td>\n",
       "      <td>217</td>\n",
       "      <td>776</td>\n",
       "      <td>NaN</td>\n",
       "      <td>NaN</td>\n",
       "      <td>1797</td>\n",
       "    </tr>\n",
       "    <tr>\n",
       "      <th>2</th>\n",
       "      <td>1503960366</td>\n",
       "      <td>2016-04-14</td>\n",
       "      <td>NaN</td>\n",
       "      <td>10460</td>\n",
       "      <td>6.74</td>\n",
       "      <td>6.74</td>\n",
       "      <td>0.0</td>\n",
       "      <td>2.44</td>\n",
       "      <td>0.40</td>\n",
       "      <td>3.91</td>\n",
       "      <td>0.0</td>\n",
       "      <td>30</td>\n",
       "      <td>11</td>\n",
       "      <td>181</td>\n",
       "      <td>1218</td>\n",
       "      <td>NaN</td>\n",
       "      <td>NaN</td>\n",
       "      <td>1776</td>\n",
       "    </tr>\n",
       "    <tr>\n",
       "      <th>3</th>\n",
       "      <td>1503960366</td>\n",
       "      <td>2016-04-15</td>\n",
       "      <td>NaN</td>\n",
       "      <td>9762</td>\n",
       "      <td>6.28</td>\n",
       "      <td>6.28</td>\n",
       "      <td>0.0</td>\n",
       "      <td>2.14</td>\n",
       "      <td>1.26</td>\n",
       "      <td>2.83</td>\n",
       "      <td>0.0</td>\n",
       "      <td>29</td>\n",
       "      <td>34</td>\n",
       "      <td>209</td>\n",
       "      <td>726</td>\n",
       "      <td>NaN</td>\n",
       "      <td>NaN</td>\n",
       "      <td>1745</td>\n",
       "    </tr>\n",
       "    <tr>\n",
       "      <th>4</th>\n",
       "      <td>1503960366</td>\n",
       "      <td>2016-04-16</td>\n",
       "      <td>NaN</td>\n",
       "      <td>12669</td>\n",
       "      <td>8.16</td>\n",
       "      <td>8.16</td>\n",
       "      <td>0.0</td>\n",
       "      <td>2.71</td>\n",
       "      <td>0.41</td>\n",
       "      <td>5.04</td>\n",
       "      <td>0.0</td>\n",
       "      <td>36</td>\n",
       "      <td>10</td>\n",
       "      <td>221</td>\n",
       "      <td>773</td>\n",
       "      <td>NaN</td>\n",
       "      <td>NaN</td>\n",
       "      <td>1863</td>\n",
       "    </tr>\n",
       "  </tbody>\n",
       "</table>\n",
       "</div>"
      ],
      "text/plain": [
       "           Id ActivityDate  DayOfTheWeek  TotalSteps  TotalDistance  \\\n",
       "0  1503960366   2016-04-12           NaN       13162           8.50   \n",
       "1  1503960366   2016-04-13           NaN       10735           6.97   \n",
       "2  1503960366   2016-04-14           NaN       10460           6.74   \n",
       "3  1503960366   2016-04-15           NaN        9762           6.28   \n",
       "4  1503960366   2016-04-16           NaN       12669           8.16   \n",
       "\n",
       "   TrackerDistance  LoggedActivitiesDistance  VeryActiveDistance  \\\n",
       "0             8.50                       0.0                1.88   \n",
       "1             6.97                       0.0                1.57   \n",
       "2             6.74                       0.0                2.44   \n",
       "3             6.28                       0.0                2.14   \n",
       "4             8.16                       0.0                2.71   \n",
       "\n",
       "   ModeratelyActiveDistance  LightActiveDistance  SedentaryActiveDistance  \\\n",
       "0                      0.55                 6.06                      0.0   \n",
       "1                      0.69                 4.71                      0.0   \n",
       "2                      0.40                 3.91                      0.0   \n",
       "3                      1.26                 2.83                      0.0   \n",
       "4                      0.41                 5.04                      0.0   \n",
       "\n",
       "   VeryActiveMinutes  FairlyActiveMinutes  LightlyActiveMinutes  \\\n",
       "0                 25                   13                   328   \n",
       "1                 21                   19                   217   \n",
       "2                 30                   11                   181   \n",
       "3                 29                   34                   209   \n",
       "4                 36                   10                   221   \n",
       "\n",
       "   SedentaryMinutes  TotalExerciseMinutes  TotalExerciseHours  Calories  \n",
       "0               728                   NaN                 NaN      1985  \n",
       "1               776                   NaN                 NaN      1797  \n",
       "2              1218                   NaN                 NaN      1776  \n",
       "3               726                   NaN                 NaN      1745  \n",
       "4               773                   NaN                 NaN      1863  "
      ]
     },
     "execution_count": 8,
     "metadata": {},
     "output_type": "execute_result"
    }
   ],
   "source": [
    "#r create new list of rearranged columns\n",
    "new_cols = ['Id', 'ActivityDate', 'DayOfTheWeek', 'TotalSteps', 'TotalDistance', 'TrackerDistance', 'LoggedActivitiesDistance', 'VeryActiveDistance', 'ModeratelyActiveDistance', 'LightActiveDistance', 'SedentaryActiveDistance', 'VeryActiveMinutes', 'FairlyActiveMinutes', 'LightlyActiveMinutes', 'SedentaryMinutes', 'TotalExerciseMinutes', 'TotalExerciseHours', 'Calories']\n",
    "\n",
    "# reindex function to rearrange columns based on \"new_cols\"\n",
    "df_activity = daily_activity.reindex(columns=new_cols)\n",
    "\n",
    "# print 1st 5 rows to confirm\n",
    "df_activity.head(5)"
   ]
  },
  {
   "cell_type": "markdown",
   "id": "continuous-collar",
   "metadata": {
    "papermill": {
     "duration": 0.025771,
     "end_time": "2021-07-09T05:00:55.108798",
     "exception": false,
     "start_time": "2021-07-09T05:00:55.083027",
     "status": "completed"
    },
    "tags": []
   },
   "source": [
    "Creating new column by separating the date into day of the week for further analysis."
   ]
  },
  {
   "cell_type": "code",
   "execution_count": 9,
   "id": "italian-dialogue",
   "metadata": {
    "_cell_guid": "b4ce574a-e7fa-4743-abe4-838540fa29ce",
    "_uuid": "8b542b7a-5f83-4404-bcdb-f38ee25a3227",
    "collapsed": false,
    "execution": {
     "iopub.execute_input": "2021-07-09T05:00:55.171483Z",
     "iopub.status.busy": "2021-07-09T05:00:55.170608Z",
     "iopub.status.idle": "2021-07-09T05:00:55.174090Z",
     "shell.execute_reply": "2021-07-09T05:00:55.174667Z",
     "shell.execute_reply.started": "2021-07-09T05:00:04.849975Z"
    },
    "jupyter": {
     "outputs_hidden": false
    },
    "papermill": {
     "duration": 0.037797,
     "end_time": "2021-07-09T05:00:55.174829",
     "exception": false,
     "start_time": "2021-07-09T05:00:55.137032",
     "status": "completed"
    },
    "tags": []
   },
   "outputs": [
    {
     "data": {
      "text/plain": [
       "0      Tuesday\n",
       "1    Wednesday\n",
       "2     Thursday\n",
       "3       Friday\n",
       "4     Saturday\n",
       "Name: DayOfTheWeek, dtype: object"
      ]
     },
     "execution_count": 9,
     "metadata": {},
     "output_type": "execute_result"
    }
   ],
   "source": [
    "# create new column \"day_of_the_week\" to represent day of the week \n",
    "df_activity[\"DayOfTheWeek\"] = df_activity[\"ActivityDate\"].dt.day_name()\n",
    "\n",
    "# print 1st 5 rows to confirm\n",
    "df_activity[\"DayOfTheWeek\"].head(5)"
   ]
  },
  {
   "cell_type": "code",
   "execution_count": 10,
   "id": "herbal-guyana",
   "metadata": {
    "execution": {
     "iopub.execute_input": "2021-07-09T05:00:55.281083Z",
     "iopub.status.busy": "2021-07-09T05:00:55.280214Z",
     "iopub.status.idle": "2021-07-09T05:00:55.304703Z",
     "shell.execute_reply": "2021-07-09T05:00:55.305505Z",
     "shell.execute_reply.started": "2021-07-09T05:00:04.859953Z"
    },
    "papermill": {
     "duration": 0.053641,
     "end_time": "2021-07-09T05:00:55.305708",
     "exception": false,
     "start_time": "2021-07-09T05:00:55.252067",
     "status": "completed"
    },
    "tags": []
   },
   "outputs": [
    {
     "name": "stdout",
     "output_type": "stream",
     "text": [
      "['id' 'date' 'day_of_the_week' 'total_steps' 'total_dist' 'track_dist'\n",
      " 'logged_dist' 'very_active_dist' 'moderate_active_dist'\n",
      " 'light_active_dist' 'sedentary_active_dist' 'very_active_mins'\n",
      " 'fairly_active_mins' 'lightly_active_mins' 'sedentary_mins' 'total_mins'\n",
      " 'total_hours' 'calories']\n"
     ]
    },
    {
     "data": {
      "text/html": [
       "<div>\n",
       "<style scoped>\n",
       "    .dataframe tbody tr th:only-of-type {\n",
       "        vertical-align: middle;\n",
       "    }\n",
       "\n",
       "    .dataframe tbody tr th {\n",
       "        vertical-align: top;\n",
       "    }\n",
       "\n",
       "    .dataframe thead th {\n",
       "        text-align: right;\n",
       "    }\n",
       "</style>\n",
       "<table border=\"1\" class=\"dataframe\">\n",
       "  <thead>\n",
       "    <tr style=\"text-align: right;\">\n",
       "      <th></th>\n",
       "      <th>id</th>\n",
       "      <th>date</th>\n",
       "      <th>day_of_the_week</th>\n",
       "      <th>total_steps</th>\n",
       "      <th>total_dist</th>\n",
       "      <th>track_dist</th>\n",
       "      <th>logged_dist</th>\n",
       "      <th>very_active_dist</th>\n",
       "      <th>moderate_active_dist</th>\n",
       "      <th>light_active_dist</th>\n",
       "      <th>sedentary_active_dist</th>\n",
       "      <th>very_active_mins</th>\n",
       "      <th>fairly_active_mins</th>\n",
       "      <th>lightly_active_mins</th>\n",
       "      <th>sedentary_mins</th>\n",
       "      <th>total_mins</th>\n",
       "      <th>total_hours</th>\n",
       "      <th>calories</th>\n",
       "    </tr>\n",
       "  </thead>\n",
       "  <tbody>\n",
       "    <tr>\n",
       "      <th>0</th>\n",
       "      <td>1503960366</td>\n",
       "      <td>2016-04-12</td>\n",
       "      <td>Tuesday</td>\n",
       "      <td>13162</td>\n",
       "      <td>8.50</td>\n",
       "      <td>8.50</td>\n",
       "      <td>0.0</td>\n",
       "      <td>1.88</td>\n",
       "      <td>0.55</td>\n",
       "      <td>6.06</td>\n",
       "      <td>0.0</td>\n",
       "      <td>25</td>\n",
       "      <td>13</td>\n",
       "      <td>328</td>\n",
       "      <td>728</td>\n",
       "      <td>NaN</td>\n",
       "      <td>NaN</td>\n",
       "      <td>1985</td>\n",
       "    </tr>\n",
       "    <tr>\n",
       "      <th>1</th>\n",
       "      <td>1503960366</td>\n",
       "      <td>2016-04-13</td>\n",
       "      <td>Wednesday</td>\n",
       "      <td>10735</td>\n",
       "      <td>6.97</td>\n",
       "      <td>6.97</td>\n",
       "      <td>0.0</td>\n",
       "      <td>1.57</td>\n",
       "      <td>0.69</td>\n",
       "      <td>4.71</td>\n",
       "      <td>0.0</td>\n",
       "      <td>21</td>\n",
       "      <td>19</td>\n",
       "      <td>217</td>\n",
       "      <td>776</td>\n",
       "      <td>NaN</td>\n",
       "      <td>NaN</td>\n",
       "      <td>1797</td>\n",
       "    </tr>\n",
       "    <tr>\n",
       "      <th>2</th>\n",
       "      <td>1503960366</td>\n",
       "      <td>2016-04-14</td>\n",
       "      <td>Thursday</td>\n",
       "      <td>10460</td>\n",
       "      <td>6.74</td>\n",
       "      <td>6.74</td>\n",
       "      <td>0.0</td>\n",
       "      <td>2.44</td>\n",
       "      <td>0.40</td>\n",
       "      <td>3.91</td>\n",
       "      <td>0.0</td>\n",
       "      <td>30</td>\n",
       "      <td>11</td>\n",
       "      <td>181</td>\n",
       "      <td>1218</td>\n",
       "      <td>NaN</td>\n",
       "      <td>NaN</td>\n",
       "      <td>1776</td>\n",
       "    </tr>\n",
       "    <tr>\n",
       "      <th>3</th>\n",
       "      <td>1503960366</td>\n",
       "      <td>2016-04-15</td>\n",
       "      <td>Friday</td>\n",
       "      <td>9762</td>\n",
       "      <td>6.28</td>\n",
       "      <td>6.28</td>\n",
       "      <td>0.0</td>\n",
       "      <td>2.14</td>\n",
       "      <td>1.26</td>\n",
       "      <td>2.83</td>\n",
       "      <td>0.0</td>\n",
       "      <td>29</td>\n",
       "      <td>34</td>\n",
       "      <td>209</td>\n",
       "      <td>726</td>\n",
       "      <td>NaN</td>\n",
       "      <td>NaN</td>\n",
       "      <td>1745</td>\n",
       "    </tr>\n",
       "    <tr>\n",
       "      <th>4</th>\n",
       "      <td>1503960366</td>\n",
       "      <td>2016-04-16</td>\n",
       "      <td>Saturday</td>\n",
       "      <td>12669</td>\n",
       "      <td>8.16</td>\n",
       "      <td>8.16</td>\n",
       "      <td>0.0</td>\n",
       "      <td>2.71</td>\n",
       "      <td>0.41</td>\n",
       "      <td>5.04</td>\n",
       "      <td>0.0</td>\n",
       "      <td>36</td>\n",
       "      <td>10</td>\n",
       "      <td>221</td>\n",
       "      <td>773</td>\n",
       "      <td>NaN</td>\n",
       "      <td>NaN</td>\n",
       "      <td>1863</td>\n",
       "    </tr>\n",
       "  </tbody>\n",
       "</table>\n",
       "</div>"
      ],
      "text/plain": [
       "           id       date day_of_the_week  total_steps  total_dist  track_dist  \\\n",
       "0  1503960366 2016-04-12         Tuesday        13162        8.50        8.50   \n",
       "1  1503960366 2016-04-13       Wednesday        10735        6.97        6.97   \n",
       "2  1503960366 2016-04-14        Thursday        10460        6.74        6.74   \n",
       "3  1503960366 2016-04-15          Friday         9762        6.28        6.28   \n",
       "4  1503960366 2016-04-16        Saturday        12669        8.16        8.16   \n",
       "\n",
       "   logged_dist  very_active_dist  moderate_active_dist  light_active_dist  \\\n",
       "0          0.0              1.88                  0.55               6.06   \n",
       "1          0.0              1.57                  0.69               4.71   \n",
       "2          0.0              2.44                  0.40               3.91   \n",
       "3          0.0              2.14                  1.26               2.83   \n",
       "4          0.0              2.71                  0.41               5.04   \n",
       "\n",
       "   sedentary_active_dist  very_active_mins  fairly_active_mins  \\\n",
       "0                    0.0                25                  13   \n",
       "1                    0.0                21                  19   \n",
       "2                    0.0                30                  11   \n",
       "3                    0.0                29                  34   \n",
       "4                    0.0                36                  10   \n",
       "\n",
       "   lightly_active_mins  sedentary_mins  total_mins  total_hours  calories  \n",
       "0                  328             728         NaN          NaN      1985  \n",
       "1                  217             776         NaN          NaN      1797  \n",
       "2                  181            1218         NaN          NaN      1776  \n",
       "3                  209             726         NaN          NaN      1745  \n",
       "4                  221             773         NaN          NaN      1863  "
      ]
     },
     "execution_count": 10,
     "metadata": {},
     "output_type": "execute_result"
    }
   ],
   "source": [
    "# rename columns\n",
    "df_activity.rename(columns = {\"Id\":\"id\", \"ActivityDate\":\"date\", \"DayOfTheWeek\":\"day_of_the_week\", \"TotalSteps\":\"total_steps\", \"TotalDistance\":\"total_dist\", \"TrackerDistance\":\"track_dist\", \"LoggedActivitiesDistance\":\"logged_dist\", \"VeryActiveDistance\":\"very_active_dist\", \"ModeratelyActiveDistance\":\"moderate_active_dist\", \"LightActiveDistance\":\"light_active_dist\", \"SedentaryActiveDistance\":\"sedentary_active_dist\", \"VeryActiveMinutes\":\"very_active_mins\", \"FairlyActiveMinutes\":\"fairly_active_mins\", \"LightlyActiveMinutes\":\"lightly_active_mins\", \"SedentaryMinutes\":\"sedentary_mins\", \"TotalExerciseMinutes\":\"total_mins\",\"TotalExerciseHours\":\"total_hours\",\"Calories\":\"calories\"}, inplace = True)\n",
    "\n",
    "# print column names to confirm\n",
    "print(df_activity.columns.values)\n",
    "df_activity.head(5)"
   ]
  },
  {
   "cell_type": "markdown",
   "id": "surprised-invasion",
   "metadata": {
    "papermill": {
     "duration": 0.03661,
     "end_time": "2021-07-09T05:00:55.368904",
     "exception": false,
     "start_time": "2021-07-09T05:00:55.332294",
     "status": "completed"
    },
    "tags": []
   },
   "source": [
    "Creating new column *total_mins* being the sum of total time logged."
   ]
  },
  {
   "cell_type": "code",
   "execution_count": 11,
   "id": "forward-driver",
   "metadata": {
    "_cell_guid": "35932cb2-08ea-4b28-853e-1dedf3ea4930",
    "_uuid": "5c13ee63-3c5c-4e7a-b814-9abc0ea3913c",
    "collapsed": false,
    "execution": {
     "iopub.execute_input": "2021-07-09T05:00:55.434385Z",
     "iopub.status.busy": "2021-07-09T05:00:55.431698Z",
     "iopub.status.idle": "2021-07-09T05:00:55.461031Z",
     "shell.execute_reply": "2021-07-09T05:00:55.461567Z",
     "shell.execute_reply.started": "2021-07-09T05:00:04.894702Z"
    },
    "jupyter": {
     "outputs_hidden": false
    },
    "papermill": {
     "duration": 0.061014,
     "end_time": "2021-07-09T05:00:55.461749",
     "exception": false,
     "start_time": "2021-07-09T05:00:55.400735",
     "status": "completed"
    },
    "tags": []
   },
   "outputs": [
    {
     "data": {
      "text/plain": [
       "0    1094\n",
       "1    1033\n",
       "2    1440\n",
       "3     998\n",
       "4    1040\n",
       "Name: total_mins, dtype: int64"
      ]
     },
     "execution_count": 11,
     "metadata": {},
     "output_type": "execute_result"
    }
   ],
   "source": [
    "# create new column \"total_mins\" containing sum of total minutes.\n",
    "df_activity[\"total_mins\"] = df_activity[\"very_active_mins\"] + df_activity[\"fairly_active_mins\"] + df_activity[\"lightly_active_mins\"] + df_activity[\"sedentary_mins\"]\n",
    "df_activity[\"total_mins\"].head(5)"
   ]
  },
  {
   "cell_type": "markdown",
   "id": "running-universe",
   "metadata": {
    "papermill": {
     "duration": 0.029829,
     "end_time": "2021-07-09T05:00:55.519013",
     "exception": false,
     "start_time": "2021-07-09T05:00:55.489184",
     "status": "completed"
    },
    "tags": []
   },
   "source": [
    "Creating new column by converting *total_mins*  to number of hours."
   ]
  },
  {
   "cell_type": "code",
   "execution_count": 12,
   "id": "chemical-recruitment",
   "metadata": {
    "_cell_guid": "4869ce13-fd9b-40f3-b2cc-b5297f0ed9d4",
    "_uuid": "65a3b131-424f-4155-b7d5-a331834383f6",
    "collapsed": false,
    "execution": {
     "iopub.execute_input": "2021-07-09T05:00:55.575839Z",
     "iopub.status.busy": "2021-07-09T05:00:55.574872Z",
     "iopub.status.idle": "2021-07-09T05:00:55.583567Z",
     "shell.execute_reply": "2021-07-09T05:00:55.583024Z",
     "shell.execute_reply.started": "2021-07-09T05:00:04.922029Z"
    },
    "jupyter": {
     "outputs_hidden": false
    },
    "papermill": {
     "duration": 0.03814,
     "end_time": "2021-07-09T05:00:55.583701",
     "exception": false,
     "start_time": "2021-07-09T05:00:55.545561",
     "status": "completed"
    },
    "tags": []
   },
   "outputs": [
    {
     "data": {
      "text/plain": [
       "0    18.0\n",
       "1    17.0\n",
       "2    24.0\n",
       "3    17.0\n",
       "4    17.0\n",
       "Name: total_hours, dtype: float64"
      ]
     },
     "execution_count": 12,
     "metadata": {},
     "output_type": "execute_result"
    }
   ],
   "source": [
    "# create new column *total_hours* by converting to hour and round float to two decimal places\n",
    "df_activity[\"total_hours\"] = round(df_activity[\"total_mins\"] / 60)\n",
    "\n",
    "# print 1st 5 rows to confirm\n",
    "df_activity[\"total_hours\"].head(5)"
   ]
  },
  {
   "cell_type": "markdown",
   "id": "optional-shift",
   "metadata": {
    "_cell_guid": "83bcc39d-2107-452e-87a6-dc5484bd8fed",
    "_uuid": "426c4f87-b4b0-4ce4-bc3a-45b96daf482b",
    "papermill": {
     "duration": 0.026679,
     "end_time": "2021-07-09T05:00:55.637214",
     "exception": false,
     "start_time": "2021-07-09T05:00:55.610535",
     "status": "completed"
    },
    "tags": []
   },
   "source": [
    "Data cleaning and manipulation is completed. Hence, data is now ready to be analysed. \n",
    "\n",
    "***"
   ]
  },
  {
   "cell_type": "markdown",
   "id": "italic-truth",
   "metadata": {
    "papermill": {
     "duration": 0.028779,
     "end_time": "2021-07-09T05:00:55.692978",
     "exception": false,
     "start_time": "2021-07-09T05:00:55.664199",
     "status": "completed"
    },
    "tags": []
   },
   "source": [
    "# 2 ANALYZE\n",
    "\n",
    "#### 4.1 Perform calculations\n",
    "\n",
    "Pulling the statistics of df_activity for analysis:\n",
    "* count - no. of rows\n",
    "* mean (average)\n",
    "* std (standard deviation)\n",
    "* min and max\n",
    "* percentiles 25%, 50%, 75%"
   ]
  },
  {
   "cell_type": "code",
   "execution_count": 13,
   "id": "metropolitan-kentucky",
   "metadata": {
    "_cell_guid": "540e3ee4-f56d-4979-a483-6e2deebc3fd0",
    "_uuid": "5a0f8f34-8675-483a-9255-16fbdd8d5f0d",
    "collapsed": false,
    "execution": {
     "iopub.execute_input": "2021-07-09T05:00:55.750389Z",
     "iopub.status.busy": "2021-07-09T05:00:55.749451Z",
     "iopub.status.idle": "2021-07-09T05:00:55.804173Z",
     "shell.execute_reply": "2021-07-09T05:00:55.804601Z",
     "shell.execute_reply.started": "2021-07-09T05:00:04.932553Z"
    },
    "jupyter": {
     "outputs_hidden": false
    },
    "papermill": {
     "duration": 0.084903,
     "end_time": "2021-07-09T05:00:55.804763",
     "exception": false,
     "start_time": "2021-07-09T05:00:55.719860",
     "status": "completed"
    },
    "tags": []
   },
   "outputs": [
    {
     "data": {
      "text/html": [
       "<div>\n",
       "<style scoped>\n",
       "    .dataframe tbody tr th:only-of-type {\n",
       "        vertical-align: middle;\n",
       "    }\n",
       "\n",
       "    .dataframe tbody tr th {\n",
       "        vertical-align: top;\n",
       "    }\n",
       "\n",
       "    .dataframe thead th {\n",
       "        text-align: right;\n",
       "    }\n",
       "</style>\n",
       "<table border=\"1\" class=\"dataframe\">\n",
       "  <thead>\n",
       "    <tr style=\"text-align: right;\">\n",
       "      <th></th>\n",
       "      <th>id</th>\n",
       "      <th>total_steps</th>\n",
       "      <th>total_dist</th>\n",
       "      <th>track_dist</th>\n",
       "      <th>logged_dist</th>\n",
       "      <th>very_active_dist</th>\n",
       "      <th>moderate_active_dist</th>\n",
       "      <th>light_active_dist</th>\n",
       "      <th>sedentary_active_dist</th>\n",
       "      <th>very_active_mins</th>\n",
       "      <th>fairly_active_mins</th>\n",
       "      <th>lightly_active_mins</th>\n",
       "      <th>sedentary_mins</th>\n",
       "      <th>total_mins</th>\n",
       "      <th>total_hours</th>\n",
       "      <th>calories</th>\n",
       "    </tr>\n",
       "  </thead>\n",
       "  <tbody>\n",
       "    <tr>\n",
       "      <th>count</th>\n",
       "      <td>9.400000e+02</td>\n",
       "      <td>940.000000</td>\n",
       "      <td>940.000000</td>\n",
       "      <td>940.000000</td>\n",
       "      <td>940.000000</td>\n",
       "      <td>940.000000</td>\n",
       "      <td>940.000000</td>\n",
       "      <td>940.000000</td>\n",
       "      <td>940.000000</td>\n",
       "      <td>940.000000</td>\n",
       "      <td>940.000000</td>\n",
       "      <td>940.000000</td>\n",
       "      <td>940.000000</td>\n",
       "      <td>940.000000</td>\n",
       "      <td>940.000000</td>\n",
       "      <td>940.000000</td>\n",
       "    </tr>\n",
       "    <tr>\n",
       "      <th>mean</th>\n",
       "      <td>4.855407e+09</td>\n",
       "      <td>7637.910638</td>\n",
       "      <td>5.489702</td>\n",
       "      <td>5.475351</td>\n",
       "      <td>0.108171</td>\n",
       "      <td>1.502681</td>\n",
       "      <td>0.567543</td>\n",
       "      <td>3.340819</td>\n",
       "      <td>0.001606</td>\n",
       "      <td>21.164894</td>\n",
       "      <td>13.564894</td>\n",
       "      <td>192.812766</td>\n",
       "      <td>991.210638</td>\n",
       "      <td>1218.753191</td>\n",
       "      <td>20.313830</td>\n",
       "      <td>2303.609574</td>\n",
       "    </tr>\n",
       "    <tr>\n",
       "      <th>std</th>\n",
       "      <td>2.424805e+09</td>\n",
       "      <td>5087.150742</td>\n",
       "      <td>3.924606</td>\n",
       "      <td>3.907276</td>\n",
       "      <td>0.619897</td>\n",
       "      <td>2.658941</td>\n",
       "      <td>0.883580</td>\n",
       "      <td>2.040655</td>\n",
       "      <td>0.007346</td>\n",
       "      <td>32.844803</td>\n",
       "      <td>19.987404</td>\n",
       "      <td>109.174700</td>\n",
       "      <td>301.267437</td>\n",
       "      <td>265.931767</td>\n",
       "      <td>4.437283</td>\n",
       "      <td>718.166862</td>\n",
       "    </tr>\n",
       "    <tr>\n",
       "      <th>min</th>\n",
       "      <td>1.503960e+09</td>\n",
       "      <td>0.000000</td>\n",
       "      <td>0.000000</td>\n",
       "      <td>0.000000</td>\n",
       "      <td>0.000000</td>\n",
       "      <td>0.000000</td>\n",
       "      <td>0.000000</td>\n",
       "      <td>0.000000</td>\n",
       "      <td>0.000000</td>\n",
       "      <td>0.000000</td>\n",
       "      <td>0.000000</td>\n",
       "      <td>0.000000</td>\n",
       "      <td>0.000000</td>\n",
       "      <td>2.000000</td>\n",
       "      <td>0.000000</td>\n",
       "      <td>0.000000</td>\n",
       "    </tr>\n",
       "    <tr>\n",
       "      <th>25%</th>\n",
       "      <td>2.320127e+09</td>\n",
       "      <td>3789.750000</td>\n",
       "      <td>2.620000</td>\n",
       "      <td>2.620000</td>\n",
       "      <td>0.000000</td>\n",
       "      <td>0.000000</td>\n",
       "      <td>0.000000</td>\n",
       "      <td>1.945000</td>\n",
       "      <td>0.000000</td>\n",
       "      <td>0.000000</td>\n",
       "      <td>0.000000</td>\n",
       "      <td>127.000000</td>\n",
       "      <td>729.750000</td>\n",
       "      <td>989.750000</td>\n",
       "      <td>16.000000</td>\n",
       "      <td>1828.500000</td>\n",
       "    </tr>\n",
       "    <tr>\n",
       "      <th>50%</th>\n",
       "      <td>4.445115e+09</td>\n",
       "      <td>7405.500000</td>\n",
       "      <td>5.245000</td>\n",
       "      <td>5.245000</td>\n",
       "      <td>0.000000</td>\n",
       "      <td>0.210000</td>\n",
       "      <td>0.240000</td>\n",
       "      <td>3.365000</td>\n",
       "      <td>0.000000</td>\n",
       "      <td>4.000000</td>\n",
       "      <td>6.000000</td>\n",
       "      <td>199.000000</td>\n",
       "      <td>1057.500000</td>\n",
       "      <td>1440.000000</td>\n",
       "      <td>24.000000</td>\n",
       "      <td>2134.000000</td>\n",
       "    </tr>\n",
       "    <tr>\n",
       "      <th>75%</th>\n",
       "      <td>6.962181e+09</td>\n",
       "      <td>10727.000000</td>\n",
       "      <td>7.712500</td>\n",
       "      <td>7.710000</td>\n",
       "      <td>0.000000</td>\n",
       "      <td>2.052500</td>\n",
       "      <td>0.800000</td>\n",
       "      <td>4.782500</td>\n",
       "      <td>0.000000</td>\n",
       "      <td>32.000000</td>\n",
       "      <td>19.000000</td>\n",
       "      <td>264.000000</td>\n",
       "      <td>1229.500000</td>\n",
       "      <td>1440.000000</td>\n",
       "      <td>24.000000</td>\n",
       "      <td>2793.250000</td>\n",
       "    </tr>\n",
       "    <tr>\n",
       "      <th>max</th>\n",
       "      <td>8.877689e+09</td>\n",
       "      <td>36019.000000</td>\n",
       "      <td>28.030001</td>\n",
       "      <td>28.030001</td>\n",
       "      <td>4.942142</td>\n",
       "      <td>21.920000</td>\n",
       "      <td>6.480000</td>\n",
       "      <td>10.710000</td>\n",
       "      <td>0.110000</td>\n",
       "      <td>210.000000</td>\n",
       "      <td>143.000000</td>\n",
       "      <td>518.000000</td>\n",
       "      <td>1440.000000</td>\n",
       "      <td>1440.000000</td>\n",
       "      <td>24.000000</td>\n",
       "      <td>4900.000000</td>\n",
       "    </tr>\n",
       "  </tbody>\n",
       "</table>\n",
       "</div>"
      ],
      "text/plain": [
       "                 id   total_steps  total_dist  track_dist  logged_dist  \\\n",
       "count  9.400000e+02    940.000000  940.000000  940.000000   940.000000   \n",
       "mean   4.855407e+09   7637.910638    5.489702    5.475351     0.108171   \n",
       "std    2.424805e+09   5087.150742    3.924606    3.907276     0.619897   \n",
       "min    1.503960e+09      0.000000    0.000000    0.000000     0.000000   \n",
       "25%    2.320127e+09   3789.750000    2.620000    2.620000     0.000000   \n",
       "50%    4.445115e+09   7405.500000    5.245000    5.245000     0.000000   \n",
       "75%    6.962181e+09  10727.000000    7.712500    7.710000     0.000000   \n",
       "max    8.877689e+09  36019.000000   28.030001   28.030001     4.942142   \n",
       "\n",
       "       very_active_dist  moderate_active_dist  light_active_dist  \\\n",
       "count        940.000000            940.000000         940.000000   \n",
       "mean           1.502681              0.567543           3.340819   \n",
       "std            2.658941              0.883580           2.040655   \n",
       "min            0.000000              0.000000           0.000000   \n",
       "25%            0.000000              0.000000           1.945000   \n",
       "50%            0.210000              0.240000           3.365000   \n",
       "75%            2.052500              0.800000           4.782500   \n",
       "max           21.920000              6.480000          10.710000   \n",
       "\n",
       "       sedentary_active_dist  very_active_mins  fairly_active_mins  \\\n",
       "count             940.000000        940.000000          940.000000   \n",
       "mean                0.001606         21.164894           13.564894   \n",
       "std                 0.007346         32.844803           19.987404   \n",
       "min                 0.000000          0.000000            0.000000   \n",
       "25%                 0.000000          0.000000            0.000000   \n",
       "50%                 0.000000          4.000000            6.000000   \n",
       "75%                 0.000000         32.000000           19.000000   \n",
       "max                 0.110000        210.000000          143.000000   \n",
       "\n",
       "       lightly_active_mins  sedentary_mins   total_mins  total_hours  \\\n",
       "count           940.000000      940.000000   940.000000   940.000000   \n",
       "mean            192.812766      991.210638  1218.753191    20.313830   \n",
       "std             109.174700      301.267437   265.931767     4.437283   \n",
       "min               0.000000        0.000000     2.000000     0.000000   \n",
       "25%             127.000000      729.750000   989.750000    16.000000   \n",
       "50%             199.000000     1057.500000  1440.000000    24.000000   \n",
       "75%             264.000000     1229.500000  1440.000000    24.000000   \n",
       "max             518.000000     1440.000000  1440.000000    24.000000   \n",
       "\n",
       "          calories  \n",
       "count   940.000000  \n",
       "mean   2303.609574  \n",
       "std     718.166862  \n",
       "min       0.000000  \n",
       "25%    1828.500000  \n",
       "50%    2134.000000  \n",
       "75%    2793.250000  \n",
       "max    4900.000000  "
      ]
     },
     "execution_count": 13,
     "metadata": {},
     "output_type": "execute_result"
    }
   ],
   "source": [
    "# pull general statistics\n",
    "df_activity.describe()"
   ]
  },
  {
   "cell_type": "markdown",
   "id": "premium-officer",
   "metadata": {
    "papermill": {
     "duration": 0.02716,
     "end_time": "2021-07-09T05:00:55.914676",
     "exception": false,
     "start_time": "2021-07-09T05:00:55.887516",
     "status": "completed"
    },
    "tags": []
   },
   "source": [
    "#  3. SHARE\n",
    "\n",
    "In this step, we are creating visualizations and communicating our findings based on our analysis.\n",
    "\n",
    "####  Data Visualisation and Findings"
   ]
  },
  {
   "cell_type": "code",
   "execution_count": 14,
   "id": "52d53b86",
   "metadata": {},
   "outputs": [
    {
     "data": {
      "application/vnd.plotly.v1+json": {
       "config": {
        "plotlyServerURL": "https://plot.ly"
       },
       "data": [
        {
         "alignmentgroup": "True",
         "bingroup": "x",
         "hovertemplate": "Day of the week=%{x}<br>count=%{y}<extra></extra>",
         "legendgroup": "",
         "marker": {
          "color": "lightskyblue",
          "pattern": {
           "shape": ""
          }
         },
         "name": "",
         "nbinsx": 7,
         "offsetgroup": "",
         "orientation": "v",
         "showlegend": false,
         "type": "histogram",
         "x": [
          "Tuesday",
          "Wednesday",
          "Thursday",
          "Friday",
          "Saturday",
          "Sunday",
          "Monday",
          "Tuesday",
          "Wednesday",
          "Thursday",
          "Friday",
          "Saturday",
          "Sunday",
          "Monday",
          "Tuesday",
          "Wednesday",
          "Thursday",
          "Friday",
          "Saturday",
          "Sunday",
          "Monday",
          "Tuesday",
          "Wednesday",
          "Thursday",
          "Friday",
          "Saturday",
          "Sunday",
          "Monday",
          "Tuesday",
          "Wednesday",
          "Thursday",
          "Tuesday",
          "Wednesday",
          "Thursday",
          "Friday",
          "Saturday",
          "Sunday",
          "Monday",
          "Tuesday",
          "Wednesday",
          "Thursday",
          "Friday",
          "Saturday",
          "Sunday",
          "Monday",
          "Tuesday",
          "Wednesday",
          "Thursday",
          "Friday",
          "Saturday",
          "Sunday",
          "Monday",
          "Tuesday",
          "Wednesday",
          "Thursday",
          "Friday",
          "Saturday",
          "Sunday",
          "Monday",
          "Tuesday",
          "Wednesday",
          "Thursday",
          "Tuesday",
          "Wednesday",
          "Thursday",
          "Friday",
          "Saturday",
          "Sunday",
          "Monday",
          "Tuesday",
          "Wednesday",
          "Thursday",
          "Friday",
          "Saturday",
          "Sunday",
          "Monday",
          "Tuesday",
          "Wednesday",
          "Thursday",
          "Friday",
          "Saturday",
          "Sunday",
          "Monday",
          "Tuesday",
          "Wednesday",
          "Thursday",
          "Friday",
          "Saturday",
          "Sunday",
          "Monday",
          "Tuesday",
          "Wednesday",
          "Tuesday",
          "Wednesday",
          "Thursday",
          "Friday",
          "Saturday",
          "Sunday",
          "Monday",
          "Tuesday",
          "Wednesday",
          "Thursday",
          "Friday",
          "Saturday",
          "Sunday",
          "Monday",
          "Tuesday",
          "Wednesday",
          "Thursday",
          "Friday",
          "Saturday",
          "Sunday",
          "Monday",
          "Tuesday",
          "Wednesday",
          "Thursday",
          "Friday",
          "Saturday",
          "Sunday",
          "Monday",
          "Tuesday",
          "Wednesday",
          "Thursday",
          "Tuesday",
          "Wednesday",
          "Thursday",
          "Friday",
          "Saturday",
          "Sunday",
          "Monday",
          "Tuesday",
          "Wednesday",
          "Thursday",
          "Friday",
          "Saturday",
          "Sunday",
          "Monday",
          "Tuesday",
          "Wednesday",
          "Thursday",
          "Friday",
          "Saturday",
          "Sunday",
          "Monday",
          "Tuesday",
          "Wednesday",
          "Thursday",
          "Friday",
          "Saturday",
          "Sunday",
          "Monday",
          "Tuesday",
          "Wednesday",
          "Thursday",
          "Tuesday",
          "Wednesday",
          "Thursday",
          "Friday",
          "Saturday",
          "Sunday",
          "Monday",
          "Tuesday",
          "Wednesday",
          "Thursday",
          "Friday",
          "Saturday",
          "Sunday",
          "Monday",
          "Tuesday",
          "Wednesday",
          "Thursday",
          "Friday",
          "Saturday",
          "Sunday",
          "Monday",
          "Tuesday",
          "Wednesday",
          "Thursday",
          "Friday",
          "Saturday",
          "Sunday",
          "Monday",
          "Tuesday",
          "Wednesday",
          "Thursday",
          "Tuesday",
          "Wednesday",
          "Thursday",
          "Friday",
          "Saturday",
          "Sunday",
          "Monday",
          "Tuesday",
          "Wednesday",
          "Thursday",
          "Friday",
          "Saturday",
          "Sunday",
          "Monday",
          "Tuesday",
          "Wednesday",
          "Thursday",
          "Friday",
          "Saturday",
          "Sunday",
          "Monday",
          "Tuesday",
          "Wednesday",
          "Thursday",
          "Friday",
          "Saturday",
          "Sunday",
          "Monday",
          "Tuesday",
          "Wednesday",
          "Thursday",
          "Tuesday",
          "Wednesday",
          "Thursday",
          "Friday",
          "Saturday",
          "Sunday",
          "Monday",
          "Tuesday",
          "Wednesday",
          "Thursday",
          "Friday",
          "Saturday",
          "Sunday",
          "Monday",
          "Tuesday",
          "Wednesday",
          "Thursday",
          "Friday",
          "Saturday",
          "Sunday",
          "Monday",
          "Tuesday",
          "Wednesday",
          "Thursday",
          "Friday",
          "Saturday",
          "Sunday",
          "Monday",
          "Tuesday",
          "Wednesday",
          "Thursday",
          "Tuesday",
          "Wednesday",
          "Thursday",
          "Friday",
          "Saturday",
          "Sunday",
          "Monday",
          "Tuesday",
          "Wednesday",
          "Thursday",
          "Friday",
          "Saturday",
          "Sunday",
          "Monday",
          "Tuesday",
          "Wednesday",
          "Thursday",
          "Friday",
          "Tuesday",
          "Wednesday",
          "Thursday",
          "Friday",
          "Saturday",
          "Sunday",
          "Monday",
          "Tuesday",
          "Wednesday",
          "Thursday",
          "Friday",
          "Saturday",
          "Sunday",
          "Monday",
          "Tuesday",
          "Wednesday",
          "Thursday",
          "Friday",
          "Saturday",
          "Sunday",
          "Monday",
          "Tuesday",
          "Wednesday",
          "Thursday",
          "Friday",
          "Saturday",
          "Sunday",
          "Monday",
          "Tuesday",
          "Wednesday",
          "Thursday",
          "Tuesday",
          "Wednesday",
          "Thursday",
          "Friday",
          "Saturday",
          "Sunday",
          "Monday",
          "Tuesday",
          "Wednesday",
          "Thursday",
          "Friday",
          "Saturday",
          "Sunday",
          "Monday",
          "Tuesday",
          "Wednesday",
          "Thursday",
          "Friday",
          "Saturday",
          "Sunday",
          "Tuesday",
          "Wednesday",
          "Thursday",
          "Friday",
          "Saturday",
          "Sunday",
          "Monday",
          "Tuesday",
          "Wednesday",
          "Thursday",
          "Friday",
          "Saturday",
          "Sunday",
          "Monday",
          "Tuesday",
          "Wednesday",
          "Thursday",
          "Friday",
          "Saturday",
          "Sunday",
          "Monday",
          "Tuesday",
          "Wednesday",
          "Thursday",
          "Friday",
          "Saturday",
          "Sunday",
          "Monday",
          "Tuesday",
          "Wednesday",
          "Tuesday",
          "Wednesday",
          "Thursday",
          "Friday",
          "Saturday",
          "Sunday",
          "Monday",
          "Tuesday",
          "Wednesday",
          "Thursday",
          "Friday",
          "Saturday",
          "Sunday",
          "Monday",
          "Tuesday",
          "Wednesday",
          "Thursday",
          "Friday",
          "Saturday",
          "Sunday",
          "Monday",
          "Tuesday",
          "Wednesday",
          "Thursday",
          "Friday",
          "Saturday",
          "Sunday",
          "Monday",
          "Tuesday",
          "Wednesday",
          "Thursday",
          "Tuesday",
          "Wednesday",
          "Thursday",
          "Friday",
          "Tuesday",
          "Wednesday",
          "Thursday",
          "Friday",
          "Saturday",
          "Sunday",
          "Monday",
          "Tuesday",
          "Wednesday",
          "Thursday",
          "Friday",
          "Saturday",
          "Sunday",
          "Monday",
          "Tuesday",
          "Wednesday",
          "Thursday",
          "Friday",
          "Saturday",
          "Sunday",
          "Monday",
          "Tuesday",
          "Wednesday",
          "Thursday",
          "Friday",
          "Saturday",
          "Sunday",
          "Monday",
          "Tuesday",
          "Wednesday",
          "Thursday",
          "Tuesday",
          "Wednesday",
          "Thursday",
          "Friday",
          "Saturday",
          "Sunday",
          "Monday",
          "Tuesday",
          "Wednesday",
          "Thursday",
          "Friday",
          "Saturday",
          "Sunday",
          "Monday",
          "Tuesday",
          "Wednesday",
          "Thursday",
          "Friday",
          "Saturday",
          "Sunday",
          "Monday",
          "Tuesday",
          "Wednesday",
          "Thursday",
          "Friday",
          "Saturday",
          "Sunday",
          "Monday",
          "Tuesday",
          "Wednesday",
          "Thursday",
          "Tuesday",
          "Wednesday",
          "Thursday",
          "Friday",
          "Saturday",
          "Sunday",
          "Monday",
          "Tuesday",
          "Wednesday",
          "Thursday",
          "Friday",
          "Saturday",
          "Sunday",
          "Monday",
          "Tuesday",
          "Wednesday",
          "Thursday",
          "Friday",
          "Saturday",
          "Sunday",
          "Monday",
          "Tuesday",
          "Wednesday",
          "Thursday",
          "Friday",
          "Saturday",
          "Sunday",
          "Monday",
          "Tuesday",
          "Wednesday",
          "Thursday",
          "Tuesday",
          "Wednesday",
          "Thursday",
          "Friday",
          "Saturday",
          "Sunday",
          "Monday",
          "Tuesday",
          "Wednesday",
          "Thursday",
          "Friday",
          "Saturday",
          "Sunday",
          "Monday",
          "Tuesday",
          "Wednesday",
          "Thursday",
          "Friday",
          "Saturday",
          "Sunday",
          "Monday",
          "Tuesday",
          "Wednesday",
          "Thursday",
          "Friday",
          "Saturday",
          "Sunday",
          "Monday",
          "Tuesday",
          "Wednesday",
          "Thursday",
          "Tuesday",
          "Wednesday",
          "Thursday",
          "Friday",
          "Saturday",
          "Sunday",
          "Monday",
          "Tuesday",
          "Wednesday",
          "Thursday",
          "Friday",
          "Saturday",
          "Sunday",
          "Monday",
          "Tuesday",
          "Wednesday",
          "Thursday",
          "Friday",
          "Saturday",
          "Sunday",
          "Monday",
          "Tuesday",
          "Wednesday",
          "Thursday",
          "Friday",
          "Saturday",
          "Sunday",
          "Monday",
          "Tuesday",
          "Wednesday",
          "Thursday",
          "Tuesday",
          "Wednesday",
          "Thursday",
          "Friday",
          "Saturday",
          "Sunday",
          "Monday",
          "Tuesday",
          "Wednesday",
          "Thursday",
          "Friday",
          "Saturday",
          "Sunday",
          "Monday",
          "Tuesday",
          "Wednesday",
          "Thursday",
          "Friday",
          "Saturday",
          "Sunday",
          "Monday",
          "Tuesday",
          "Wednesday",
          "Thursday",
          "Friday",
          "Saturday",
          "Sunday",
          "Monday",
          "Tuesday",
          "Wednesday",
          "Thursday",
          "Tuesday",
          "Wednesday",
          "Thursday",
          "Friday",
          "Saturday",
          "Sunday",
          "Monday",
          "Tuesday",
          "Wednesday",
          "Thursday",
          "Friday",
          "Saturday",
          "Sunday",
          "Monday",
          "Tuesday",
          "Wednesday",
          "Thursday",
          "Friday",
          "Saturday",
          "Sunday",
          "Monday",
          "Tuesday",
          "Wednesday",
          "Thursday",
          "Friday",
          "Saturday",
          "Sunday",
          "Monday",
          "Tuesday",
          "Wednesday",
          "Tuesday",
          "Wednesday",
          "Thursday",
          "Friday",
          "Saturday",
          "Sunday",
          "Monday",
          "Tuesday",
          "Wednesday",
          "Thursday",
          "Friday",
          "Saturday",
          "Sunday",
          "Monday",
          "Tuesday",
          "Wednesday",
          "Thursday",
          "Friday",
          "Saturday",
          "Sunday",
          "Monday",
          "Tuesday",
          "Wednesday",
          "Thursday",
          "Friday",
          "Saturday",
          "Sunday",
          "Monday",
          "Tuesday",
          "Wednesday",
          "Thursday",
          "Friday",
          "Saturday",
          "Sunday",
          "Monday",
          "Tuesday",
          "Wednesday",
          "Thursday",
          "Friday",
          "Saturday",
          "Sunday",
          "Monday",
          "Tuesday",
          "Wednesday",
          "Thursday",
          "Friday",
          "Saturday",
          "Sunday",
          "Monday",
          "Tuesday",
          "Wednesday",
          "Thursday",
          "Friday",
          "Saturday",
          "Sunday",
          "Monday",
          "Tuesday",
          "Tuesday",
          "Wednesday",
          "Thursday",
          "Friday",
          "Saturday",
          "Sunday",
          "Monday",
          "Tuesday",
          "Wednesday",
          "Thursday",
          "Friday",
          "Saturday",
          "Sunday",
          "Monday",
          "Tuesday",
          "Wednesday",
          "Thursday",
          "Friday",
          "Saturday",
          "Sunday",
          "Monday",
          "Tuesday",
          "Wednesday",
          "Thursday",
          "Friday",
          "Saturday",
          "Tuesday",
          "Wednesday",
          "Thursday",
          "Friday",
          "Saturday",
          "Sunday",
          "Monday",
          "Tuesday",
          "Wednesday",
          "Thursday",
          "Friday",
          "Saturday",
          "Sunday",
          "Monday",
          "Tuesday",
          "Wednesday",
          "Thursday",
          "Friday",
          "Saturday",
          "Sunday",
          "Monday",
          "Tuesday",
          "Wednesday",
          "Thursday",
          "Friday",
          "Saturday",
          "Sunday",
          "Monday",
          "Tuesday",
          "Wednesday",
          "Thursday",
          "Tuesday",
          "Wednesday",
          "Thursday",
          "Friday",
          "Saturday",
          "Sunday",
          "Monday",
          "Tuesday",
          "Wednesday",
          "Thursday",
          "Friday",
          "Saturday",
          "Sunday",
          "Monday",
          "Tuesday",
          "Wednesday",
          "Thursday",
          "Friday",
          "Saturday",
          "Sunday",
          "Monday",
          "Tuesday",
          "Wednesday",
          "Thursday",
          "Friday",
          "Saturday",
          "Tuesday",
          "Wednesday",
          "Thursday",
          "Friday",
          "Saturday",
          "Sunday",
          "Monday",
          "Tuesday",
          "Wednesday",
          "Thursday",
          "Friday",
          "Saturday",
          "Sunday",
          "Monday",
          "Tuesday",
          "Wednesday",
          "Thursday",
          "Friday",
          "Saturday",
          "Sunday",
          "Monday",
          "Tuesday",
          "Wednesday",
          "Thursday",
          "Friday",
          "Saturday",
          "Sunday",
          "Monday",
          "Tuesday",
          "Wednesday",
          "Thursday",
          "Tuesday",
          "Wednesday",
          "Thursday",
          "Friday",
          "Saturday",
          "Sunday",
          "Monday",
          "Tuesday",
          "Wednesday",
          "Thursday",
          "Friday",
          "Saturday",
          "Sunday",
          "Monday",
          "Tuesday",
          "Wednesday",
          "Thursday",
          "Friday",
          "Saturday",
          "Sunday",
          "Monday",
          "Tuesday",
          "Wednesday",
          "Thursday",
          "Friday",
          "Saturday",
          "Sunday",
          "Monday",
          "Tuesday",
          "Wednesday",
          "Thursday",
          "Tuesday",
          "Wednesday",
          "Thursday",
          "Friday",
          "Saturday",
          "Sunday",
          "Monday",
          "Tuesday",
          "Wednesday",
          "Thursday",
          "Friday",
          "Saturday",
          "Sunday",
          "Monday",
          "Tuesday",
          "Wednesday",
          "Thursday",
          "Friday",
          "Saturday",
          "Tuesday",
          "Wednesday",
          "Thursday",
          "Friday",
          "Saturday",
          "Sunday",
          "Monday",
          "Tuesday",
          "Wednesday",
          "Thursday",
          "Friday",
          "Saturday",
          "Sunday",
          "Monday",
          "Tuesday",
          "Wednesday",
          "Thursday",
          "Friday",
          "Saturday",
          "Sunday",
          "Monday",
          "Tuesday",
          "Wednesday",
          "Thursday",
          "Friday",
          "Saturday",
          "Sunday",
          "Monday",
          "Tuesday",
          "Wednesday",
          "Thursday",
          "Tuesday",
          "Wednesday",
          "Thursday",
          "Friday",
          "Saturday",
          "Sunday",
          "Monday",
          "Tuesday",
          "Wednesday",
          "Thursday",
          "Friday",
          "Saturday",
          "Sunday",
          "Monday",
          "Tuesday",
          "Wednesday",
          "Thursday",
          "Friday",
          "Saturday",
          "Sunday",
          "Monday",
          "Tuesday",
          "Wednesday",
          "Thursday",
          "Friday",
          "Saturday",
          "Sunday",
          "Monday",
          "Tuesday",
          "Wednesday",
          "Thursday",
          "Tuesday",
          "Wednesday",
          "Thursday",
          "Friday",
          "Saturday",
          "Sunday",
          "Monday",
          "Tuesday",
          "Wednesday",
          "Thursday",
          "Friday",
          "Saturday",
          "Sunday",
          "Monday",
          "Tuesday",
          "Wednesday",
          "Thursday",
          "Friday",
          "Saturday",
          "Sunday",
          "Monday",
          "Tuesday",
          "Wednesday",
          "Thursday",
          "Friday",
          "Saturday",
          "Sunday",
          "Monday",
          "Tuesday",
          "Tuesday",
          "Wednesday",
          "Thursday",
          "Friday",
          "Saturday",
          "Sunday",
          "Monday",
          "Tuesday",
          "Wednesday",
          "Thursday",
          "Friday",
          "Saturday",
          "Sunday",
          "Monday",
          "Tuesday",
          "Wednesday",
          "Thursday",
          "Friday",
          "Saturday",
          "Sunday",
          "Monday",
          "Tuesday",
          "Wednesday",
          "Thursday",
          "Friday",
          "Saturday",
          "Sunday",
          "Monday",
          "Tuesday",
          "Wednesday",
          "Thursday"
         ],
         "xaxis": "x",
         "yaxis": "y"
        }
       ],
       "layout": {
        "bargap": 0.05,
        "barmode": "relative",
        "legend": {
         "tracegroupgap": 0
        },
        "template": {
         "data": {
          "bar": [
           {
            "error_x": {
             "color": "#2a3f5f"
            },
            "error_y": {
             "color": "#2a3f5f"
            },
            "marker": {
             "line": {
              "color": "white",
              "width": 0.5
             },
             "pattern": {
              "fillmode": "overlay",
              "size": 10,
              "solidity": 0.2
             }
            },
            "type": "bar"
           }
          ],
          "barpolar": [
           {
            "marker": {
             "line": {
              "color": "white",
              "width": 0.5
             },
             "pattern": {
              "fillmode": "overlay",
              "size": 10,
              "solidity": 0.2
             }
            },
            "type": "barpolar"
           }
          ],
          "carpet": [
           {
            "aaxis": {
             "endlinecolor": "#2a3f5f",
             "gridcolor": "#C8D4E3",
             "linecolor": "#C8D4E3",
             "minorgridcolor": "#C8D4E3",
             "startlinecolor": "#2a3f5f"
            },
            "baxis": {
             "endlinecolor": "#2a3f5f",
             "gridcolor": "#C8D4E3",
             "linecolor": "#C8D4E3",
             "minorgridcolor": "#C8D4E3",
             "startlinecolor": "#2a3f5f"
            },
            "type": "carpet"
           }
          ],
          "choropleth": [
           {
            "colorbar": {
             "outlinewidth": 0,
             "ticks": ""
            },
            "type": "choropleth"
           }
          ],
          "contour": [
           {
            "colorbar": {
             "outlinewidth": 0,
             "ticks": ""
            },
            "colorscale": [
             [
              0,
              "#0d0887"
             ],
             [
              0.1111111111111111,
              "#46039f"
             ],
             [
              0.2222222222222222,
              "#7201a8"
             ],
             [
              0.3333333333333333,
              "#9c179e"
             ],
             [
              0.4444444444444444,
              "#bd3786"
             ],
             [
              0.5555555555555556,
              "#d8576b"
             ],
             [
              0.6666666666666666,
              "#ed7953"
             ],
             [
              0.7777777777777778,
              "#fb9f3a"
             ],
             [
              0.8888888888888888,
              "#fdca26"
             ],
             [
              1,
              "#f0f921"
             ]
            ],
            "type": "contour"
           }
          ],
          "contourcarpet": [
           {
            "colorbar": {
             "outlinewidth": 0,
             "ticks": ""
            },
            "type": "contourcarpet"
           }
          ],
          "heatmap": [
           {
            "colorbar": {
             "outlinewidth": 0,
             "ticks": ""
            },
            "colorscale": [
             [
              0,
              "#0d0887"
             ],
             [
              0.1111111111111111,
              "#46039f"
             ],
             [
              0.2222222222222222,
              "#7201a8"
             ],
             [
              0.3333333333333333,
              "#9c179e"
             ],
             [
              0.4444444444444444,
              "#bd3786"
             ],
             [
              0.5555555555555556,
              "#d8576b"
             ],
             [
              0.6666666666666666,
              "#ed7953"
             ],
             [
              0.7777777777777778,
              "#fb9f3a"
             ],
             [
              0.8888888888888888,
              "#fdca26"
             ],
             [
              1,
              "#f0f921"
             ]
            ],
            "type": "heatmap"
           }
          ],
          "heatmapgl": [
           {
            "colorbar": {
             "outlinewidth": 0,
             "ticks": ""
            },
            "colorscale": [
             [
              0,
              "#0d0887"
             ],
             [
              0.1111111111111111,
              "#46039f"
             ],
             [
              0.2222222222222222,
              "#7201a8"
             ],
             [
              0.3333333333333333,
              "#9c179e"
             ],
             [
              0.4444444444444444,
              "#bd3786"
             ],
             [
              0.5555555555555556,
              "#d8576b"
             ],
             [
              0.6666666666666666,
              "#ed7953"
             ],
             [
              0.7777777777777778,
              "#fb9f3a"
             ],
             [
              0.8888888888888888,
              "#fdca26"
             ],
             [
              1,
              "#f0f921"
             ]
            ],
            "type": "heatmapgl"
           }
          ],
          "histogram": [
           {
            "marker": {
             "pattern": {
              "fillmode": "overlay",
              "size": 10,
              "solidity": 0.2
             }
            },
            "type": "histogram"
           }
          ],
          "histogram2d": [
           {
            "colorbar": {
             "outlinewidth": 0,
             "ticks": ""
            },
            "colorscale": [
             [
              0,
              "#0d0887"
             ],
             [
              0.1111111111111111,
              "#46039f"
             ],
             [
              0.2222222222222222,
              "#7201a8"
             ],
             [
              0.3333333333333333,
              "#9c179e"
             ],
             [
              0.4444444444444444,
              "#bd3786"
             ],
             [
              0.5555555555555556,
              "#d8576b"
             ],
             [
              0.6666666666666666,
              "#ed7953"
             ],
             [
              0.7777777777777778,
              "#fb9f3a"
             ],
             [
              0.8888888888888888,
              "#fdca26"
             ],
             [
              1,
              "#f0f921"
             ]
            ],
            "type": "histogram2d"
           }
          ],
          "histogram2dcontour": [
           {
            "colorbar": {
             "outlinewidth": 0,
             "ticks": ""
            },
            "colorscale": [
             [
              0,
              "#0d0887"
             ],
             [
              0.1111111111111111,
              "#46039f"
             ],
             [
              0.2222222222222222,
              "#7201a8"
             ],
             [
              0.3333333333333333,
              "#9c179e"
             ],
             [
              0.4444444444444444,
              "#bd3786"
             ],
             [
              0.5555555555555556,
              "#d8576b"
             ],
             [
              0.6666666666666666,
              "#ed7953"
             ],
             [
              0.7777777777777778,
              "#fb9f3a"
             ],
             [
              0.8888888888888888,
              "#fdca26"
             ],
             [
              1,
              "#f0f921"
             ]
            ],
            "type": "histogram2dcontour"
           }
          ],
          "mesh3d": [
           {
            "colorbar": {
             "outlinewidth": 0,
             "ticks": ""
            },
            "type": "mesh3d"
           }
          ],
          "parcoords": [
           {
            "line": {
             "colorbar": {
              "outlinewidth": 0,
              "ticks": ""
             }
            },
            "type": "parcoords"
           }
          ],
          "pie": [
           {
            "automargin": true,
            "type": "pie"
           }
          ],
          "scatter": [
           {
            "fillpattern": {
             "fillmode": "overlay",
             "size": 10,
             "solidity": 0.2
            },
            "type": "scatter"
           }
          ],
          "scatter3d": [
           {
            "line": {
             "colorbar": {
              "outlinewidth": 0,
              "ticks": ""
             }
            },
            "marker": {
             "colorbar": {
              "outlinewidth": 0,
              "ticks": ""
             }
            },
            "type": "scatter3d"
           }
          ],
          "scattercarpet": [
           {
            "marker": {
             "colorbar": {
              "outlinewidth": 0,
              "ticks": ""
             }
            },
            "type": "scattercarpet"
           }
          ],
          "scattergeo": [
           {
            "marker": {
             "colorbar": {
              "outlinewidth": 0,
              "ticks": ""
             }
            },
            "type": "scattergeo"
           }
          ],
          "scattergl": [
           {
            "marker": {
             "colorbar": {
              "outlinewidth": 0,
              "ticks": ""
             }
            },
            "type": "scattergl"
           }
          ],
          "scattermapbox": [
           {
            "marker": {
             "colorbar": {
              "outlinewidth": 0,
              "ticks": ""
             }
            },
            "type": "scattermapbox"
           }
          ],
          "scatterpolar": [
           {
            "marker": {
             "colorbar": {
              "outlinewidth": 0,
              "ticks": ""
             }
            },
            "type": "scatterpolar"
           }
          ],
          "scatterpolargl": [
           {
            "marker": {
             "colorbar": {
              "outlinewidth": 0,
              "ticks": ""
             }
            },
            "type": "scatterpolargl"
           }
          ],
          "scatterternary": [
           {
            "marker": {
             "colorbar": {
              "outlinewidth": 0,
              "ticks": ""
             }
            },
            "type": "scatterternary"
           }
          ],
          "surface": [
           {
            "colorbar": {
             "outlinewidth": 0,
             "ticks": ""
            },
            "colorscale": [
             [
              0,
              "#0d0887"
             ],
             [
              0.1111111111111111,
              "#46039f"
             ],
             [
              0.2222222222222222,
              "#7201a8"
             ],
             [
              0.3333333333333333,
              "#9c179e"
             ],
             [
              0.4444444444444444,
              "#bd3786"
             ],
             [
              0.5555555555555556,
              "#d8576b"
             ],
             [
              0.6666666666666666,
              "#ed7953"
             ],
             [
              0.7777777777777778,
              "#fb9f3a"
             ],
             [
              0.8888888888888888,
              "#fdca26"
             ],
             [
              1,
              "#f0f921"
             ]
            ],
            "type": "surface"
           }
          ],
          "table": [
           {
            "cells": {
             "fill": {
              "color": "#EBF0F8"
             },
             "line": {
              "color": "white"
             }
            },
            "header": {
             "fill": {
              "color": "#C8D4E3"
             },
             "line": {
              "color": "white"
             }
            },
            "type": "table"
           }
          ]
         },
         "layout": {
          "annotationdefaults": {
           "arrowcolor": "#2a3f5f",
           "arrowhead": 0,
           "arrowwidth": 1
          },
          "autotypenumbers": "strict",
          "coloraxis": {
           "colorbar": {
            "outlinewidth": 0,
            "ticks": ""
           }
          },
          "colorscale": {
           "diverging": [
            [
             0,
             "#8e0152"
            ],
            [
             0.1,
             "#c51b7d"
            ],
            [
             0.2,
             "#de77ae"
            ],
            [
             0.3,
             "#f1b6da"
            ],
            [
             0.4,
             "#fde0ef"
            ],
            [
             0.5,
             "#f7f7f7"
            ],
            [
             0.6,
             "#e6f5d0"
            ],
            [
             0.7,
             "#b8e186"
            ],
            [
             0.8,
             "#7fbc41"
            ],
            [
             0.9,
             "#4d9221"
            ],
            [
             1,
             "#276419"
            ]
           ],
           "sequential": [
            [
             0,
             "#0d0887"
            ],
            [
             0.1111111111111111,
             "#46039f"
            ],
            [
             0.2222222222222222,
             "#7201a8"
            ],
            [
             0.3333333333333333,
             "#9c179e"
            ],
            [
             0.4444444444444444,
             "#bd3786"
            ],
            [
             0.5555555555555556,
             "#d8576b"
            ],
            [
             0.6666666666666666,
             "#ed7953"
            ],
            [
             0.7777777777777778,
             "#fb9f3a"
            ],
            [
             0.8888888888888888,
             "#fdca26"
            ],
            [
             1,
             "#f0f921"
            ]
           ],
           "sequentialminus": [
            [
             0,
             "#0d0887"
            ],
            [
             0.1111111111111111,
             "#46039f"
            ],
            [
             0.2222222222222222,
             "#7201a8"
            ],
            [
             0.3333333333333333,
             "#9c179e"
            ],
            [
             0.4444444444444444,
             "#bd3786"
            ],
            [
             0.5555555555555556,
             "#d8576b"
            ],
            [
             0.6666666666666666,
             "#ed7953"
            ],
            [
             0.7777777777777778,
             "#fb9f3a"
            ],
            [
             0.8888888888888888,
             "#fdca26"
            ],
            [
             1,
             "#f0f921"
            ]
           ]
          },
          "colorway": [
           "#636efa",
           "#EF553B",
           "#00cc96",
           "#ab63fa",
           "#FFA15A",
           "#19d3f3",
           "#FF6692",
           "#B6E880",
           "#FF97FF",
           "#FECB52"
          ],
          "font": {
           "color": "#2a3f5f"
          },
          "geo": {
           "bgcolor": "white",
           "lakecolor": "white",
           "landcolor": "white",
           "showlakes": true,
           "showland": true,
           "subunitcolor": "#C8D4E3"
          },
          "hoverlabel": {
           "align": "left"
          },
          "hovermode": "closest",
          "mapbox": {
           "style": "light"
          },
          "paper_bgcolor": "white",
          "plot_bgcolor": "white",
          "polar": {
           "angularaxis": {
            "gridcolor": "#EBF0F8",
            "linecolor": "#EBF0F8",
            "ticks": ""
           },
           "bgcolor": "white",
           "radialaxis": {
            "gridcolor": "#EBF0F8",
            "linecolor": "#EBF0F8",
            "ticks": ""
           }
          },
          "scene": {
           "xaxis": {
            "backgroundcolor": "white",
            "gridcolor": "#DFE8F3",
            "gridwidth": 2,
            "linecolor": "#EBF0F8",
            "showbackground": true,
            "ticks": "",
            "zerolinecolor": "#EBF0F8"
           },
           "yaxis": {
            "backgroundcolor": "white",
            "gridcolor": "#DFE8F3",
            "gridwidth": 2,
            "linecolor": "#EBF0F8",
            "showbackground": true,
            "ticks": "",
            "zerolinecolor": "#EBF0F8"
           },
           "zaxis": {
            "backgroundcolor": "white",
            "gridcolor": "#DFE8F3",
            "gridwidth": 2,
            "linecolor": "#EBF0F8",
            "showbackground": true,
            "ticks": "",
            "zerolinecolor": "#EBF0F8"
           }
          },
          "shapedefaults": {
           "line": {
            "color": "#2a3f5f"
           }
          },
          "ternary": {
           "aaxis": {
            "gridcolor": "#DFE8F3",
            "linecolor": "#A2B1C6",
            "ticks": ""
           },
           "baxis": {
            "gridcolor": "#DFE8F3",
            "linecolor": "#A2B1C6",
            "ticks": ""
           },
           "bgcolor": "white",
           "caxis": {
            "gridcolor": "#DFE8F3",
            "linecolor": "#A2B1C6",
            "ticks": ""
           }
          },
          "title": {
           "x": 0.05
          },
          "xaxis": {
           "automargin": true,
           "gridcolor": "#EBF0F8",
           "linecolor": "#EBF0F8",
           "ticks": "",
           "title": {
            "standoff": 15
           },
           "zerolinecolor": "#EBF0F8",
           "zerolinewidth": 2
          },
          "yaxis": {
           "automargin": true,
           "gridcolor": "#EBF0F8",
           "linecolor": "#EBF0F8",
           "ticks": "",
           "title": {
            "standoff": 15
           },
           "zerolinecolor": "#EBF0F8",
           "zerolinewidth": 2
          }
         }
        },
        "title": {
         "text": "No. of times users logged in app across the week"
        },
        "xaxis": {
         "anchor": "y",
         "categoryarray": [
          "Sunday",
          "Monday",
          "Tuesday",
          "Wednesday",
          "Thursday",
          "Friday",
          "Saturday"
         ],
         "categoryorder": "array",
         "domain": [
          0,
          1
         ],
         "title": {
          "text": "Day of the week"
         }
        },
        "yaxis": {
         "anchor": "x",
         "domain": [
          0,
          1
         ],
         "title": {
          "text": "Frequency"
         }
        }
       }
      }
     },
     "metadata": {},
     "output_type": "display_data"
    }
   ],
   "source": [
    "import plotly.express as px\n",
    "import pandas as pd\n",
    "\n",
    "# Assuming df_activity is your DataFrame containing the data\n",
    "\n",
    "# Define the order of the days of the week\n",
    "day_order = [\"Sunday\", \"Monday\", \"Tuesday\", \"Wednesday\", \"Thursday\", \"Friday\", \"Saturday\"]\n",
    "\n",
    "# Create a histogram using Plotly Express\n",
    "fig = px.histogram(df_activity, x=\"day_of_the_week\",\n",
    "                   title=\"No. of times users logged in app across the week\",\n",
    "                   labels={\"day_of_the_week\": \"Day of the week\", \"count\": \"Frequency\"},\n",
    "                   color_discrete_sequence=[\"lightskyblue\"],\n",
    "                   nbins=7,\n",
    "                   category_orders={\"day_of_the_week\": day_order})  # Specify the category order\n",
    "\n",
    "# Update layout for better aesthetics\n",
    "fig.update_layout(\n",
    "    xaxis=dict(title=\"Day of the week\"),\n",
    "    yaxis=dict(title=\"Frequency\"),\n",
    "    bargap=0.05,\n",
    "    template=\"plotly_white\"\n",
    ")\n",
    "\n",
    "# Show the interactive plot\n",
    "fig.show()\n"
   ]
  },
  {
   "cell_type": "code",
   "execution_count": 15,
   "id": "million-framework",
   "metadata": {
    "execution": {
     "iopub.execute_input": "2021-07-09T05:00:56.313051Z",
     "iopub.status.busy": "2021-07-09T05:00:56.312063Z",
     "iopub.status.idle": "2021-07-09T05:00:56.607446Z",
     "shell.execute_reply": "2021-07-09T05:00:56.607904Z",
     "shell.execute_reply.started": "2021-07-09T05:00:05.215972Z"
    },
    "papermill": {
     "duration": 0.352053,
     "end_time": "2021-07-09T05:00:56.608071",
     "exception": false,
     "start_time": "2021-07-09T05:00:56.256018",
     "status": "completed"
    },
    "tags": []
   },
   "outputs": [
    {
     "data": {
      "application/vnd.plotly.v1+json": {
       "config": {
        "plotlyServerURL": "https://plot.ly"
       },
       "data": [
        {
         "hovertemplate": "Steps taken=%{x}<br>Calories burned=%{marker.color}<extra></extra>",
         "legendgroup": "",
         "marker": {
          "color": [
           1985,
           1797,
           1776,
           1745,
           1863,
           1728,
           1921,
           2035,
           1786,
           1775,
           1827,
           1949,
           1788,
           2013,
           1970,
           2159,
           1898,
           1837,
           1947,
           1820,
           2004,
           1990,
           1819,
           1959,
           1896,
           1821,
           1740,
           1819,
           1859,
           1783,
           0,
           1432,
           1411,
           1572,
           1344,
           1463,
           1554,
           1604,
           1435,
           1446,
           1467,
           1470,
           1562,
           1617,
           1492,
           1402,
           1670,
           1401,
           1404,
           1655,
           2690,
           1497,
           1334,
           1368,
           1370,
           1341,
           1474,
           1427,
           1328,
           1393,
           1359,
           1002,
           3199,
           2902,
           3226,
           2750,
           3493,
           3011,
           2806,
           3300,
           2430,
           2140,
           2344,
           2677,
           2413,
           2497,
           3123,
           2489,
           3108,
           2498,
           3846,
           2696,
           2580,
           3324,
           2222,
           2463,
           3328,
           3404,
           2987,
           3008,
           2799,
           1276,
           2030,
           1860,
           2130,
           1725,
           1657,
           1793,
           1814,
           1366,
           1349,
           2062,
           1827,
           1645,
           1347,
           1347,
           1347,
           1348,
           1992,
           1856,
           1763,
           1541,
           1348,
           1742,
           1549,
           1589,
           1351,
           1347,
           1347,
           1347,
           1347,
           1347,
           665,
           2220,
           2151,
           2383,
           2221,
           2064,
           2063,
           2111,
           2063,
           2063,
           2064,
           2093,
           2499,
           2324,
           2100,
           2638,
           2063,
           2351,
           2063,
           2064,
           2411,
           2505,
           2195,
           2338,
           2063,
           2383,
           2229,
           2063,
           2063,
           2063,
           2063,
           1383,
           2390,
           2601,
           2312,
           2525,
           2177,
           2782,
           2770,
           2489,
           2897,
           3158,
           2638,
           2069,
           2529,
           2470,
           2793,
           2463,
           2296,
           2611,
           2732,
           2380,
           2473,
           2752,
           2649,
           2609,
           2498,
           1995,
           1848,
           2709,
           2797,
           2544,
           1853,
           1459,
           1521,
           1431,
           1444,
           1373,
           1214,
           1419,
           1356,
           1667,
           1370,
           1399,
           1916,
           1401,
           1576,
           1595,
           1593,
           1649,
           1692,
           1506,
           1447,
           1690,
           1604,
           1658,
           1926,
           1736,
           1491,
           1555,
           1869,
           1141,
           1698,
           1364,
           2124,
           2003,
           1696,
           1801,
           1724,
           1852,
           1905,
           1811,
           1922,
           1610,
           1851,
           1804,
           1725,
           1654,
           1632,
           1481,
           1473,
           1410,
           1779,
           1403,
           1613,
           1878,
           1426,
           1780,
           1742,
           1972,
           1821,
           1630,
           1899,
           1903,
           1125,
           2344,
           2038,
           2010,
           2133,
           2670,
           1882,
           1944,
           2346,
           2198,
           2048,
           1946,
           2629,
           2187,
           2095,
           1861,
           2194,
           1854,
           403,
           1982,
           2004,
           1893,
           2063,
           2148,
           1529,
           1890,
           1956,
           2094,
           1970,
           2241,
           2021,
           1898,
           1907,
           1882,
           1966,
           1835,
           1780,
           1830,
           1739,
           1878,
           1906,
           2015,
           1971,
           1910,
           1897,
           2096,
           1906,
           1962,
           1826,
           1431,
           1788,
           2093,
           2065,
           1908,
           1908,
           1964,
           2014,
           1985,
           1867,
           2124,
           1669,
           1995,
           1921,
           2010,
           2057,
           2095,
           1972,
           2044,
           1946,
           1237,
           1450,
           1495,
           1433,
           1468,
           1625,
           1529,
           1584,
           1638,
           1554,
           1397,
           1481,
           1638,
           1655,
           1570,
           1551,
           1377,
           1407,
           1545,
           1650,
           1501,
           1760,
           1710,
           1628,
           1618,
           1590,
           1574,
           1633,
           1667,
           1630,
           52,
           3654,
           1981,
           2011,
           2951,
           3051,
           1990,
           1995,
           1980,
           1980,
           1980,
           1980,
           1980,
           1980,
           1980,
           1980,
           1980,
           1980,
           1980,
           1980,
           1980,
           2207,
           2828,
           3879,
           3429,
           2704,
           2975,
           3089,
           2785,
           2926,
           2645,
           1120,
           2286,
           2306,
           1776,
           1527,
           2115,
           2135,
           2302,
           1985,
           1884,
           1464,
           1632,
           2200,
           2220,
           1792,
           1886,
           1945,
           1880,
           2314,
           2236,
           2324,
           2367,
           2175,
           2092,
           1593,
           2270,
           2235,
           2282,
           2530,
           2266,
           2158,
           1792,
           2345,
           2260,
           2232,
           257,
           2955,
           3092,
           2998,
           3066,
           3073,
           2572,
           3274,
           3015,
           3083,
           3069,
           3544,
           3306,
           2885,
           3288,
           2929,
           3074,
           2969,
           2979,
           3283,
           2926,
           3147,
           3290,
           3162,
           2899,
           3425,
           4022,
           3934,
           3013,
           3061,
           2954,
           1623,
           2113,
           2095,
           2194,
           2496,
           2180,
           1933,
           2248,
           1954,
           1974,
           2150,
           2432,
           2149,
           2247,
           2070,
           2291,
           2361,
           2203,
           2196,
           2363,
           2246,
           2336,
           2421,
           2070,
           2120,
           2211,
           2123,
           2423,
           2281,
           2181,
           2499,
           1212,
           1909,
           1722,
           1922,
           2121,
           1997,
           2117,
           2116,
           1876,
           1788,
           2486,
           2094,
           2085,
           2173,
           2225,
           2223,
           2098,
           2185,
           1918,
           2105,
           1692,
           2066,
           1953,
           1842,
           2262,
           1722,
           1973,
           2666,
           2223,
           1889,
           2131,
           1452,
           2947,
           2898,
           2984,
           2896,
           3328,
           3394,
           3013,
           2812,
           3061,
           2729,
           2241,
           3691,
           3538,
           3064,
           2784,
           2908,
           3033,
           3165,
           3115,
           2017,
           2859,
           3145,
           3004,
           3006,
           2859,
           3683,
           3287,
           2990,
           3172,
           3069,
           1240,
           2026,
           1718,
           2324,
           2254,
           1831,
           1397,
           1683,
           2284,
           1570,
           2066,
           2105,
           1776,
           1507,
           2033,
           2093,
           1922,
           1999,
           2169,
           1463,
           1747,
           1996,
           2116,
           1698,
           2156,
           1916,
           1494,
           1762,
           2272,
           2335,
           1693,
           741,
           3405,
           2551,
           4022,
           4005,
           4274,
           4552,
           3625,
           3501,
           3192,
           4018,
           3329,
           3152,
           4392,
           3374,
           3088,
           3294,
           3580,
           3544,
           4501,
           4546,
           3014,
           3795,
           2755,
           3004,
           2643,
           1819,
           1819,
           2489,
           3841,
           1665,
           1496,
           1496,
           1496,
           2865,
           2828,
           2225,
           2018,
           2606,
           2536,
           4900,
           2409,
           2651,
           2305,
           1497,
           2450,
           2576,
           1879,
           2560,
           2275,
           2361,
           2044,
           1496,
           1902,
           2636,
           1838,
           2469,
           2250,
           1248,
           2560,
           2905,
           2952,
           2896,
           2783,
           3171,
           2766,
           2839,
           2701,
           2060,
           2796,
           2664,
           2703,
           2771,
           2060,
           2743,
           2687,
           2060,
           2843,
           3327,
           2725,
           2671,
           2718,
           2682,
           2806,
           2613,
           2712,
           2175,
           0,
           1841,
           2400,
           2507,
           2127,
           2225,
           2067,
           2798,
           1841,
           3727,
           1841,
           1922,
           1841,
           2053,
           2484,
           2584,
           1841,
           1993,
           1841,
           2280,
           2319,
           1841,
           1843,
           1841,
           1841,
           2496,
           1032,
           1994,
           1718,
           1466,
           1756,
           2173,
           2027,
           2039,
           2046,
           2174,
           2179,
           2086,
           2571,
           1705,
           2194,
           2012,
           2034,
           2182,
           2254,
           2002,
           1740,
           2162,
           2072,
           2086,
           2066,
           1850,
           1947,
           1659,
           2105,
           2361,
           1855,
           928,
           2937,
           2742,
           2668,
           2098,
           2076,
           2383,
           2832,
           2812,
           3096,
           2763,
           2889,
           2284,
           2667,
           3055,
           2939,
           2830,
           2836,
           3180,
           2051,
           2225,
           2642,
           2976,
           1557,
           2933,
           2553,
           120,
           2772,
           2516,
           2734,
           2395,
           1635,
           1629,
           2743,
           2944,
           2997,
           2463,
           2846,
           1965,
           2049,
           2752,
           2781,
           2693,
           2862,
           2616,
           2995,
           2730,
           2754,
           2754,
           2655,
           2386,
           2924,
           2739,
           2534,
           2960,
           2800,
           2735,
           1199,
           3186,
           3140,
           3411,
           3410,
           2867,
           3213,
           3133,
           3114,
           3043,
           3103,
           2655,
           3554,
           3577,
           3403,
           2846,
           2852,
           3062,
           2794,
           2408,
           1886,
           1988,
           3023,
           2918,
           2950,
           2859,
           3331,
           3589,
           2765,
           2926,
           2809,
           1505,
           2044,
           1935,
           1705,
           1632,
           1880,
           2112,
           1829,
           1763,
           1931,
           2218,
           1651,
           2132,
           1976,
           1909,
           1813,
           2008,
           1580,
           1854,
           0,
           3635,
           4079,
           4163,
           3666,
           3363,
           2572,
           4157,
           4092,
           3787,
           4236,
           4044,
           2908,
           2741,
           4005,
           3763,
           3061,
           2884,
           2982,
           2660,
           3369,
           3491,
           3784,
           3110,
           3783,
           3644,
           2799,
           2685,
           3721,
           3586,
           3788,
           1976,
           2650,
           2654,
           2443,
           2505,
           2693,
           2439,
           2536,
           2668,
           2647,
           2883,
           2944,
           3012,
           2889,
           2547,
           3093,
           3142,
           2757,
           3513,
           3164,
           2596,
           2894,
           3212,
           2516,
           3266,
           2683,
           2810,
           2940,
           2947,
           2846,
           2804,
           0,
           2044,
           1934,
           1963,
           2009,
           1721,
           1688,
           1688,
           1688,
           2188,
           1720,
           2419,
           2748,
           1799,
           1688,
           1928,
           2067,
           2780,
           3101,
           2896,
           1962,
           2015,
           2297,
           2067,
           1688,
           1688,
           1688,
           1688,
           1688,
           57,
           3921,
           3566,
           3793,
           3934,
           4547,
           3545,
           2761,
           3676,
           3679,
           3659,
           3427,
           3891,
           3455,
           3802,
           2860,
           3808,
           3060,
           2698,
           4398,
           2786,
           2189,
           2817,
           3477,
           3052,
           4015,
           4142,
           2847,
           3710,
           2832,
           3832,
           1849
          ],
          "coloraxis": "coloraxis",
          "symbol": "circle"
         },
         "mode": "markers",
         "name": "",
         "orientation": "v",
         "showlegend": false,
         "type": "scatter",
         "x": [
          13162,
          10735,
          10460,
          9762,
          12669,
          9705,
          13019,
          15506,
          10544,
          9819,
          12764,
          14371,
          10039,
          15355,
          13755,
          18134,
          13154,
          11181,
          14673,
          10602,
          14727,
          15103,
          11100,
          14070,
          12159,
          11992,
          10060,
          12022,
          12207,
          12770,
          0,
          8163,
          7007,
          9107,
          1510,
          5370,
          6175,
          10536,
          2916,
          4974,
          6349,
          4026,
          8538,
          6076,
          6497,
          2826,
          8367,
          2759,
          2390,
          6474,
          36019,
          7155,
          2100,
          2193,
          2470,
          1727,
          2104,
          3427,
          1732,
          2969,
          3134,
          2971,
          10694,
          8001,
          11037,
          5263,
          15300,
          8757,
          7132,
          11256,
          2436,
          1223,
          3673,
          6637,
          3321,
          3580,
          9919,
          3032,
          9405,
          3176,
          18213,
          6132,
          3758,
          12850,
          2309,
          4363,
          9787,
          13372,
          6724,
          6643,
          9167,
          1329,
          6697,
          4929,
          7937,
          3844,
          3414,
          4525,
          4597,
          197,
          8,
          8054,
          5372,
          3570,
          0,
          0,
          0,
          4,
          6907,
          4920,
          4014,
          2573,
          0,
          4059,
          2080,
          2237,
          44,
          0,
          0,
          0,
          0,
          0,
          0,
          678,
          356,
          2163,
          980,
          0,
          0,
          244,
          0,
          0,
          0,
          149,
          2945,
          2090,
          152,
          3761,
          0,
          1675,
          0,
          0,
          2704,
          3790,
          1326,
          1786,
          0,
          2091,
          1510,
          0,
          0,
          0,
          0,
          0,
          11875,
          12024,
          10690,
          11034,
          10100,
          15112,
          14131,
          11548,
          15112,
          12453,
          12954,
          6001,
          13481,
          11369,
          10119,
          10159,
          10140,
          10245,
          18387,
          10538,
          10379,
          12183,
          11768,
          11895,
          10227,
          6708,
          3292,
          13379,
          12798,
          13272,
          9117,
          4414,
          4993,
          3335,
          3821,
          2547,
          838,
          3325,
          2424,
          7222,
          2467,
          2915,
          12357,
          3490,
          6017,
          5933,
          6088,
          6375,
          7604,
          4729,
          3609,
          7018,
          5992,
          6564,
          12167,
          8198,
          4193,
          5528,
          10685,
          254,
          8580,
          8891,
          10725,
          7275,
          3973,
          5205,
          5057,
          6198,
          6559,
          5997,
          7192,
          3404,
          5583,
          5079,
          4165,
          3588,
          3409,
          1715,
          1532,
          924,
          4571,
          772,
          3634,
          7443,
          1201,
          5202,
          4878,
          7379,
          5161,
          3090,
          6227,
          6424,
          2661,
          10113,
          10352,
          10129,
          10465,
          22244,
          5472,
          8247,
          6711,
          10999,
          10080,
          7804,
          16901,
          9471,
          9482,
          5980,
          11423,
          5439,
          42,
          8796,
          7618,
          7910,
          8482,
          9685,
          2524,
          7762,
          7948,
          9202,
          8859,
          7286,
          9317,
          6873,
          7373,
          8242,
          3516,
          7913,
          7365,
          8452,
          7399,
          7525,
          7412,
          8278,
          8314,
          7063,
          4940,
          8168,
          7726,
          8275,
          6440,
          7566,
          4747,
          9715,
          8844,
          7451,
          6905,
          8199,
          6798,
          7711,
          4880,
          8857,
          3843,
          7396,
          6731,
          5995,
          8283,
          7904,
          5512,
          9135,
          5250,
          3077,
          8856,
          10035,
          7641,
          9010,
          13459,
          10415,
          11663,
          12414,
          11658,
          6093,
          8911,
          12058,
          14112,
          11177,
          11388,
          7193,
          7114,
          10645,
          13238,
          10414,
          16520,
          14335,
          13559,
          12312,
          11677,
          11550,
          13585,
          14687,
          13072,
          746,
          8539,
          0,
          108,
          1882,
          1982,
          16,
          62,
          0,
          0,
          0,
          0,
          0,
          0,
          0,
          0,
          0,
          0,
          0,
          0,
          0,
          475,
          4496,
          10252,
          11728,
          4369,
          6132,
          5862,
          4556,
          5546,
          3689,
          590,
          5394,
          5974,
          0,
          3984,
          7753,
          8204,
          10210,
          5664,
          4744,
          29,
          2276,
          8925,
          8954,
          3702,
          4500,
          4935,
          4081,
          9259,
          9899,
          10780,
          10817,
          7990,
          8221,
          1251,
          9261,
          9648,
          10429,
          13658,
          9524,
          7937,
          3672,
          10378,
          9487,
          9129,
          17,
          10122,
          10993,
          8863,
          8758,
          6580,
          4660,
          11009,
          10181,
          10553,
          10055,
          12139,
          13236,
          10243,
          12961,
          9461,
          11193,
          10074,
          9232,
          12533,
          10255,
          10096,
          12727,
          12375,
          9603,
          13175,
          22770,
          17298,
          10218,
          10299,
          10201,
          3369,
          3276,
          2961,
          3974,
          7198,
          3945,
          2268,
          6155,
          2064,
          2072,
          3809,
          6831,
          4363,
          5002,
          3385,
          6326,
          7243,
          4493,
          4676,
          6222,
          5232,
          6910,
          7502,
          2923,
          3800,
          4514,
          5183,
          7303,
          5275,
          3915,
          9105,
          768,
          5135,
          4978,
          6799,
          7795,
          7289,
          9634,
          8940,
          5401,
          4803,
          13743,
          9601,
          6890,
          8563,
          8095,
          9148,
          9557,
          9451,
          7833,
          10319,
          3428,
          7891,
          5267,
          5232,
          10611,
          3755,
          8237,
          6543,
          11451,
          6435,
          9108,
          6307,
          7213,
          6877,
          7860,
          6506,
          11140,
          12692,
          9105,
          6708,
          8793,
          6530,
          1664,
          15126,
          15050,
          9167,
          6108,
          7047,
          9023,
          9930,
          10144,
          0,
          7245,
          9454,
          8161,
          8614,
          6943,
          14370,
          12857,
          8232,
          10613,
          9810,
          2752,
          11596,
          4832,
          17022,
          16556,
          5771,
          655,
          3727,
          15482,
          2713,
          12346,
          11682,
          4112,
          1807,
          10946,
          11886,
          10538,
          11393,
          12764,
          1202,
          5164,
          9769,
          12848,
          4249,
          14331,
          9632,
          1868,
          6083,
          11611,
          16358,
          4926,
          3121,
          8135,
          5077,
          8596,
          12087,
          14269,
          12231,
          9893,
          12574,
          8330,
          10830,
          9172,
          7638,
          15764,
          6393,
          5325,
          6805,
          9841,
          7924,
          12363,
          13368,
          7439,
          11045,
          5206,
          7550,
          4950,
          0,
          0,
          3421,
          8869,
          4038,
          0,
          0,
          0,
          14019,
          14450,
          7150,
          5153,
          11135,
          10449,
          19542,
          8206,
          11495,
          7623,
          0,
          9543,
          9411,
          3403,
          9592,
          6987,
          8915,
          4933,
          0,
          2997,
          9799,
          3365,
          7336,
          7328,
          4477,
          4562,
          7142,
          7671,
          9501,
          8301,
          7851,
          6885,
          7142,
          6361,
          0,
          6238,
          0,
          5896,
          7802,
          0,
          5565,
          5731,
          0,
          6744,
          9837,
          6781,
          6047,
          5832,
          6339,
          6116,
          5510,
          7706,
          6277,
          0,
          0,
          4053,
          5162,
          1282,
          4732,
          2497,
          8294,
          0,
          10771,
          0,
          637,
          0,
          2153,
          6474,
          7091,
          0,
          703,
          0,
          2503,
          2487,
          0,
          9,
          0,
          0,
          4697,
          1967,
          10199,
          5652,
          1551,
          5563,
          13217,
          10145,
          11404,
          10742,
          13928,
          11835,
          10725,
          20031,
          5029,
          13239,
          10433,
          10320,
          12627,
          10762,
          10081,
          5454,
          12912,
          12109,
          10147,
          10524,
          5908,
          6815,
          4188,
          12342,
          15448,
          6722,
          3587,
          14172,
          12862,
          11179,
          5273,
          4631,
          8059,
          14816,
          14194,
          15566,
          13744,
          15299,
          8093,
          11085,
          18229,
          15090,
          13541,
          15128,
          20067,
          3761,
          5600,
          13041,
          14510,
          0,
          15010,
          11459,
          0,
          11317,
          5813,
          9123,
          8585,
          31,
          0,
          9827,
          10688,
          14365,
          9469,
          9753,
          2817,
          3520,
          10091,
          10387,
          11107,
          11584,
          7881,
          14560,
          12390,
          10052,
          10288,
          10988,
          8564,
          12461,
          12827,
          10677,
          13566,
          14433,
          9572,
          3789,
          18060,
          16433,
          20159,
          20669,
          14549,
          18827,
          17076,
          15929,
          15108,
          16057,
          10520,
          22359,
          22988,
          20500,
          12685,
          12422,
          15447,
          12315,
          7135,
          1170,
          1969,
          15484,
          14581,
          14990,
          13953,
          19769,
          22026,
          12465,
          14810,
          12209,
          4998,
          9033,
          8053,
          5234,
          2672,
          9256,
          10204,
          5151,
          4212,
          6466,
          11268,
          2824,
          9282,
          8905,
          6829,
          4562,
          10232,
          2718,
          6260,
          0,
          7626,
          12386,
          13318,
          14461,
          11207,
          2132,
          13630,
          13070,
          9388,
          15148,
          12200,
          5709,
          3703,
          12405,
          16208,
          7359,
          5417,
          6175,
          2946,
          11419,
          6064,
          8712,
          7875,
          8567,
          7045,
          4468,
          2943,
          8382,
          6582,
          9143,
          4561,
          5014,
          5571,
          3135,
          3430,
          5319,
          3008,
          3864,
          5697,
          5273,
          8538,
          8687,
          9423,
          8286,
          4503,
          10499,
          12474,
          6174,
          15168,
          10085,
          4512,
          8469,
          12015,
          3588,
          12427,
          5843,
          6117,
          9217,
          9877,
          8240,
          8701,
          0,
          2564,
          1320,
          1219,
          2483,
          244,
          0,
          0,
          0,
          3147,
          144,
          4068,
          5245,
          400,
          0,
          1321,
          1758,
          6157,
          8360,
          7174,
          1619,
          1831,
          2421,
          2283,
          0,
          0,
          0,
          0,
          0,
          0,
          23186,
          15337,
          21129,
          13422,
          29326,
          15118,
          11423,
          18785,
          19948,
          19377,
          18258,
          11200,
          16674,
          12986,
          11101,
          23629,
          14890,
          9733,
          27745,
          10930,
          4790,
          10818,
          18193,
          14055,
          21727,
          12332,
          10686,
          20226,
          10733,
          21420,
          8064
         ],
         "xaxis": "x",
         "y": [
          1985,
          1797,
          1776,
          1745,
          1863,
          1728,
          1921,
          2035,
          1786,
          1775,
          1827,
          1949,
          1788,
          2013,
          1970,
          2159,
          1898,
          1837,
          1947,
          1820,
          2004,
          1990,
          1819,
          1959,
          1896,
          1821,
          1740,
          1819,
          1859,
          1783,
          0,
          1432,
          1411,
          1572,
          1344,
          1463,
          1554,
          1604,
          1435,
          1446,
          1467,
          1470,
          1562,
          1617,
          1492,
          1402,
          1670,
          1401,
          1404,
          1655,
          2690,
          1497,
          1334,
          1368,
          1370,
          1341,
          1474,
          1427,
          1328,
          1393,
          1359,
          1002,
          3199,
          2902,
          3226,
          2750,
          3493,
          3011,
          2806,
          3300,
          2430,
          2140,
          2344,
          2677,
          2413,
          2497,
          3123,
          2489,
          3108,
          2498,
          3846,
          2696,
          2580,
          3324,
          2222,
          2463,
          3328,
          3404,
          2987,
          3008,
          2799,
          1276,
          2030,
          1860,
          2130,
          1725,
          1657,
          1793,
          1814,
          1366,
          1349,
          2062,
          1827,
          1645,
          1347,
          1347,
          1347,
          1348,
          1992,
          1856,
          1763,
          1541,
          1348,
          1742,
          1549,
          1589,
          1351,
          1347,
          1347,
          1347,
          1347,
          1347,
          665,
          2220,
          2151,
          2383,
          2221,
          2064,
          2063,
          2111,
          2063,
          2063,
          2064,
          2093,
          2499,
          2324,
          2100,
          2638,
          2063,
          2351,
          2063,
          2064,
          2411,
          2505,
          2195,
          2338,
          2063,
          2383,
          2229,
          2063,
          2063,
          2063,
          2063,
          1383,
          2390,
          2601,
          2312,
          2525,
          2177,
          2782,
          2770,
          2489,
          2897,
          3158,
          2638,
          2069,
          2529,
          2470,
          2793,
          2463,
          2296,
          2611,
          2732,
          2380,
          2473,
          2752,
          2649,
          2609,
          2498,
          1995,
          1848,
          2709,
          2797,
          2544,
          1853,
          1459,
          1521,
          1431,
          1444,
          1373,
          1214,
          1419,
          1356,
          1667,
          1370,
          1399,
          1916,
          1401,
          1576,
          1595,
          1593,
          1649,
          1692,
          1506,
          1447,
          1690,
          1604,
          1658,
          1926,
          1736,
          1491,
          1555,
          1869,
          1141,
          1698,
          1364,
          2124,
          2003,
          1696,
          1801,
          1724,
          1852,
          1905,
          1811,
          1922,
          1610,
          1851,
          1804,
          1725,
          1654,
          1632,
          1481,
          1473,
          1410,
          1779,
          1403,
          1613,
          1878,
          1426,
          1780,
          1742,
          1972,
          1821,
          1630,
          1899,
          1903,
          1125,
          2344,
          2038,
          2010,
          2133,
          2670,
          1882,
          1944,
          2346,
          2198,
          2048,
          1946,
          2629,
          2187,
          2095,
          1861,
          2194,
          1854,
          403,
          1982,
          2004,
          1893,
          2063,
          2148,
          1529,
          1890,
          1956,
          2094,
          1970,
          2241,
          2021,
          1898,
          1907,
          1882,
          1966,
          1835,
          1780,
          1830,
          1739,
          1878,
          1906,
          2015,
          1971,
          1910,
          1897,
          2096,
          1906,
          1962,
          1826,
          1431,
          1788,
          2093,
          2065,
          1908,
          1908,
          1964,
          2014,
          1985,
          1867,
          2124,
          1669,
          1995,
          1921,
          2010,
          2057,
          2095,
          1972,
          2044,
          1946,
          1237,
          1450,
          1495,
          1433,
          1468,
          1625,
          1529,
          1584,
          1638,
          1554,
          1397,
          1481,
          1638,
          1655,
          1570,
          1551,
          1377,
          1407,
          1545,
          1650,
          1501,
          1760,
          1710,
          1628,
          1618,
          1590,
          1574,
          1633,
          1667,
          1630,
          52,
          3654,
          1981,
          2011,
          2951,
          3051,
          1990,
          1995,
          1980,
          1980,
          1980,
          1980,
          1980,
          1980,
          1980,
          1980,
          1980,
          1980,
          1980,
          1980,
          1980,
          2207,
          2828,
          3879,
          3429,
          2704,
          2975,
          3089,
          2785,
          2926,
          2645,
          1120,
          2286,
          2306,
          1776,
          1527,
          2115,
          2135,
          2302,
          1985,
          1884,
          1464,
          1632,
          2200,
          2220,
          1792,
          1886,
          1945,
          1880,
          2314,
          2236,
          2324,
          2367,
          2175,
          2092,
          1593,
          2270,
          2235,
          2282,
          2530,
          2266,
          2158,
          1792,
          2345,
          2260,
          2232,
          257,
          2955,
          3092,
          2998,
          3066,
          3073,
          2572,
          3274,
          3015,
          3083,
          3069,
          3544,
          3306,
          2885,
          3288,
          2929,
          3074,
          2969,
          2979,
          3283,
          2926,
          3147,
          3290,
          3162,
          2899,
          3425,
          4022,
          3934,
          3013,
          3061,
          2954,
          1623,
          2113,
          2095,
          2194,
          2496,
          2180,
          1933,
          2248,
          1954,
          1974,
          2150,
          2432,
          2149,
          2247,
          2070,
          2291,
          2361,
          2203,
          2196,
          2363,
          2246,
          2336,
          2421,
          2070,
          2120,
          2211,
          2123,
          2423,
          2281,
          2181,
          2499,
          1212,
          1909,
          1722,
          1922,
          2121,
          1997,
          2117,
          2116,
          1876,
          1788,
          2486,
          2094,
          2085,
          2173,
          2225,
          2223,
          2098,
          2185,
          1918,
          2105,
          1692,
          2066,
          1953,
          1842,
          2262,
          1722,
          1973,
          2666,
          2223,
          1889,
          2131,
          1452,
          2947,
          2898,
          2984,
          2896,
          3328,
          3394,
          3013,
          2812,
          3061,
          2729,
          2241,
          3691,
          3538,
          3064,
          2784,
          2908,
          3033,
          3165,
          3115,
          2017,
          2859,
          3145,
          3004,
          3006,
          2859,
          3683,
          3287,
          2990,
          3172,
          3069,
          1240,
          2026,
          1718,
          2324,
          2254,
          1831,
          1397,
          1683,
          2284,
          1570,
          2066,
          2105,
          1776,
          1507,
          2033,
          2093,
          1922,
          1999,
          2169,
          1463,
          1747,
          1996,
          2116,
          1698,
          2156,
          1916,
          1494,
          1762,
          2272,
          2335,
          1693,
          741,
          3405,
          2551,
          4022,
          4005,
          4274,
          4552,
          3625,
          3501,
          3192,
          4018,
          3329,
          3152,
          4392,
          3374,
          3088,
          3294,
          3580,
          3544,
          4501,
          4546,
          3014,
          3795,
          2755,
          3004,
          2643,
          1819,
          1819,
          2489,
          3841,
          1665,
          1496,
          1496,
          1496,
          2865,
          2828,
          2225,
          2018,
          2606,
          2536,
          4900,
          2409,
          2651,
          2305,
          1497,
          2450,
          2576,
          1879,
          2560,
          2275,
          2361,
          2044,
          1496,
          1902,
          2636,
          1838,
          2469,
          2250,
          1248,
          2560,
          2905,
          2952,
          2896,
          2783,
          3171,
          2766,
          2839,
          2701,
          2060,
          2796,
          2664,
          2703,
          2771,
          2060,
          2743,
          2687,
          2060,
          2843,
          3327,
          2725,
          2671,
          2718,
          2682,
          2806,
          2613,
          2712,
          2175,
          0,
          1841,
          2400,
          2507,
          2127,
          2225,
          2067,
          2798,
          1841,
          3727,
          1841,
          1922,
          1841,
          2053,
          2484,
          2584,
          1841,
          1993,
          1841,
          2280,
          2319,
          1841,
          1843,
          1841,
          1841,
          2496,
          1032,
          1994,
          1718,
          1466,
          1756,
          2173,
          2027,
          2039,
          2046,
          2174,
          2179,
          2086,
          2571,
          1705,
          2194,
          2012,
          2034,
          2182,
          2254,
          2002,
          1740,
          2162,
          2072,
          2086,
          2066,
          1850,
          1947,
          1659,
          2105,
          2361,
          1855,
          928,
          2937,
          2742,
          2668,
          2098,
          2076,
          2383,
          2832,
          2812,
          3096,
          2763,
          2889,
          2284,
          2667,
          3055,
          2939,
          2830,
          2836,
          3180,
          2051,
          2225,
          2642,
          2976,
          1557,
          2933,
          2553,
          120,
          2772,
          2516,
          2734,
          2395,
          1635,
          1629,
          2743,
          2944,
          2997,
          2463,
          2846,
          1965,
          2049,
          2752,
          2781,
          2693,
          2862,
          2616,
          2995,
          2730,
          2754,
          2754,
          2655,
          2386,
          2924,
          2739,
          2534,
          2960,
          2800,
          2735,
          1199,
          3186,
          3140,
          3411,
          3410,
          2867,
          3213,
          3133,
          3114,
          3043,
          3103,
          2655,
          3554,
          3577,
          3403,
          2846,
          2852,
          3062,
          2794,
          2408,
          1886,
          1988,
          3023,
          2918,
          2950,
          2859,
          3331,
          3589,
          2765,
          2926,
          2809,
          1505,
          2044,
          1935,
          1705,
          1632,
          1880,
          2112,
          1829,
          1763,
          1931,
          2218,
          1651,
          2132,
          1976,
          1909,
          1813,
          2008,
          1580,
          1854,
          0,
          3635,
          4079,
          4163,
          3666,
          3363,
          2572,
          4157,
          4092,
          3787,
          4236,
          4044,
          2908,
          2741,
          4005,
          3763,
          3061,
          2884,
          2982,
          2660,
          3369,
          3491,
          3784,
          3110,
          3783,
          3644,
          2799,
          2685,
          3721,
          3586,
          3788,
          1976,
          2650,
          2654,
          2443,
          2505,
          2693,
          2439,
          2536,
          2668,
          2647,
          2883,
          2944,
          3012,
          2889,
          2547,
          3093,
          3142,
          2757,
          3513,
          3164,
          2596,
          2894,
          3212,
          2516,
          3266,
          2683,
          2810,
          2940,
          2947,
          2846,
          2804,
          0,
          2044,
          1934,
          1963,
          2009,
          1721,
          1688,
          1688,
          1688,
          2188,
          1720,
          2419,
          2748,
          1799,
          1688,
          1928,
          2067,
          2780,
          3101,
          2896,
          1962,
          2015,
          2297,
          2067,
          1688,
          1688,
          1688,
          1688,
          1688,
          57,
          3921,
          3566,
          3793,
          3934,
          4547,
          3545,
          2761,
          3676,
          3679,
          3659,
          3427,
          3891,
          3455,
          3802,
          2860,
          3808,
          3060,
          2698,
          4398,
          2786,
          2189,
          2817,
          3477,
          3052,
          4015,
          4142,
          2847,
          3710,
          2832,
          3832,
          1849
         ],
         "yaxis": "y"
        }
       ],
       "layout": {
        "annotations": [
         {
          "showarrow": false,
          "text": "Median steps",
          "x": 7637,
          "xanchor": "right",
          "xref": "x",
          "y": 1,
          "yanchor": "top",
          "yref": "y domain"
         },
         {
          "showarrow": false,
          "text": "Median calories burned",
          "x": 1,
          "xanchor": "right",
          "xref": "x domain",
          "y": 2303,
          "yanchor": "top",
          "yref": "y"
         }
        ],
        "coloraxis": {
         "colorbar": {
          "tickvals": [
           0,
           4900
          ],
          "title": {
           "text": "Calories"
          }
         },
         "colorscale": [
          [
           0,
           "rgb(158,1,66)"
          ],
          [
           0.1,
           "rgb(213,62,79)"
          ],
          [
           0.2,
           "rgb(244,109,67)"
          ],
          [
           0.3,
           "rgb(253,174,97)"
          ],
          [
           0.4,
           "rgb(254,224,139)"
          ],
          [
           0.5,
           "rgb(255,255,191)"
          ],
          [
           0.6,
           "rgb(230,245,152)"
          ],
          [
           0.7,
           "rgb(171,221,164)"
          ],
          [
           0.8,
           "rgb(102,194,165)"
          ],
          [
           0.9,
           "rgb(50,136,189)"
          ],
          [
           1,
           "rgb(94,79,162)"
          ]
         ]
        },
        "legend": {
         "tracegroupgap": 0
        },
        "shapes": [
         {
          "line": {
           "color": "blue",
           "dash": "dash"
          },
          "type": "line",
          "x0": 7637,
          "x1": 7637,
          "xref": "x",
          "y0": 0,
          "y1": 1,
          "yref": "y domain"
         },
         {
          "line": {
           "color": "red",
           "dash": "dash"
          },
          "type": "line",
          "x0": 0,
          "x1": 1,
          "xref": "x domain",
          "y0": 2303,
          "y1": 2303,
          "yref": "y"
         }
        ],
        "template": {
         "data": {
          "bar": [
           {
            "error_x": {
             "color": "#2a3f5f"
            },
            "error_y": {
             "color": "#2a3f5f"
            },
            "marker": {
             "line": {
              "color": "white",
              "width": 0.5
             },
             "pattern": {
              "fillmode": "overlay",
              "size": 10,
              "solidity": 0.2
             }
            },
            "type": "bar"
           }
          ],
          "barpolar": [
           {
            "marker": {
             "line": {
              "color": "white",
              "width": 0.5
             },
             "pattern": {
              "fillmode": "overlay",
              "size": 10,
              "solidity": 0.2
             }
            },
            "type": "barpolar"
           }
          ],
          "carpet": [
           {
            "aaxis": {
             "endlinecolor": "#2a3f5f",
             "gridcolor": "#C8D4E3",
             "linecolor": "#C8D4E3",
             "minorgridcolor": "#C8D4E3",
             "startlinecolor": "#2a3f5f"
            },
            "baxis": {
             "endlinecolor": "#2a3f5f",
             "gridcolor": "#C8D4E3",
             "linecolor": "#C8D4E3",
             "minorgridcolor": "#C8D4E3",
             "startlinecolor": "#2a3f5f"
            },
            "type": "carpet"
           }
          ],
          "choropleth": [
           {
            "colorbar": {
             "outlinewidth": 0,
             "ticks": ""
            },
            "type": "choropleth"
           }
          ],
          "contour": [
           {
            "colorbar": {
             "outlinewidth": 0,
             "ticks": ""
            },
            "colorscale": [
             [
              0,
              "#0d0887"
             ],
             [
              0.1111111111111111,
              "#46039f"
             ],
             [
              0.2222222222222222,
              "#7201a8"
             ],
             [
              0.3333333333333333,
              "#9c179e"
             ],
             [
              0.4444444444444444,
              "#bd3786"
             ],
             [
              0.5555555555555556,
              "#d8576b"
             ],
             [
              0.6666666666666666,
              "#ed7953"
             ],
             [
              0.7777777777777778,
              "#fb9f3a"
             ],
             [
              0.8888888888888888,
              "#fdca26"
             ],
             [
              1,
              "#f0f921"
             ]
            ],
            "type": "contour"
           }
          ],
          "contourcarpet": [
           {
            "colorbar": {
             "outlinewidth": 0,
             "ticks": ""
            },
            "type": "contourcarpet"
           }
          ],
          "heatmap": [
           {
            "colorbar": {
             "outlinewidth": 0,
             "ticks": ""
            },
            "colorscale": [
             [
              0,
              "#0d0887"
             ],
             [
              0.1111111111111111,
              "#46039f"
             ],
             [
              0.2222222222222222,
              "#7201a8"
             ],
             [
              0.3333333333333333,
              "#9c179e"
             ],
             [
              0.4444444444444444,
              "#bd3786"
             ],
             [
              0.5555555555555556,
              "#d8576b"
             ],
             [
              0.6666666666666666,
              "#ed7953"
             ],
             [
              0.7777777777777778,
              "#fb9f3a"
             ],
             [
              0.8888888888888888,
              "#fdca26"
             ],
             [
              1,
              "#f0f921"
             ]
            ],
            "type": "heatmap"
           }
          ],
          "heatmapgl": [
           {
            "colorbar": {
             "outlinewidth": 0,
             "ticks": ""
            },
            "colorscale": [
             [
              0,
              "#0d0887"
             ],
             [
              0.1111111111111111,
              "#46039f"
             ],
             [
              0.2222222222222222,
              "#7201a8"
             ],
             [
              0.3333333333333333,
              "#9c179e"
             ],
             [
              0.4444444444444444,
              "#bd3786"
             ],
             [
              0.5555555555555556,
              "#d8576b"
             ],
             [
              0.6666666666666666,
              "#ed7953"
             ],
             [
              0.7777777777777778,
              "#fb9f3a"
             ],
             [
              0.8888888888888888,
              "#fdca26"
             ],
             [
              1,
              "#f0f921"
             ]
            ],
            "type": "heatmapgl"
           }
          ],
          "histogram": [
           {
            "marker": {
             "pattern": {
              "fillmode": "overlay",
              "size": 10,
              "solidity": 0.2
             }
            },
            "type": "histogram"
           }
          ],
          "histogram2d": [
           {
            "colorbar": {
             "outlinewidth": 0,
             "ticks": ""
            },
            "colorscale": [
             [
              0,
              "#0d0887"
             ],
             [
              0.1111111111111111,
              "#46039f"
             ],
             [
              0.2222222222222222,
              "#7201a8"
             ],
             [
              0.3333333333333333,
              "#9c179e"
             ],
             [
              0.4444444444444444,
              "#bd3786"
             ],
             [
              0.5555555555555556,
              "#d8576b"
             ],
             [
              0.6666666666666666,
              "#ed7953"
             ],
             [
              0.7777777777777778,
              "#fb9f3a"
             ],
             [
              0.8888888888888888,
              "#fdca26"
             ],
             [
              1,
              "#f0f921"
             ]
            ],
            "type": "histogram2d"
           }
          ],
          "histogram2dcontour": [
           {
            "colorbar": {
             "outlinewidth": 0,
             "ticks": ""
            },
            "colorscale": [
             [
              0,
              "#0d0887"
             ],
             [
              0.1111111111111111,
              "#46039f"
             ],
             [
              0.2222222222222222,
              "#7201a8"
             ],
             [
              0.3333333333333333,
              "#9c179e"
             ],
             [
              0.4444444444444444,
              "#bd3786"
             ],
             [
              0.5555555555555556,
              "#d8576b"
             ],
             [
              0.6666666666666666,
              "#ed7953"
             ],
             [
              0.7777777777777778,
              "#fb9f3a"
             ],
             [
              0.8888888888888888,
              "#fdca26"
             ],
             [
              1,
              "#f0f921"
             ]
            ],
            "type": "histogram2dcontour"
           }
          ],
          "mesh3d": [
           {
            "colorbar": {
             "outlinewidth": 0,
             "ticks": ""
            },
            "type": "mesh3d"
           }
          ],
          "parcoords": [
           {
            "line": {
             "colorbar": {
              "outlinewidth": 0,
              "ticks": ""
             }
            },
            "type": "parcoords"
           }
          ],
          "pie": [
           {
            "automargin": true,
            "type": "pie"
           }
          ],
          "scatter": [
           {
            "fillpattern": {
             "fillmode": "overlay",
             "size": 10,
             "solidity": 0.2
            },
            "type": "scatter"
           }
          ],
          "scatter3d": [
           {
            "line": {
             "colorbar": {
              "outlinewidth": 0,
              "ticks": ""
             }
            },
            "marker": {
             "colorbar": {
              "outlinewidth": 0,
              "ticks": ""
             }
            },
            "type": "scatter3d"
           }
          ],
          "scattercarpet": [
           {
            "marker": {
             "colorbar": {
              "outlinewidth": 0,
              "ticks": ""
             }
            },
            "type": "scattercarpet"
           }
          ],
          "scattergeo": [
           {
            "marker": {
             "colorbar": {
              "outlinewidth": 0,
              "ticks": ""
             }
            },
            "type": "scattergeo"
           }
          ],
          "scattergl": [
           {
            "marker": {
             "colorbar": {
              "outlinewidth": 0,
              "ticks": ""
             }
            },
            "type": "scattergl"
           }
          ],
          "scattermapbox": [
           {
            "marker": {
             "colorbar": {
              "outlinewidth": 0,
              "ticks": ""
             }
            },
            "type": "scattermapbox"
           }
          ],
          "scatterpolar": [
           {
            "marker": {
             "colorbar": {
              "outlinewidth": 0,
              "ticks": ""
             }
            },
            "type": "scatterpolar"
           }
          ],
          "scatterpolargl": [
           {
            "marker": {
             "colorbar": {
              "outlinewidth": 0,
              "ticks": ""
             }
            },
            "type": "scatterpolargl"
           }
          ],
          "scatterternary": [
           {
            "marker": {
             "colorbar": {
              "outlinewidth": 0,
              "ticks": ""
             }
            },
            "type": "scatterternary"
           }
          ],
          "surface": [
           {
            "colorbar": {
             "outlinewidth": 0,
             "ticks": ""
            },
            "colorscale": [
             [
              0,
              "#0d0887"
             ],
             [
              0.1111111111111111,
              "#46039f"
             ],
             [
              0.2222222222222222,
              "#7201a8"
             ],
             [
              0.3333333333333333,
              "#9c179e"
             ],
             [
              0.4444444444444444,
              "#bd3786"
             ],
             [
              0.5555555555555556,
              "#d8576b"
             ],
             [
              0.6666666666666666,
              "#ed7953"
             ],
             [
              0.7777777777777778,
              "#fb9f3a"
             ],
             [
              0.8888888888888888,
              "#fdca26"
             ],
             [
              1,
              "#f0f921"
             ]
            ],
            "type": "surface"
           }
          ],
          "table": [
           {
            "cells": {
             "fill": {
              "color": "#EBF0F8"
             },
             "line": {
              "color": "white"
             }
            },
            "header": {
             "fill": {
              "color": "#C8D4E3"
             },
             "line": {
              "color": "white"
             }
            },
            "type": "table"
           }
          ]
         },
         "layout": {
          "annotationdefaults": {
           "arrowcolor": "#2a3f5f",
           "arrowhead": 0,
           "arrowwidth": 1
          },
          "autotypenumbers": "strict",
          "coloraxis": {
           "colorbar": {
            "outlinewidth": 0,
            "ticks": ""
           }
          },
          "colorscale": {
           "diverging": [
            [
             0,
             "#8e0152"
            ],
            [
             0.1,
             "#c51b7d"
            ],
            [
             0.2,
             "#de77ae"
            ],
            [
             0.3,
             "#f1b6da"
            ],
            [
             0.4,
             "#fde0ef"
            ],
            [
             0.5,
             "#f7f7f7"
            ],
            [
             0.6,
             "#e6f5d0"
            ],
            [
             0.7,
             "#b8e186"
            ],
            [
             0.8,
             "#7fbc41"
            ],
            [
             0.9,
             "#4d9221"
            ],
            [
             1,
             "#276419"
            ]
           ],
           "sequential": [
            [
             0,
             "#0d0887"
            ],
            [
             0.1111111111111111,
             "#46039f"
            ],
            [
             0.2222222222222222,
             "#7201a8"
            ],
            [
             0.3333333333333333,
             "#9c179e"
            ],
            [
             0.4444444444444444,
             "#bd3786"
            ],
            [
             0.5555555555555556,
             "#d8576b"
            ],
            [
             0.6666666666666666,
             "#ed7953"
            ],
            [
             0.7777777777777778,
             "#fb9f3a"
            ],
            [
             0.8888888888888888,
             "#fdca26"
            ],
            [
             1,
             "#f0f921"
            ]
           ],
           "sequentialminus": [
            [
             0,
             "#0d0887"
            ],
            [
             0.1111111111111111,
             "#46039f"
            ],
            [
             0.2222222222222222,
             "#7201a8"
            ],
            [
             0.3333333333333333,
             "#9c179e"
            ],
            [
             0.4444444444444444,
             "#bd3786"
            ],
            [
             0.5555555555555556,
             "#d8576b"
            ],
            [
             0.6666666666666666,
             "#ed7953"
            ],
            [
             0.7777777777777778,
             "#fb9f3a"
            ],
            [
             0.8888888888888888,
             "#fdca26"
            ],
            [
             1,
             "#f0f921"
            ]
           ]
          },
          "colorway": [
           "#636efa",
           "#EF553B",
           "#00cc96",
           "#ab63fa",
           "#FFA15A",
           "#19d3f3",
           "#FF6692",
           "#B6E880",
           "#FF97FF",
           "#FECB52"
          ],
          "font": {
           "color": "#2a3f5f"
          },
          "geo": {
           "bgcolor": "white",
           "lakecolor": "white",
           "landcolor": "white",
           "showlakes": true,
           "showland": true,
           "subunitcolor": "#C8D4E3"
          },
          "hoverlabel": {
           "align": "left"
          },
          "hovermode": "closest",
          "mapbox": {
           "style": "light"
          },
          "paper_bgcolor": "white",
          "plot_bgcolor": "white",
          "polar": {
           "angularaxis": {
            "gridcolor": "#EBF0F8",
            "linecolor": "#EBF0F8",
            "ticks": ""
           },
           "bgcolor": "white",
           "radialaxis": {
            "gridcolor": "#EBF0F8",
            "linecolor": "#EBF0F8",
            "ticks": ""
           }
          },
          "scene": {
           "xaxis": {
            "backgroundcolor": "white",
            "gridcolor": "#DFE8F3",
            "gridwidth": 2,
            "linecolor": "#EBF0F8",
            "showbackground": true,
            "ticks": "",
            "zerolinecolor": "#EBF0F8"
           },
           "yaxis": {
            "backgroundcolor": "white",
            "gridcolor": "#DFE8F3",
            "gridwidth": 2,
            "linecolor": "#EBF0F8",
            "showbackground": true,
            "ticks": "",
            "zerolinecolor": "#EBF0F8"
           },
           "zaxis": {
            "backgroundcolor": "white",
            "gridcolor": "#DFE8F3",
            "gridwidth": 2,
            "linecolor": "#EBF0F8",
            "showbackground": true,
            "ticks": "",
            "zerolinecolor": "#EBF0F8"
           }
          },
          "shapedefaults": {
           "line": {
            "color": "#2a3f5f"
           }
          },
          "ternary": {
           "aaxis": {
            "gridcolor": "#DFE8F3",
            "linecolor": "#A2B1C6",
            "ticks": ""
           },
           "baxis": {
            "gridcolor": "#DFE8F3",
            "linecolor": "#A2B1C6",
            "ticks": ""
           },
           "bgcolor": "white",
           "caxis": {
            "gridcolor": "#DFE8F3",
            "linecolor": "#A2B1C6",
            "ticks": ""
           }
          },
          "title": {
           "x": 0.05
          },
          "xaxis": {
           "automargin": true,
           "gridcolor": "#EBF0F8",
           "linecolor": "#EBF0F8",
           "ticks": "",
           "title": {
            "standoff": 15
           },
           "zerolinecolor": "#EBF0F8",
           "zerolinewidth": 2
          },
          "yaxis": {
           "automargin": true,
           "gridcolor": "#EBF0F8",
           "linecolor": "#EBF0F8",
           "ticks": "",
           "title": {
            "standoff": 15
           },
           "zerolinecolor": "#EBF0F8",
           "zerolinewidth": 2
          }
         }
        },
        "title": {
         "text": "Calories burned for every step taken"
        },
        "xaxis": {
         "anchor": "y",
         "domain": [
          0,
          1
         ],
         "title": {
          "text": "Steps taken"
         }
        },
        "yaxis": {
         "anchor": "x",
         "domain": [
          0,
          1
         ],
         "title": {
          "text": "Calories burned"
         }
        }
       }
      }
     },
     "metadata": {},
     "output_type": "display_data"
    }
   ],
   "source": [
    "import plotly.express as px\n",
    "import pandas as pd\n",
    "\n",
    "# Assuming df_activity is your DataFrame containing the data\n",
    "\n",
    "# Create a scatter plot using Plotly Express\n",
    "fig = px.scatter(df_activity, x=\"total_steps\", y=\"calories\",\n",
    "                 title=\"Calories burned for every step taken\",\n",
    "                 labels={\"total_steps\": \"Steps taken\", \"calories\": \"Calories burned\"},\n",
    "                 color=\"calories\",\n",
    "                 color_continuous_scale=\"Spectral\")\n",
    "\n",
    "# Add annotations and visuals\n",
    "median_calories = 2303\n",
    "median_steps = 7637\n",
    "\n",
    "fig.add_vline(x=median_steps, line_dash=\"dash\", line_color=\"blue\", annotation_text=\"Median steps\",\n",
    "              annotation_position=\"top left\")\n",
    "\n",
    "fig.add_hline(y=median_calories, line_dash=\"dash\", line_color=\"red\", annotation_text=\"Median calories burned\",\n",
    "              annotation_position=\"bottom right\")\n",
    "\n",
    "# Update layout for better aesthetics\n",
    "fig.update_layout(\n",
    "    xaxis_title=\"Steps taken\",\n",
    "    yaxis_title=\"Calories burned\",\n",
    "    coloraxis_colorbar=dict(title=\"Calories\", tickvals=[df_activity[\"calories\"].min(), df_activity[\"calories\"].max()]),\n",
    "    template=\"plotly_white\"\n",
    ")\n",
    "\n",
    "# Show the interactive plot\n",
    "fig.show()\n"
   ]
  },
  {
   "cell_type": "code",
   "execution_count": 16,
   "id": "fossil-parcel",
   "metadata": {
    "execution": {
     "iopub.execute_input": "2021-07-09T05:00:56.774401Z",
     "iopub.status.busy": "2021-07-09T05:00:56.773430Z",
     "iopub.status.idle": "2021-07-09T05:00:57.125340Z",
     "shell.execute_reply": "2021-07-09T05:00:57.125865Z",
     "shell.execute_reply.started": "2021-07-09T05:00:05.590969Z"
    },
    "papermill": {
     "duration": 0.406883,
     "end_time": "2021-07-09T05:00:57.126031",
     "exception": false,
     "start_time": "2021-07-09T05:00:56.719148",
     "status": "completed"
    },
    "tags": []
   },
   "outputs": [
    {
     "data": {
      "image/png": "[encoded data removed]",
      "text/plain": [
       "<Figure size 800x600 with 2 Axes>"
      ]
     },
     "metadata": {},
     "output_type": "display_data"
    }
   ],
   "source": [
    "# import matplotlib package\n",
    "import matplotlib.pyplot as plt\n",
    "\n",
    "# plotting scatter plot\n",
    "plt.style.use(\"default\")\n",
    "plt.figure(figsize=(8,6)) # Specify size of the chart\n",
    "plt.scatter(df_activity.total_hours, df_activity.calories, \n",
    "            alpha = 0.8, c = df_activity.calories, \n",
    "            cmap = \"Spectral\")\n",
    "\n",
    "# adding annotations and visuals\n",
    "median_calories = 2303\n",
    "median_hours = 20\n",
    "median_sedentary = 991 / 60\n",
    "\n",
    "plt.colorbar(orientation = \"vertical\")\n",
    "plt.axvline(median_hours, color = \"Blue\", label = \"Median steps\")\n",
    "plt.axvline(median_sedentary, color = \"Purple\", label = \"Median sedentary\")\n",
    "plt.axhline(median_calories, color = \"Red\", label = \"Median hours\")\n",
    "plt.xlabel(\"Hours logged\")\n",
    "plt.ylabel(\"Calories burned\")\n",
    "plt.title(\"Calories burned for every hour logged\")\n",
    "plt.legend()\n",
    "plt.grid(True)\n",
    "plt.show()"
   ]
  },
  {
   "cell_type": "code",
   "execution_count": 17,
   "id": "northern-pennsylvania",
   "metadata": {
    "execution": {
     "iopub.execute_input": "2021-07-09T05:00:57.296926Z",
     "iopub.status.busy": "2021-07-09T05:00:57.292645Z",
     "iopub.status.idle": "2021-07-09T05:00:57.481295Z",
     "shell.execute_reply": "2021-07-09T05:00:57.480810Z",
     "shell.execute_reply.started": "2021-07-09T05:00:05.939369Z"
    },
    "papermill": {
     "duration": 0.248954,
     "end_time": "2021-07-09T05:00:57.481439",
     "exception": false,
     "start_time": "2021-07-09T05:00:57.232485",
     "status": "completed"
    },
    "tags": []
   },
   "outputs": [
    {
     "data": {
      "image/png": "[encoded data removed]",
      "text/plain": [
       "<Figure size 640x480 with 1 Axes>"
      ]
     },
     "metadata": {},
     "output_type": "display_data"
    }
   ],
   "source": [
    "# import packages\n",
    "import matplotlib.pyplot as plt\n",
    "import numpy as np\n",
    "\n",
    "# calculating total of individual minutes column\n",
    "very_active_mins = df_activity[\"very_active_mins\"].sum()\n",
    "fairly_active_mins = df_activity[\"fairly_active_mins\"].sum()\n",
    "lightly_active_mins = df_activity[\"lightly_active_mins\"].sum()\n",
    "sedentary_mins = df_activity[\"sedentary_mins\"].sum()\n",
    "\n",
    "# plotting pie chart\n",
    "slices = [very_active_mins, fairly_active_mins, lightly_active_mins, sedentary_mins]\n",
    "labels = [\"Very active minutes\", \"Fairly active minutes\", \"Lightly active minutes\", \"Sedentary minutes\"]\n",
    "colours = [\"lightcoral\", \"yellowgreen\", \"lightskyblue\", \"darkorange\"]\n",
    "explode = [0, 0, 0, 0.1]\n",
    "plt.style.use(\"default\")\n",
    "plt.pie(slices, labels = labels, \n",
    "        colors = colours, wedgeprops = {\"edgecolor\": \"black\"}, \n",
    "        explode = explode, autopct = \"%1.1f%%\")\n",
    "plt.title(\"Percentage of Activity in Minutes\")\n",
    "plt.tight_layout()\n",
    "plt.show()"
   ]
  },
  {
   "cell_type": "code",
   "execution_count": 18,
   "id": "1b1a7cb5",
   "metadata": {},
   "outputs": [
    {
     "data": {
      "application/vnd.plotly.v1+json": {
       "config": {
        "plotlyServerURL": "https://plot.ly"
       },
       "data": [
        {
         "hoverinfo": "label+percent",
         "labels": [
          "Very Active Minutes",
          "Fairly Active Minutes",
          "Lightly Active Minutes",
          "Inactive Minutes"
         ],
         "marker": {
          "colors": [
           "gold",
           "lightgreen",
           "pink",
           "blue"
          ],
          "line": {
           "color": "black",
           "width": 2
          }
         },
         "textfont": {
          "size": 20
         },
         "textinfo": "value",
         "type": "pie",
         "values": [
          21.164893617021278,
          13.564893617021276,
          192.8127659574468,
          991.2106382978724
         ]
        }
       ],
       "layout": {
        "template": {
         "data": {
          "bar": [
           {
            "error_x": {
             "color": "#2a3f5f"
            },
            "error_y": {
             "color": "#2a3f5f"
            },
            "marker": {
             "line": {
              "color": "#E5ECF6",
              "width": 0.5
             },
             "pattern": {
              "fillmode": "overlay",
              "size": 10,
              "solidity": 0.2
             }
            },
            "type": "bar"
           }
          ],
          "barpolar": [
           {
            "marker": {
             "line": {
              "color": "#E5ECF6",
              "width": 0.5
             },
             "pattern": {
              "fillmode": "overlay",
              "size": 10,
              "solidity": 0.2
             }
            },
            "type": "barpolar"
           }
          ],
          "carpet": [
           {
            "aaxis": {
             "endlinecolor": "#2a3f5f",
             "gridcolor": "white",
             "linecolor": "white",
             "minorgridcolor": "white",
             "startlinecolor": "#2a3f5f"
            },
            "baxis": {
             "endlinecolor": "#2a3f5f",
             "gridcolor": "white",
             "linecolor": "white",
             "minorgridcolor": "white",
             "startlinecolor": "#2a3f5f"
            },
            "type": "carpet"
           }
          ],
          "choropleth": [
           {
            "colorbar": {
             "outlinewidth": 0,
             "ticks": ""
            },
            "type": "choropleth"
           }
          ],
          "contour": [
           {
            "colorbar": {
             "outlinewidth": 0,
             "ticks": ""
            },
            "colorscale": [
             [
              0,
              "#0d0887"
             ],
             [
              0.1111111111111111,
              "#46039f"
             ],
             [
              0.2222222222222222,
              "#7201a8"
             ],
             [
              0.3333333333333333,
              "#9c179e"
             ],
             [
              0.4444444444444444,
              "#bd3786"
             ],
             [
              0.5555555555555556,
              "#d8576b"
             ],
             [
              0.6666666666666666,
              "#ed7953"
             ],
             [
              0.7777777777777778,
              "#fb9f3a"
             ],
             [
              0.8888888888888888,
              "#fdca26"
             ],
             [
              1,
              "#f0f921"
             ]
            ],
            "type": "contour"
           }
          ],
          "contourcarpet": [
           {
            "colorbar": {
             "outlinewidth": 0,
             "ticks": ""
            },
            "type": "contourcarpet"
           }
          ],
          "heatmap": [
           {
            "colorbar": {
             "outlinewidth": 0,
             "ticks": ""
            },
            "colorscale": [
             [
              0,
              "#0d0887"
             ],
             [
              0.1111111111111111,
              "#46039f"
             ],
             [
              0.2222222222222222,
              "#7201a8"
             ],
             [
              0.3333333333333333,
              "#9c179e"
             ],
             [
              0.4444444444444444,
              "#bd3786"
             ],
             [
              0.5555555555555556,
              "#d8576b"
             ],
             [
              0.6666666666666666,
              "#ed7953"
             ],
             [
              0.7777777777777778,
              "#fb9f3a"
             ],
             [
              0.8888888888888888,
              "#fdca26"
             ],
             [
              1,
              "#f0f921"
             ]
            ],
            "type": "heatmap"
           }
          ],
          "heatmapgl": [
           {
            "colorbar": {
             "outlinewidth": 0,
             "ticks": ""
            },
            "colorscale": [
             [
              0,
              "#0d0887"
             ],
             [
              0.1111111111111111,
              "#46039f"
             ],
             [
              0.2222222222222222,
              "#7201a8"
             ],
             [
              0.3333333333333333,
              "#9c179e"
             ],
             [
              0.4444444444444444,
              "#bd3786"
             ],
             [
              0.5555555555555556,
              "#d8576b"
             ],
             [
              0.6666666666666666,
              "#ed7953"
             ],
             [
              0.7777777777777778,
              "#fb9f3a"
             ],
             [
              0.8888888888888888,
              "#fdca26"
             ],
             [
              1,
              "#f0f921"
             ]
            ],
            "type": "heatmapgl"
           }
          ],
          "histogram": [
           {
            "marker": {
             "pattern": {
              "fillmode": "overlay",
              "size": 10,
              "solidity": 0.2
             }
            },
            "type": "histogram"
           }
          ],
          "histogram2d": [
           {
            "colorbar": {
             "outlinewidth": 0,
             "ticks": ""
            },
            "colorscale": [
             [
              0,
              "#0d0887"
             ],
             [
              0.1111111111111111,
              "#46039f"
             ],
             [
              0.2222222222222222,
              "#7201a8"
             ],
             [
              0.3333333333333333,
              "#9c179e"
             ],
             [
              0.4444444444444444,
              "#bd3786"
             ],
             [
              0.5555555555555556,
              "#d8576b"
             ],
             [
              0.6666666666666666,
              "#ed7953"
             ],
             [
              0.7777777777777778,
              "#fb9f3a"
             ],
             [
              0.8888888888888888,
              "#fdca26"
             ],
             [
              1,
              "#f0f921"
             ]
            ],
            "type": "histogram2d"
           }
          ],
          "histogram2dcontour": [
           {
            "colorbar": {
             "outlinewidth": 0,
             "ticks": ""
            },
            "colorscale": [
             [
              0,
              "#0d0887"
             ],
             [
              0.1111111111111111,
              "#46039f"
             ],
             [
              0.2222222222222222,
              "#7201a8"
             ],
             [
              0.3333333333333333,
              "#9c179e"
             ],
             [
              0.4444444444444444,
              "#bd3786"
             ],
             [
              0.5555555555555556,
              "#d8576b"
             ],
             [
              0.6666666666666666,
              "#ed7953"
             ],
             [
              0.7777777777777778,
              "#fb9f3a"
             ],
             [
              0.8888888888888888,
              "#fdca26"
             ],
             [
              1,
              "#f0f921"
             ]
            ],
            "type": "histogram2dcontour"
           }
          ],
          "mesh3d": [
           {
            "colorbar": {
             "outlinewidth": 0,
             "ticks": ""
            },
            "type": "mesh3d"
           }
          ],
          "parcoords": [
           {
            "line": {
             "colorbar": {
              "outlinewidth": 0,
              "ticks": ""
             }
            },
            "type": "parcoords"
           }
          ],
          "pie": [
           {
            "automargin": true,
            "type": "pie"
           }
          ],
          "scatter": [
           {
            "fillpattern": {
             "fillmode": "overlay",
             "size": 10,
             "solidity": 0.2
            },
            "type": "scatter"
           }
          ],
          "scatter3d": [
           {
            "line": {
             "colorbar": {
              "outlinewidth": 0,
              "ticks": ""
             }
            },
            "marker": {
             "colorbar": {
              "outlinewidth": 0,
              "ticks": ""
             }
            },
            "type": "scatter3d"
           }
          ],
          "scattercarpet": [
           {
            "marker": {
             "colorbar": {
              "outlinewidth": 0,
              "ticks": ""
             }
            },
            "type": "scattercarpet"
           }
          ],
          "scattergeo": [
           {
            "marker": {
             "colorbar": {
              "outlinewidth": 0,
              "ticks": ""
             }
            },
            "type": "scattergeo"
           }
          ],
          "scattergl": [
           {
            "marker": {
             "colorbar": {
              "outlinewidth": 0,
              "ticks": ""
             }
            },
            "type": "scattergl"
           }
          ],
          "scattermapbox": [
           {
            "marker": {
             "colorbar": {
              "outlinewidth": 0,
              "ticks": ""
             }
            },
            "type": "scattermapbox"
           }
          ],
          "scatterpolar": [
           {
            "marker": {
             "colorbar": {
              "outlinewidth": 0,
              "ticks": ""
             }
            },
            "type": "scatterpolar"
           }
          ],
          "scatterpolargl": [
           {
            "marker": {
             "colorbar": {
              "outlinewidth": 0,
              "ticks": ""
             }
            },
            "type": "scatterpolargl"
           }
          ],
          "scatterternary": [
           {
            "marker": {
             "colorbar": {
              "outlinewidth": 0,
              "ticks": ""
             }
            },
            "type": "scatterternary"
           }
          ],
          "surface": [
           {
            "colorbar": {
             "outlinewidth": 0,
             "ticks": ""
            },
            "colorscale": [
             [
              0,
              "#0d0887"
             ],
             [
              0.1111111111111111,
              "#46039f"
             ],
             [
              0.2222222222222222,
              "#7201a8"
             ],
             [
              0.3333333333333333,
              "#9c179e"
             ],
             [
              0.4444444444444444,
              "#bd3786"
             ],
             [
              0.5555555555555556,
              "#d8576b"
             ],
             [
              0.6666666666666666,
              "#ed7953"
             ],
             [
              0.7777777777777778,
              "#fb9f3a"
             ],
             [
              0.8888888888888888,
              "#fdca26"
             ],
             [
              1,
              "#f0f921"
             ]
            ],
            "type": "surface"
           }
          ],
          "table": [
           {
            "cells": {
             "fill": {
              "color": "#EBF0F8"
             },
             "line": {
              "color": "white"
             }
            },
            "header": {
             "fill": {
              "color": "#C8D4E3"
             },
             "line": {
              "color": "white"
             }
            },
            "type": "table"
           }
          ]
         },
         "layout": {
          "annotationdefaults": {
           "arrowcolor": "#2a3f5f",
           "arrowhead": 0,
           "arrowwidth": 1
          },
          "autotypenumbers": "strict",
          "coloraxis": {
           "colorbar": {
            "outlinewidth": 0,
            "ticks": ""
           }
          },
          "colorscale": {
           "diverging": [
            [
             0,
             "#8e0152"
            ],
            [
             0.1,
             "#c51b7d"
            ],
            [
             0.2,
             "#de77ae"
            ],
            [
             0.3,
             "#f1b6da"
            ],
            [
             0.4,
             "#fde0ef"
            ],
            [
             0.5,
             "#f7f7f7"
            ],
            [
             0.6,
             "#e6f5d0"
            ],
            [
             0.7,
             "#b8e186"
            ],
            [
             0.8,
             "#7fbc41"
            ],
            [
             0.9,
             "#4d9221"
            ],
            [
             1,
             "#276419"
            ]
           ],
           "sequential": [
            [
             0,
             "#0d0887"
            ],
            [
             0.1111111111111111,
             "#46039f"
            ],
            [
             0.2222222222222222,
             "#7201a8"
            ],
            [
             0.3333333333333333,
             "#9c179e"
            ],
            [
             0.4444444444444444,
             "#bd3786"
            ],
            [
             0.5555555555555556,
             "#d8576b"
            ],
            [
             0.6666666666666666,
             "#ed7953"
            ],
            [
             0.7777777777777778,
             "#fb9f3a"
            ],
            [
             0.8888888888888888,
             "#fdca26"
            ],
            [
             1,
             "#f0f921"
            ]
           ],
           "sequentialminus": [
            [
             0,
             "#0d0887"
            ],
            [
             0.1111111111111111,
             "#46039f"
            ],
            [
             0.2222222222222222,
             "#7201a8"
            ],
            [
             0.3333333333333333,
             "#9c179e"
            ],
            [
             0.4444444444444444,
             "#bd3786"
            ],
            [
             0.5555555555555556,
             "#d8576b"
            ],
            [
             0.6666666666666666,
             "#ed7953"
            ],
            [
             0.7777777777777778,
             "#fb9f3a"
            ],
            [
             0.8888888888888888,
             "#fdca26"
            ],
            [
             1,
             "#f0f921"
            ]
           ]
          },
          "colorway": [
           "#636efa",
           "#EF553B",
           "#00cc96",
           "#ab63fa",
           "#FFA15A",
           "#19d3f3",
           "#FF6692",
           "#B6E880",
           "#FF97FF",
           "#FECB52"
          ],
          "font": {
           "color": "#2a3f5f"
          },
          "geo": {
           "bgcolor": "white",
           "lakecolor": "white",
           "landcolor": "#E5ECF6",
           "showlakes": true,
           "showland": true,
           "subunitcolor": "white"
          },
          "hoverlabel": {
           "align": "left"
          },
          "hovermode": "closest",
          "mapbox": {
           "style": "light"
          },
          "paper_bgcolor": "white",
          "plot_bgcolor": "#E5ECF6",
          "polar": {
           "angularaxis": {
            "gridcolor": "white",
            "linecolor": "white",
            "ticks": ""
           },
           "bgcolor": "#E5ECF6",
           "radialaxis": {
            "gridcolor": "white",
            "linecolor": "white",
            "ticks": ""
           }
          },
          "scene": {
           "xaxis": {
            "backgroundcolor": "#E5ECF6",
            "gridcolor": "white",
            "gridwidth": 2,
            "linecolor": "white",
            "showbackground": true,
            "ticks": "",
            "zerolinecolor": "white"
           },
           "yaxis": {
            "backgroundcolor": "#E5ECF6",
            "gridcolor": "white",
            "gridwidth": 2,
            "linecolor": "white",
            "showbackground": true,
            "ticks": "",
            "zerolinecolor": "white"
           },
           "zaxis": {
            "backgroundcolor": "#E5ECF6",
            "gridcolor": "white",
            "gridwidth": 2,
            "linecolor": "white",
            "showbackground": true,
            "ticks": "",
            "zerolinecolor": "white"
           }
          },
          "shapedefaults": {
           "line": {
            "color": "#2a3f5f"
           }
          },
          "ternary": {
           "aaxis": {
            "gridcolor": "white",
            "linecolor": "white",
            "ticks": ""
           },
           "baxis": {
            "gridcolor": "white",
            "linecolor": "white",
            "ticks": ""
           },
           "bgcolor": "#E5ECF6",
           "caxis": {
            "gridcolor": "white",
            "linecolor": "white",
            "ticks": ""
           }
          },
          "title": {
           "x": 0.05
          },
          "xaxis": {
           "automargin": true,
           "gridcolor": "white",
           "linecolor": "white",
           "ticks": "",
           "title": {
            "standoff": 15
           },
           "zerolinecolor": "white",
           "zerolinewidth": 2
          },
          "yaxis": {
           "automargin": true,
           "gridcolor": "white",
           "linecolor": "white",
           "ticks": "",
           "title": {
            "standoff": 15
           },
           "zerolinecolor": "white",
           "zerolinewidth": 2
          }
         }
        },
        "title": {
         "text": "Total Active Minutes"
        }
       }
      }
     },
     "metadata": {},
     "output_type": "display_data"
    }
   ],
   "source": [
    "import plotly.graph_objects as go\n",
    "import pandas as pd\n",
    "\n",
    "# Assuming daily_activity is your DataFrame containing the data\n",
    "\n",
    "labels = ['Very Active Minutes', 'Fairly Active Minutes', 'Lightly Active Minutes', 'Inactive Minutes']\n",
    "counts = daily_activity[['VeryActiveMinutes', 'FairlyActiveMinutes', 'LightlyActiveMinutes', 'SedentaryMinutes']].mean()\n",
    "colors = ['gold', 'lightgreen', 'pink', 'blue']\n",
    "\n",
    "fig = go.Figure(data=[go.Pie(labels=labels, values=counts)])\n",
    "fig.update_layout(title_text='Total Active Minutes')\n",
    "fig.update_traces(hoverinfo='label+percent', textinfo='value', textfont_size=20,\n",
    "                  marker=dict(colors=colors, line=dict(color='black', width=2)))\n",
    "fig.show()\n"
   ]
  },
  {
   "cell_type": "code",
   "execution_count": 19,
   "id": "a0a605cc",
   "metadata": {},
   "outputs": [
    {
     "data": {
      "application/vnd.plotly.v1+json": {
       "config": {
        "plotlyServerURL": "https://plot.ly"
       },
       "data": [
        {
         "hovertemplate": "Calories=%{x}<br>TotalSteps=%{y}<br>VeryActiveMinutes=%{marker.size}<extra></extra>",
         "legendgroup": "",
         "marker": {
          "color": "#636efa",
          "size": [
           25,
           21,
           30,
           29,
           36,
           38,
           42,
           50,
           28,
           19,
           66,
           41,
           39,
           73,
           31,
           78,
           48,
           16,
           52,
           33,
           41,
           50,
           36,
           45,
           24,
           37,
           44,
           46,
           46,
           36,
           0,
           0,
           0,
           0,
           0,
           0,
           15,
           17,
           0,
           0,
           0,
           0,
           0,
           16,
           0,
           0,
           17,
           0,
           0,
           11,
           186,
           7,
           0,
           0,
           0,
           0,
           0,
           0,
           0,
           0,
           0,
           0,
           2,
           30,
           5,
           3,
           51,
           29,
           15,
           5,
           0,
           0,
           0,
           0,
           0,
           8,
           11,
           0,
           3,
           0,
           9,
           3,
           1,
           10,
           0,
           6,
           11,
           41,
           0,
           32,
           12,
           0,
           0,
           0,
           0,
           0,
           0,
           2,
           0,
           0,
           0,
           2,
           0,
           0,
           0,
           0,
           0,
           0,
           0,
           0,
           0,
           0,
           0,
           0,
           0,
           0,
           0,
           0,
           0,
           0,
           0,
           0,
           0,
           0,
           0,
           0,
           0,
           0,
           0,
           0,
           0,
           0,
           0,
           0,
           0,
           1,
           0,
           0,
           0,
           0,
           0,
           0,
           14,
           16,
           10,
           0,
           0,
           0,
           0,
           0,
           0,
           0,
           0,
           0,
           42,
           43,
           32,
           27,
           41,
           28,
           48,
           31,
           48,
           104,
           52,
           0,
           37,
           44,
           55,
           19,
           6,
           21,
           13,
           25,
           36,
           72,
           36,
           55,
           24,
           20,
           0,
           35,
           57,
           58,
           16,
           3,
           0,
           0,
           0,
           0,
           0,
           0,
           0,
           0,
           0,
           0,
           0,
           0,
           0,
           0,
           0,
           0,
           0,
           0,
           0,
           0,
           0,
           0,
           0,
           0,
           0,
           0,
           0,
           0,
           0,
           0,
           13,
           0,
           0,
           0,
           0,
           0,
           0,
           0,
           0,
           1,
           0,
           0,
           0,
           3,
           0,
           0,
           0,
           0,
           0,
           0,
           5,
           20,
           0,
           0,
           0,
           0,
           0,
           0,
           0,
           0,
           0,
           28,
           19,
           1,
           1,
           66,
           1,
           11,
           0,
           11,
           23,
           9,
           32,
           0,
           15,
           0,
           26,
           0,
           0,
           2,
           0,
           0,
           0,
           47,
           0,
           1,
           0,
           22,
           2,
           46,
           28,
           46,
           0,
           2,
           46,
           28,
           20,
           5,
           7,
           0,
           1,
           0,
           13,
           0,
           75,
           46,
           0,
           0,
           0,
           0,
           0,
           16,
           6,
           0,
           0,
           11,
           20,
           0,
           15,
           18,
           0,
           20,
           14,
           0,
           22,
           24,
           0,
           0,
           17,
           0,
           44,
           31,
           5,
           15,
           31,
           11,
           4,
           19,
           2,
           0,
           33,
           0,
           30,
           50,
           7,
           0,
           15,
           36,
           43,
           41,
           24,
           47,
           14,
           14,
           29,
           0,
           9,
           8,
           1,
           4,
           4,
           0,
           0,
           36,
           65,
           0,
           0,
           0,
           0,
           0,
           0,
           0,
           0,
           0,
           0,
           0,
           0,
           0,
           0,
           0,
           0,
           0,
           13,
           38,
           0,
           0,
           0,
           3,
           0,
           2,
           0,
           0,
           0,
           0,
           3,
           0,
           8,
           1,
           0,
           0,
           0,
           1,
           0,
           0,
           0,
           1,
           0,
           1,
           0,
           8,
           6,
           13,
           6,
           6,
           0,
           0,
           8,
           8,
           27,
           6,
           3,
           0,
           2,
           3,
           3,
           0,
           0,
           1,
           10,
           0,
           6,
           0,
           27,
           20,
           19,
           7,
           77,
           58,
           14,
           11,
           14,
           11,
           19,
           13,
           14,
           12,
           33,
           18,
           35,
           12,
           33,
           120,
           107,
           6,
           13,
           8,
           0,
           0,
           0,
           0,
           0,
           0,
           0,
           25,
           0,
           0,
           0,
           0,
           0,
           0,
           0,
           29,
           32,
           0,
           0,
           0,
           0,
           27,
           30,
           0,
           2,
           0,
           26,
           0,
           0,
           0,
           34,
           0,
           0,
           19,
           0,
           17,
           8,
           7,
           14,
           1,
           0,
           6,
           20,
           5,
           0,
           18,
           12,
           27,
           1,
           15,
           7,
           0,
           0,
           21,
           0,
           14,
           0,
           23,
           66,
           6,
           11,
           4,
           0,
           0,
           0,
           0,
           1,
           3,
           12,
           22,
           10,
           2,
           4,
           0,
           9,
           15,
           6,
           1,
           1,
           14,
           12,
           4,
           0,
           5,
           0,
           4,
           8,
           1,
           5,
           9,
           0,
           1,
           10,
           0,
           19,
           0,
           61,
           58,
           0,
           0,
           0,
           69,
           0,
           47,
           25,
           0,
           0,
           51,
           40,
           16,
           49,
           46,
           0,
           0,
           23,
           26,
           0,
           44,
           21,
           0,
           3,
           59,
           61,
           0,
           8,
           86,
           15,
           118,
           115,
           184,
           200,
           114,
           108,
           87,
           110,
           62,
           24,
           210,
           61,
           38,
           63,
           99,
           97,
           207,
           194,
           37,
           97,
           25,
           45,
           41,
           0,
           0,
           34,
           104,
           45,
           0,
           0,
           0,
           0,
           7,
           0,
           0,
           0,
           26,
           11,
           0,
           0,
           0,
           0,
           0,
           0,
           0,
           0,
           0,
           0,
           0,
           0,
           0,
           0,
           0,
           0,
           0,
           0,
           0,
           0,
           0,
           0,
           0,
           31,
           0,
           0,
           0,
           0,
           0,
           33,
           0,
           8,
           0,
           0,
           0,
           0,
           0,
           8,
           0,
           0,
           0,
           0,
           0,
           0,
           0,
           0,
           0,
           0,
           17,
           14,
           0,
           36,
           5,
           30,
           0,
           70,
           0,
           0,
           0,
           11,
           33,
           42,
           0,
           2,
           0,
           3,
           9,
           0,
           0,
           0,
           0,
           12,
           2,
           50,
           8,
           0,
           0,
           50,
           5,
           13,
           35,
           48,
           53,
           30,
           58,
           0,
           35,
           36,
           7,
           38,
           12,
           32,
           0,
           18,
           21,
           15,
           14,
           0,
           0,
           0,
           43,
           62,
           24,
           0,
           53,
           56,
           34,
           0,
           0,
           0,
           48,
           53,
           60,
           30,
           64,
           2,
           0,
           51,
           16,
           50,
           16,
           55,
           0,
           0,
           64,
           58,
           0,
           53,
           44,
           0,
           59,
           31,
           35,
           30,
           0,
           0,
           61,
           67,
           87,
           19,
           58,
           0,
           0,
           69,
           70,
           55,
           54,
           24,
           42,
           30,
           66,
           57,
           45,
           24,
           84,
           20,
           32,
           67,
           72,
           57,
           5,
           116,
           95,
           119,
           132,
           96,
           111,
           102,
           90,
           89,
           100,
           60,
           125,
           129,
           118,
           68,
           60,
           90,
           58,
           27,
           0,
           0,
           87,
           89,
           93,
           90,
           121,
           125,
           66,
           96,
           60,
           28,
           40,
           35,
           29,
           0,
           6,
           41,
           16,
           0,
           5,
           49,
           0,
           30,
           41,
           7,
           19,
           45,
           11,
           16,
           0,
           65,
           116,
           123,
           60,
           64,
           0,
           117,
           120,
           82,
           137,
           113,
           19,
           0,
           117,
           90,
           4,
           11,
           3,
           0,
           71,
           63,
           71,
           19,
           66,
           74,
           0,
           0,
           71,
           63,
           72,
           8,
           0,
           2,
           0,
           0,
           0,
           0,
           4,
           7,
           0,
           35,
           4,
           7,
           2,
           18,
           1,
           77,
           0,
           46,
           2,
           10,
           0,
           0,
           0,
           0,
           2,
           0,
           3,
           66,
           9,
           5,
           0,
           0,
           0,
           0,
           0,
           0,
           0,
           0,
           0,
           0,
           0,
           1,
           8,
           3,
           0,
           0,
           0,
           0,
           6,
           10,
           0,
           0,
           0,
           0,
           0,
           0,
           0,
           0,
           0,
           0,
           85,
           108,
           68,
           106,
           94,
           58,
           29,
           82,
           73,
           82,
           61,
           102,
           64,
           113,
           22,
           93,
           58,
           18,
           124,
           36,
           0,
           19,
           66,
           67,
           96,
           105,
           17,
           73,
           18,
           88,
           23
          ],
          "sizemode": "area",
          "sizeref": 0.525,
          "symbol": "circle"
         },
         "mode": "markers",
         "name": "",
         "orientation": "v",
         "showlegend": false,
         "type": "scatter",
         "x": [
          1985,
          1797,
          1776,
          1745,
          1863,
          1728,
          1921,
          2035,
          1786,
          1775,
          1827,
          1949,
          1788,
          2013,
          1970,
          2159,
          1898,
          1837,
          1947,
          1820,
          2004,
          1990,
          1819,
          1959,
          1896,
          1821,
          1740,
          1819,
          1859,
          1783,
          0,
          1432,
          1411,
          1572,
          1344,
          1463,
          1554,
          1604,
          1435,
          1446,
          1467,
          1470,
          1562,
          1617,
          1492,
          1402,
          1670,
          1401,
          1404,
          1655,
          2690,
          1497,
          1334,
          1368,
          1370,
          1341,
          1474,
          1427,
          1328,
          1393,
          1359,
          1002,
          3199,
          2902,
          3226,
          2750,
          3493,
          3011,
          2806,
          3300,
          2430,
          2140,
          2344,
          2677,
          2413,
          2497,
          3123,
          2489,
          3108,
          2498,
          3846,
          2696,
          2580,
          3324,
          2222,
          2463,
          3328,
          3404,
          2987,
          3008,
          2799,
          1276,
          2030,
          1860,
          2130,
          1725,
          1657,
          1793,
          1814,
          1366,
          1349,
          2062,
          1827,
          1645,
          1347,
          1347,
          1347,
          1348,
          1992,
          1856,
          1763,
          1541,
          1348,
          1742,
          1549,
          1589,
          1351,
          1347,
          1347,
          1347,
          1347,
          1347,
          665,
          2220,
          2151,
          2383,
          2221,
          2064,
          2063,
          2111,
          2063,
          2063,
          2064,
          2093,
          2499,
          2324,
          2100,
          2638,
          2063,
          2351,
          2063,
          2064,
          2411,
          2505,
          2195,
          2338,
          2063,
          2383,
          2229,
          2063,
          2063,
          2063,
          2063,
          1383,
          2390,
          2601,
          2312,
          2525,
          2177,
          2782,
          2770,
          2489,
          2897,
          3158,
          2638,
          2069,
          2529,
          2470,
          2793,
          2463,
          2296,
          2611,
          2732,
          2380,
          2473,
          2752,
          2649,
          2609,
          2498,
          1995,
          1848,
          2709,
          2797,
          2544,
          1853,
          1459,
          1521,
          1431,
          1444,
          1373,
          1214,
          1419,
          1356,
          1667,
          1370,
          1399,
          1916,
          1401,
          1576,
          1595,
          1593,
          1649,
          1692,
          1506,
          1447,
          1690,
          1604,
          1658,
          1926,
          1736,
          1491,
          1555,
          1869,
          1141,
          1698,
          1364,
          2124,
          2003,
          1696,
          1801,
          1724,
          1852,
          1905,
          1811,
          1922,
          1610,
          1851,
          1804,
          1725,
          1654,
          1632,
          1481,
          1473,
          1410,
          1779,
          1403,
          1613,
          1878,
          1426,
          1780,
          1742,
          1972,
          1821,
          1630,
          1899,
          1903,
          1125,
          2344,
          2038,
          2010,
          2133,
          2670,
          1882,
          1944,
          2346,
          2198,
          2048,
          1946,
          2629,
          2187,
          2095,
          1861,
          2194,
          1854,
          403,
          1982,
          2004,
          1893,
          2063,
          2148,
          1529,
          1890,
          1956,
          2094,
          1970,
          2241,
          2021,
          1898,
          1907,
          1882,
          1966,
          1835,
          1780,
          1830,
          1739,
          1878,
          1906,
          2015,
          1971,
          1910,
          1897,
          2096,
          1906,
          1962,
          1826,
          1431,
          1788,
          2093,
          2065,
          1908,
          1908,
          1964,
          2014,
          1985,
          1867,
          2124,
          1669,
          1995,
          1921,
          2010,
          2057,
          2095,
          1972,
          2044,
          1946,
          1237,
          1450,
          1495,
          1433,
          1468,
          1625,
          1529,
          1584,
          1638,
          1554,
          1397,
          1481,
          1638,
          1655,
          1570,
          1551,
          1377,
          1407,
          1545,
          1650,
          1501,
          1760,
          1710,
          1628,
          1618,
          1590,
          1574,
          1633,
          1667,
          1630,
          52,
          3654,
          1981,
          2011,
          2951,
          3051,
          1990,
          1995,
          1980,
          1980,
          1980,
          1980,
          1980,
          1980,
          1980,
          1980,
          1980,
          1980,
          1980,
          1980,
          1980,
          2207,
          2828,
          3879,
          3429,
          2704,
          2975,
          3089,
          2785,
          2926,
          2645,
          1120,
          2286,
          2306,
          1776,
          1527,
          2115,
          2135,
          2302,
          1985,
          1884,
          1464,
          1632,
          2200,
          2220,
          1792,
          1886,
          1945,
          1880,
          2314,
          2236,
          2324,
          2367,
          2175,
          2092,
          1593,
          2270,
          2235,
          2282,
          2530,
          2266,
          2158,
          1792,
          2345,
          2260,
          2232,
          257,
          2955,
          3092,
          2998,
          3066,
          3073,
          2572,
          3274,
          3015,
          3083,
          3069,
          3544,
          3306,
          2885,
          3288,
          2929,
          3074,
          2969,
          2979,
          3283,
          2926,
          3147,
          3290,
          3162,
          2899,
          3425,
          4022,
          3934,
          3013,
          3061,
          2954,
          1623,
          2113,
          2095,
          2194,
          2496,
          2180,
          1933,
          2248,
          1954,
          1974,
          2150,
          2432,
          2149,
          2247,
          2070,
          2291,
          2361,
          2203,
          2196,
          2363,
          2246,
          2336,
          2421,
          2070,
          2120,
          2211,
          2123,
          2423,
          2281,
          2181,
          2499,
          1212,
          1909,
          1722,
          1922,
          2121,
          1997,
          2117,
          2116,
          1876,
          1788,
          2486,
          2094,
          2085,
          2173,
          2225,
          2223,
          2098,
          2185,
          1918,
          2105,
          1692,
          2066,
          1953,
          1842,
          2262,
          1722,
          1973,
          2666,
          2223,
          1889,
          2131,
          1452,
          2947,
          2898,
          2984,
          2896,
          3328,
          3394,
          3013,
          2812,
          3061,
          2729,
          2241,
          3691,
          3538,
          3064,
          2784,
          2908,
          3033,
          3165,
          3115,
          2017,
          2859,
          3145,
          3004,
          3006,
          2859,
          3683,
          3287,
          2990,
          3172,
          3069,
          1240,
          2026,
          1718,
          2324,
          2254,
          1831,
          1397,
          1683,
          2284,
          1570,
          2066,
          2105,
          1776,
          1507,
          2033,
          2093,
          1922,
          1999,
          2169,
          1463,
          1747,
          1996,
          2116,
          1698,
          2156,
          1916,
          1494,
          1762,
          2272,
          2335,
          1693,
          741,
          3405,
          2551,
          4022,
          4005,
          4274,
          4552,
          3625,
          3501,
          3192,
          4018,
          3329,
          3152,
          4392,
          3374,
          3088,
          3294,
          3580,
          3544,
          4501,
          4546,
          3014,
          3795,
          2755,
          3004,
          2643,
          1819,
          1819,
          2489,
          3841,
          1665,
          1496,
          1496,
          1496,
          2865,
          2828,
          2225,
          2018,
          2606,
          2536,
          4900,
          2409,
          2651,
          2305,
          1497,
          2450,
          2576,
          1879,
          2560,
          2275,
          2361,
          2044,
          1496,
          1902,
          2636,
          1838,
          2469,
          2250,
          1248,
          2560,
          2905,
          2952,
          2896,
          2783,
          3171,
          2766,
          2839,
          2701,
          2060,
          2796,
          2664,
          2703,
          2771,
          2060,
          2743,
          2687,
          2060,
          2843,
          3327,
          2725,
          2671,
          2718,
          2682,
          2806,
          2613,
          2712,
          2175,
          0,
          1841,
          2400,
          2507,
          2127,
          2225,
          2067,
          2798,
          1841,
          3727,
          1841,
          1922,
          1841,
          2053,
          2484,
          2584,
          1841,
          1993,
          1841,
          2280,
          2319,
          1841,
          1843,
          1841,
          1841,
          2496,
          1032,
          1994,
          1718,
          1466,
          1756,
          2173,
          2027,
          2039,
          2046,
          2174,
          2179,
          2086,
          2571,
          1705,
          2194,
          2012,
          2034,
          2182,
          2254,
          2002,
          1740,
          2162,
          2072,
          2086,
          2066,
          1850,
          1947,
          1659,
          2105,
          2361,
          1855,
          928,
          2937,
          2742,
          2668,
          2098,
          2076,
          2383,
          2832,
          2812,
          3096,
          2763,
          2889,
          2284,
          2667,
          3055,
          2939,
          2830,
          2836,
          3180,
          2051,
          2225,
          2642,
          2976,
          1557,
          2933,
          2553,
          120,
          2772,
          2516,
          2734,
          2395,
          1635,
          1629,
          2743,
          2944,
          2997,
          2463,
          2846,
          1965,
          2049,
          2752,
          2781,
          2693,
          2862,
          2616,
          2995,
          2730,
          2754,
          2754,
          2655,
          2386,
          2924,
          2739,
          2534,
          2960,
          2800,
          2735,
          1199,
          3186,
          3140,
          3411,
          3410,
          2867,
          3213,
          3133,
          3114,
          3043,
          3103,
          2655,
          3554,
          3577,
          3403,
          2846,
          2852,
          3062,
          2794,
          2408,
          1886,
          1988,
          3023,
          2918,
          2950,
          2859,
          3331,
          3589,
          2765,
          2926,
          2809,
          1505,
          2044,
          1935,
          1705,
          1632,
          1880,
          2112,
          1829,
          1763,
          1931,
          2218,
          1651,
          2132,
          1976,
          1909,
          1813,
          2008,
          1580,
          1854,
          0,
          3635,
          4079,
          4163,
          3666,
          3363,
          2572,
          4157,
          4092,
          3787,
          4236,
          4044,
          2908,
          2741,
          4005,
          3763,
          3061,
          2884,
          2982,
          2660,
          3369,
          3491,
          3784,
          3110,
          3783,
          3644,
          2799,
          2685,
          3721,
          3586,
          3788,
          1976,
          2650,
          2654,
          2443,
          2505,
          2693,
          2439,
          2536,
          2668,
          2647,
          2883,
          2944,
          3012,
          2889,
          2547,
          3093,
          3142,
          2757,
          3513,
          3164,
          2596,
          2894,
          3212,
          2516,
          3266,
          2683,
          2810,
          2940,
          2947,
          2846,
          2804,
          0,
          2044,
          1934,
          1963,
          2009,
          1721,
          1688,
          1688,
          1688,
          2188,
          1720,
          2419,
          2748,
          1799,
          1688,
          1928,
          2067,
          2780,
          3101,
          2896,
          1962,
          2015,
          2297,
          2067,
          1688,
          1688,
          1688,
          1688,
          1688,
          57,
          3921,
          3566,
          3793,
          3934,
          4547,
          3545,
          2761,
          3676,
          3679,
          3659,
          3427,
          3891,
          3455,
          3802,
          2860,
          3808,
          3060,
          2698,
          4398,
          2786,
          2189,
          2817,
          3477,
          3052,
          4015,
          4142,
          2847,
          3710,
          2832,
          3832,
          1849
         ],
         "xaxis": "x",
         "y": [
          13162,
          10735,
          10460,
          9762,
          12669,
          9705,
          13019,
          15506,
          10544,
          9819,
          12764,
          14371,
          10039,
          15355,
          13755,
          18134,
          13154,
          11181,
          14673,
          10602,
          14727,
          15103,
          11100,
          14070,
          12159,
          11992,
          10060,
          12022,
          12207,
          12770,
          0,
          8163,
          7007,
          9107,
          1510,
          5370,
          6175,
          10536,
          2916,
          4974,
          6349,
          4026,
          8538,
          6076,
          6497,
          2826,
          8367,
          2759,
          2390,
          6474,
          36019,
          7155,
          2100,
          2193,
          2470,
          1727,
          2104,
          3427,
          1732,
          2969,
          3134,
          2971,
          10694,
          8001,
          11037,
          5263,
          15300,
          8757,
          7132,
          11256,
          2436,
          1223,
          3673,
          6637,
          3321,
          3580,
          9919,
          3032,
          9405,
          3176,
          18213,
          6132,
          3758,
          12850,
          2309,
          4363,
          9787,
          13372,
          6724,
          6643,
          9167,
          1329,
          6697,
          4929,
          7937,
          3844,
          3414,
          4525,
          4597,
          197,
          8,
          8054,
          5372,
          3570,
          0,
          0,
          0,
          4,
          6907,
          4920,
          4014,
          2573,
          0,
          4059,
          2080,
          2237,
          44,
          0,
          0,
          0,
          0,
          0,
          0,
          678,
          356,
          2163,
          980,
          0,
          0,
          244,
          0,
          0,
          0,
          149,
          2945,
          2090,
          152,
          3761,
          0,
          1675,
          0,
          0,
          2704,
          3790,
          1326,
          1786,
          0,
          2091,
          1510,
          0,
          0,
          0,
          0,
          0,
          11875,
          12024,
          10690,
          11034,
          10100,
          15112,
          14131,
          11548,
          15112,
          12453,
          12954,
          6001,
          13481,
          11369,
          10119,
          10159,
          10140,
          10245,
          18387,
          10538,
          10379,
          12183,
          11768,
          11895,
          10227,
          6708,
          3292,
          13379,
          12798,
          13272,
          9117,
          4414,
          4993,
          3335,
          3821,
          2547,
          838,
          3325,
          2424,
          7222,
          2467,
          2915,
          12357,
          3490,
          6017,
          5933,
          6088,
          6375,
          7604,
          4729,
          3609,
          7018,
          5992,
          6564,
          12167,
          8198,
          4193,
          5528,
          10685,
          254,
          8580,
          8891,
          10725,
          7275,
          3973,
          5205,
          5057,
          6198,
          6559,
          5997,
          7192,
          3404,
          5583,
          5079,
          4165,
          3588,
          3409,
          1715,
          1532,
          924,
          4571,
          772,
          3634,
          7443,
          1201,
          5202,
          4878,
          7379,
          5161,
          3090,
          6227,
          6424,
          2661,
          10113,
          10352,
          10129,
          10465,
          22244,
          5472,
          8247,
          6711,
          10999,
          10080,
          7804,
          16901,
          9471,
          9482,
          5980,
          11423,
          5439,
          42,
          8796,
          7618,
          7910,
          8482,
          9685,
          2524,
          7762,
          7948,
          9202,
          8859,
          7286,
          9317,
          6873,
          7373,
          8242,
          3516,
          7913,
          7365,
          8452,
          7399,
          7525,
          7412,
          8278,
          8314,
          7063,
          4940,
          8168,
          7726,
          8275,
          6440,
          7566,
          4747,
          9715,
          8844,
          7451,
          6905,
          8199,
          6798,
          7711,
          4880,
          8857,
          3843,
          7396,
          6731,
          5995,
          8283,
          7904,
          5512,
          9135,
          5250,
          3077,
          8856,
          10035,
          7641,
          9010,
          13459,
          10415,
          11663,
          12414,
          11658,
          6093,
          8911,
          12058,
          14112,
          11177,
          11388,
          7193,
          7114,
          10645,
          13238,
          10414,
          16520,
          14335,
          13559,
          12312,
          11677,
          11550,
          13585,
          14687,
          13072,
          746,
          8539,
          0,
          108,
          1882,
          1982,
          16,
          62,
          0,
          0,
          0,
          0,
          0,
          0,
          0,
          0,
          0,
          0,
          0,
          0,
          0,
          475,
          4496,
          10252,
          11728,
          4369,
          6132,
          5862,
          4556,
          5546,
          3689,
          590,
          5394,
          5974,
          0,
          3984,
          7753,
          8204,
          10210,
          5664,
          4744,
          29,
          2276,
          8925,
          8954,
          3702,
          4500,
          4935,
          4081,
          9259,
          9899,
          10780,
          10817,
          7990,
          8221,
          1251,
          9261,
          9648,
          10429,
          13658,
          9524,
          7937,
          3672,
          10378,
          9487,
          9129,
          17,
          10122,
          10993,
          8863,
          8758,
          6580,
          4660,
          11009,
          10181,
          10553,
          10055,
          12139,
          13236,
          10243,
          12961,
          9461,
          11193,
          10074,
          9232,
          12533,
          10255,
          10096,
          12727,
          12375,
          9603,
          13175,
          22770,
          17298,
          10218,
          10299,
          10201,
          3369,
          3276,
          2961,
          3974,
          7198,
          3945,
          2268,
          6155,
          2064,
          2072,
          3809,
          6831,
          4363,
          5002,
          3385,
          6326,
          7243,
          4493,
          4676,
          6222,
          5232,
          6910,
          7502,
          2923,
          3800,
          4514,
          5183,
          7303,
          5275,
          3915,
          9105,
          768,
          5135,
          4978,
          6799,
          7795,
          7289,
          9634,
          8940,
          5401,
          4803,
          13743,
          9601,
          6890,
          8563,
          8095,
          9148,
          9557,
          9451,
          7833,
          10319,
          3428,
          7891,
          5267,
          5232,
          10611,
          3755,
          8237,
          6543,
          11451,
          6435,
          9108,
          6307,
          7213,
          6877,
          7860,
          6506,
          11140,
          12692,
          9105,
          6708,
          8793,
          6530,
          1664,
          15126,
          15050,
          9167,
          6108,
          7047,
          9023,
          9930,
          10144,
          0,
          7245,
          9454,
          8161,
          8614,
          6943,
          14370,
          12857,
          8232,
          10613,
          9810,
          2752,
          11596,
          4832,
          17022,
          16556,
          5771,
          655,
          3727,
          15482,
          2713,
          12346,
          11682,
          4112,
          1807,
          10946,
          11886,
          10538,
          11393,
          12764,
          1202,
          5164,
          9769,
          12848,
          4249,
          14331,
          9632,
          1868,
          6083,
          11611,
          16358,
          4926,
          3121,
          8135,
          5077,
          8596,
          12087,
          14269,
          12231,
          9893,
          12574,
          8330,
          10830,
          9172,
          7638,
          15764,
          6393,
          5325,
          6805,
          9841,
          7924,
          12363,
          13368,
          7439,
          11045,
          5206,
          7550,
          4950,
          0,
          0,
          3421,
          8869,
          4038,
          0,
          0,
          0,
          14019,
          14450,
          7150,
          5153,
          11135,
          10449,
          19542,
          8206,
          11495,
          7623,
          0,
          9543,
          9411,
          3403,
          9592,
          6987,
          8915,
          4933,
          0,
          2997,
          9799,
          3365,
          7336,
          7328,
          4477,
          4562,
          7142,
          7671,
          9501,
          8301,
          7851,
          6885,
          7142,
          6361,
          0,
          6238,
          0,
          5896,
          7802,
          0,
          5565,
          5731,
          0,
          6744,
          9837,
          6781,
          6047,
          5832,
          6339,
          6116,
          5510,
          7706,
          6277,
          0,
          0,
          4053,
          5162,
          1282,
          4732,
          2497,
          8294,
          0,
          10771,
          0,
          637,
          0,
          2153,
          6474,
          7091,
          0,
          703,
          0,
          2503,
          2487,
          0,
          9,
          0,
          0,
          4697,
          1967,
          10199,
          5652,
          1551,
          5563,
          13217,
          10145,
          11404,
          10742,
          13928,
          11835,
          10725,
          20031,
          5029,
          13239,
          10433,
          10320,
          12627,
          10762,
          10081,
          5454,
          12912,
          12109,
          10147,
          10524,
          5908,
          6815,
          4188,
          12342,
          15448,
          6722,
          3587,
          14172,
          12862,
          11179,
          5273,
          4631,
          8059,
          14816,
          14194,
          15566,
          13744,
          15299,
          8093,
          11085,
          18229,
          15090,
          13541,
          15128,
          20067,
          3761,
          5600,
          13041,
          14510,
          0,
          15010,
          11459,
          0,
          11317,
          5813,
          9123,
          8585,
          31,
          0,
          9827,
          10688,
          14365,
          9469,
          9753,
          2817,
          3520,
          10091,
          10387,
          11107,
          11584,
          7881,
          14560,
          12390,
          10052,
          10288,
          10988,
          8564,
          12461,
          12827,
          10677,
          13566,
          14433,
          9572,
          3789,
          18060,
          16433,
          20159,
          20669,
          14549,
          18827,
          17076,
          15929,
          15108,
          16057,
          10520,
          22359,
          22988,
          20500,
          12685,
          12422,
          15447,
          12315,
          7135,
          1170,
          1969,
          15484,
          14581,
          14990,
          13953,
          19769,
          22026,
          12465,
          14810,
          12209,
          4998,
          9033,
          8053,
          5234,
          2672,
          9256,
          10204,
          5151,
          4212,
          6466,
          11268,
          2824,
          9282,
          8905,
          6829,
          4562,
          10232,
          2718,
          6260,
          0,
          7626,
          12386,
          13318,
          14461,
          11207,
          2132,
          13630,
          13070,
          9388,
          15148,
          12200,
          5709,
          3703,
          12405,
          16208,
          7359,
          5417,
          6175,
          2946,
          11419,
          6064,
          8712,
          7875,
          8567,
          7045,
          4468,
          2943,
          8382,
          6582,
          9143,
          4561,
          5014,
          5571,
          3135,
          3430,
          5319,
          3008,
          3864,
          5697,
          5273,
          8538,
          8687,
          9423,
          8286,
          4503,
          10499,
          12474,
          6174,
          15168,
          10085,
          4512,
          8469,
          12015,
          3588,
          12427,
          5843,
          6117,
          9217,
          9877,
          8240,
          8701,
          0,
          2564,
          1320,
          1219,
          2483,
          244,
          0,
          0,
          0,
          3147,
          144,
          4068,
          5245,
          400,
          0,
          1321,
          1758,
          6157,
          8360,
          7174,
          1619,
          1831,
          2421,
          2283,
          0,
          0,
          0,
          0,
          0,
          0,
          23186,
          15337,
          21129,
          13422,
          29326,
          15118,
          11423,
          18785,
          19948,
          19377,
          18258,
          11200,
          16674,
          12986,
          11101,
          23629,
          14890,
          9733,
          27745,
          10930,
          4790,
          10818,
          18193,
          14055,
          21727,
          12332,
          10686,
          20226,
          10733,
          21420,
          8064
         ],
         "yaxis": "y"
        },
        {
         "hovertemplate": "<b>OLS trendline</b><br>TotalSteps = 4.19039 * Calories + -2015.1<br>R<sup>2</sup>=0.349953<br><br>Calories=%{x}<br>TotalSteps=%{y} <b>(trend)</b><extra></extra>",
         "legendgroup": "",
         "marker": {
          "color": "#636efa",
          "symbol": "circle"
         },
         "mode": "lines",
         "name": "",
         "showlegend": false,
         "type": "scatter",
         "x": [
          0,
          0,
          0,
          0,
          52,
          57,
          120,
          257,
          403,
          665,
          741,
          928,
          1002,
          1032,
          1120,
          1125,
          1141,
          1199,
          1212,
          1214,
          1237,
          1240,
          1248,
          1276,
          1328,
          1334,
          1341,
          1344,
          1347,
          1347,
          1347,
          1347,
          1347,
          1347,
          1347,
          1347,
          1348,
          1348,
          1349,
          1351,
          1356,
          1359,
          1364,
          1366,
          1368,
          1370,
          1370,
          1373,
          1377,
          1383,
          1393,
          1397,
          1397,
          1399,
          1401,
          1401,
          1402,
          1403,
          1404,
          1407,
          1410,
          1411,
          1419,
          1426,
          1427,
          1431,
          1431,
          1432,
          1433,
          1435,
          1444,
          1446,
          1447,
          1450,
          1452,
          1459,
          1463,
          1463,
          1464,
          1466,
          1467,
          1468,
          1470,
          1473,
          1474,
          1481,
          1481,
          1491,
          1492,
          1494,
          1495,
          1496,
          1496,
          1496,
          1496,
          1497,
          1497,
          1501,
          1505,
          1506,
          1507,
          1521,
          1527,
          1529,
          1529,
          1541,
          1545,
          1549,
          1551,
          1554,
          1554,
          1555,
          1557,
          1562,
          1570,
          1570,
          1572,
          1574,
          1576,
          1580,
          1584,
          1589,
          1590,
          1593,
          1593,
          1595,
          1604,
          1604,
          1610,
          1613,
          1617,
          1618,
          1623,
          1625,
          1628,
          1629,
          1630,
          1630,
          1632,
          1632,
          1632,
          1633,
          1635,
          1638,
          1638,
          1645,
          1649,
          1650,
          1651,
          1654,
          1655,
          1655,
          1657,
          1658,
          1659,
          1665,
          1667,
          1667,
          1669,
          1670,
          1683,
          1688,
          1688,
          1688,
          1688,
          1688,
          1688,
          1688,
          1688,
          1688,
          1690,
          1692,
          1692,
          1693,
          1696,
          1698,
          1698,
          1705,
          1705,
          1710,
          1718,
          1718,
          1720,
          1721,
          1722,
          1722,
          1724,
          1725,
          1725,
          1728,
          1736,
          1739,
          1740,
          1740,
          1742,
          1742,
          1745,
          1747,
          1756,
          1760,
          1762,
          1763,
          1763,
          1775,
          1776,
          1776,
          1776,
          1779,
          1780,
          1780,
          1783,
          1786,
          1788,
          1788,
          1788,
          1792,
          1792,
          1793,
          1797,
          1799,
          1801,
          1804,
          1811,
          1813,
          1814,
          1819,
          1819,
          1819,
          1819,
          1820,
          1821,
          1821,
          1826,
          1827,
          1827,
          1829,
          1830,
          1831,
          1835,
          1837,
          1838,
          1841,
          1841,
          1841,
          1841,
          1841,
          1841,
          1841,
          1841,
          1841,
          1842,
          1843,
          1848,
          1849,
          1850,
          1851,
          1852,
          1853,
          1854,
          1854,
          1855,
          1856,
          1859,
          1860,
          1861,
          1863,
          1867,
          1869,
          1876,
          1878,
          1878,
          1879,
          1880,
          1880,
          1882,
          1882,
          1884,
          1886,
          1886,
          1889,
          1890,
          1893,
          1896,
          1897,
          1898,
          1898,
          1899,
          1902,
          1903,
          1905,
          1906,
          1906,
          1907,
          1908,
          1908,
          1909,
          1909,
          1910,
          1916,
          1916,
          1918,
          1921,
          1921,
          1922,
          1922,
          1922,
          1922,
          1926,
          1928,
          1931,
          1933,
          1934,
          1935,
          1944,
          1945,
          1946,
          1946,
          1947,
          1947,
          1949,
          1953,
          1954,
          1956,
          1959,
          1962,
          1962,
          1963,
          1964,
          1965,
          1966,
          1970,
          1970,
          1971,
          1972,
          1972,
          1973,
          1974,
          1976,
          1976,
          1980,
          1980,
          1980,
          1980,
          1980,
          1980,
          1980,
          1980,
          1980,
          1980,
          1980,
          1980,
          1980,
          1981,
          1982,
          1985,
          1985,
          1985,
          1988,
          1990,
          1990,
          1992,
          1993,
          1994,
          1995,
          1995,
          1995,
          1996,
          1997,
          1999,
          2002,
          2003,
          2004,
          2004,
          2008,
          2009,
          2010,
          2010,
          2011,
          2012,
          2013,
          2014,
          2015,
          2015,
          2017,
          2018,
          2021,
          2026,
          2027,
          2030,
          2033,
          2034,
          2035,
          2038,
          2039,
          2044,
          2044,
          2044,
          2044,
          2046,
          2048,
          2049,
          2051,
          2053,
          2057,
          2060,
          2060,
          2060,
          2062,
          2063,
          2063,
          2063,
          2063,
          2063,
          2063,
          2063,
          2063,
          2063,
          2063,
          2063,
          2064,
          2064,
          2064,
          2065,
          2066,
          2066,
          2066,
          2067,
          2067,
          2067,
          2069,
          2070,
          2070,
          2072,
          2076,
          2085,
          2086,
          2086,
          2092,
          2093,
          2093,
          2093,
          2094,
          2094,
          2095,
          2095,
          2095,
          2096,
          2098,
          2098,
          2100,
          2105,
          2105,
          2105,
          2111,
          2112,
          2113,
          2115,
          2116,
          2116,
          2117,
          2120,
          2121,
          2123,
          2124,
          2124,
          2127,
          2130,
          2131,
          2132,
          2133,
          2135,
          2140,
          2148,
          2149,
          2150,
          2151,
          2156,
          2158,
          2159,
          2162,
          2169,
          2173,
          2173,
          2174,
          2175,
          2175,
          2177,
          2179,
          2180,
          2181,
          2182,
          2185,
          2187,
          2188,
          2189,
          2194,
          2194,
          2194,
          2195,
          2196,
          2198,
          2200,
          2203,
          2207,
          2211,
          2218,
          2220,
          2220,
          2221,
          2222,
          2223,
          2223,
          2225,
          2225,
          2225,
          2225,
          2229,
          2232,
          2235,
          2236,
          2241,
          2241,
          2246,
          2247,
          2248,
          2250,
          2254,
          2254,
          2260,
          2262,
          2266,
          2270,
          2272,
          2275,
          2280,
          2281,
          2282,
          2284,
          2284,
          2286,
          2291,
          2296,
          2297,
          2302,
          2305,
          2306,
          2312,
          2314,
          2319,
          2324,
          2324,
          2324,
          2335,
          2336,
          2338,
          2344,
          2344,
          2345,
          2346,
          2351,
          2361,
          2361,
          2361,
          2363,
          2367,
          2380,
          2383,
          2383,
          2383,
          2386,
          2390,
          2395,
          2400,
          2408,
          2409,
          2411,
          2413,
          2419,
          2421,
          2423,
          2430,
          2432,
          2439,
          2443,
          2450,
          2463,
          2463,
          2463,
          2469,
          2470,
          2473,
          2484,
          2486,
          2489,
          2489,
          2489,
          2496,
          2496,
          2497,
          2498,
          2498,
          2499,
          2499,
          2505,
          2505,
          2507,
          2516,
          2516,
          2525,
          2529,
          2530,
          2534,
          2536,
          2536,
          2544,
          2547,
          2551,
          2553,
          2560,
          2560,
          2571,
          2572,
          2572,
          2576,
          2580,
          2584,
          2596,
          2601,
          2606,
          2609,
          2611,
          2613,
          2616,
          2629,
          2636,
          2638,
          2638,
          2642,
          2643,
          2645,
          2647,
          2649,
          2650,
          2651,
          2654,
          2655,
          2655,
          2660,
          2664,
          2666,
          2667,
          2668,
          2668,
          2670,
          2671,
          2677,
          2682,
          2683,
          2685,
          2687,
          2690,
          2693,
          2693,
          2696,
          2698,
          2701,
          2703,
          2704,
          2709,
          2712,
          2718,
          2725,
          2729,
          2730,
          2732,
          2734,
          2735,
          2739,
          2741,
          2742,
          2743,
          2743,
          2748,
          2750,
          2752,
          2752,
          2754,
          2754,
          2755,
          2757,
          2761,
          2763,
          2765,
          2766,
          2770,
          2771,
          2772,
          2780,
          2781,
          2782,
          2783,
          2784,
          2785,
          2786,
          2793,
          2794,
          2796,
          2797,
          2798,
          2799,
          2799,
          2800,
          2804,
          2806,
          2806,
          2809,
          2810,
          2812,
          2812,
          2817,
          2828,
          2828,
          2830,
          2832,
          2832,
          2836,
          2839,
          2843,
          2846,
          2846,
          2846,
          2847,
          2852,
          2859,
          2859,
          2859,
          2860,
          2862,
          2865,
          2867,
          2883,
          2884,
          2885,
          2889,
          2889,
          2894,
          2896,
          2896,
          2896,
          2897,
          2898,
          2899,
          2902,
          2905,
          2908,
          2908,
          2918,
          2924,
          2926,
          2926,
          2926,
          2929,
          2933,
          2937,
          2939,
          2940,
          2944,
          2944,
          2947,
          2947,
          2950,
          2951,
          2952,
          2954,
          2955,
          2960,
          2969,
          2975,
          2976,
          2979,
          2982,
          2984,
          2987,
          2990,
          2995,
          2997,
          2998,
          3004,
          3004,
          3006,
          3008,
          3011,
          3012,
          3013,
          3013,
          3014,
          3015,
          3023,
          3033,
          3043,
          3051,
          3052,
          3055,
          3060,
          3061,
          3061,
          3061,
          3062,
          3064,
          3066,
          3069,
          3069,
          3073,
          3074,
          3083,
          3088,
          3089,
          3092,
          3093,
          3096,
          3101,
          3103,
          3108,
          3110,
          3114,
          3115,
          3123,
          3133,
          3140,
          3142,
          3145,
          3147,
          3152,
          3158,
          3162,
          3164,
          3165,
          3171,
          3172,
          3180,
          3186,
          3192,
          3199,
          3212,
          3213,
          3226,
          3266,
          3274,
          3283,
          3287,
          3288,
          3290,
          3294,
          3300,
          3306,
          3324,
          3327,
          3328,
          3328,
          3329,
          3331,
          3363,
          3369,
          3374,
          3394,
          3403,
          3404,
          3405,
          3410,
          3411,
          3425,
          3427,
          3429,
          3455,
          3477,
          3491,
          3493,
          3501,
          3513,
          3538,
          3544,
          3544,
          3545,
          3554,
          3566,
          3577,
          3580,
          3586,
          3589,
          3625,
          3635,
          3644,
          3654,
          3659,
          3666,
          3676,
          3679,
          3683,
          3691,
          3710,
          3721,
          3727,
          3763,
          3783,
          3784,
          3787,
          3788,
          3793,
          3795,
          3802,
          3808,
          3832,
          3841,
          3846,
          3879,
          3891,
          3921,
          3934,
          3934,
          4005,
          4005,
          4015,
          4018,
          4022,
          4022,
          4044,
          4079,
          4092,
          4142,
          4157,
          4163,
          4236,
          4274,
          4392,
          4398,
          4501,
          4546,
          4547,
          4552,
          4900
         ],
         "xaxis": "x",
         "y": [
          -2015.1015942229762,
          -2015.1015942229762,
          -2015.1015942229762,
          -2015.1015942229762,
          -1797.20154655236,
          -1776.2496188917237,
          -1512.2553303677078,
          -938.1725124662762,
          -326.3762247756995,
          771.5047846416367,
          1089.9740850833066,
          1873.5761795911,
          2183.6647089685157,
          2309.376274932333,
          2678.13020175953,
          2699.082129420166,
          2766.1282979342022,
          3009.1706587975814,
          3063.6456707152356,
          3072.0264417794906,
          3168.405309018417,
          3180.976465614798,
          3214.4995498718163,
          3331.830344771379,
          3549.730392441995,
          3574.872705634759,
          3604.205404359649,
          3616.776560956031,
          3629.347717552413,
          3629.347717552413,
          3629.347717552413,
          3629.347717552413,
          3629.347717552413,
          3629.347717552413,
          3629.347717552413,
          3629.347717552413,
          3633.53810308454,
          3633.53810308454,
          3637.728488616667,
          3646.109259680922,
          3667.0611873415583,
          3679.6323439379394,
          3700.5842715985755,
          3708.9650426628305,
          3717.3458137270845,
          3725.7265847913395,
          3725.7265847913395,
          3738.2977413877206,
          3755.0592835162297,
          3780.2015967089937,
          3822.105452030266,
          3838.866994158775,
          3838.866994158775,
          3847.247765223029,
          3855.628536287283,
          3855.628536287283,
          3859.818921819411,
          3864.009307351538,
          3868.199692883665,
          3880.770849480047,
          3893.3420060764283,
          3897.5323916085563,
          3931.0554758655735,
          3960.3881745904646,
          3964.5785601225916,
          3981.3401022511007,
          3981.3401022511007,
          3985.5304877832277,
          3989.7208733153548,
          3998.1016443796098,
          4035.815114168755,
          4044.195885233009,
          4048.386270765137,
          4060.957427361518,
          4069.338198425773,
          4098.670897150663,
          4115.432439279172,
          4115.432439279172,
          4119.622824811299,
          4128.003595875554,
          4132.193981407681,
          4136.384366939808,
          4144.765138004063,
          4157.3362946004445,
          4161.5266801325715,
          4190.859378857463,
          4190.859378857463,
          4232.763234178735,
          4236.953619710862,
          4245.334390775117,
          4249.524776307244,
          4253.715161839371,
          4253.715161839371,
          4253.715161839371,
          4253.715161839371,
          4257.905547371498,
          4257.905547371498,
          4274.667089500007,
          4291.428631628516,
          4295.619017160643,
          4299.809402692771,
          4358.474800142552,
          4383.6171133353155,
          4391.99788439957,
          4391.99788439957,
          4442.282510785097,
          4459.044052913606,
          4475.805595042115,
          4484.186366106369,
          4496.757522702751,
          4496.757522702751,
          4500.947908234878,
          4509.328679299133,
          4530.280606959769,
          4563.803691216786,
          4563.803691216786,
          4572.184462281041,
          4580.565233345295,
          4588.94600440955,
          4605.707546538059,
          4622.469088666568,
          4643.421016327205,
          4647.611401859332,
          4660.182558455713,
          4660.182558455713,
          4668.563329519968,
          4706.276799309113,
          4706.276799309113,
          4731.419112501876,
          4743.990269098258,
          4760.751811226767,
          4764.942196758894,
          4785.89412441953,
          4794.274895483784,
          4806.846052080166,
          4811.036437612293,
          4815.226823144421,
          4815.226823144421,
          4823.607594208675,
          4823.607594208675,
          4823.607594208675,
          4827.7979797408025,
          4836.1787508050575,
          4848.749907401439,
          4848.749907401439,
          4878.08260612633,
          4894.844148254839,
          4899.034533786966,
          4903.224919319093,
          4915.796075915475,
          4919.986461447602,
          4919.986461447602,
          4928.367232511856,
          4932.557618043984,
          4936.748003576111,
          4961.890316768874,
          4970.271087833129,
          4970.271087833129,
          4978.651858897383,
          4982.84224442951,
          5037.317256347164,
          5058.2691840078005,
          5058.2691840078005,
          5058.2691840078005,
          5058.2691840078005,
          5058.2691840078005,
          5058.2691840078005,
          5058.2691840078005,
          5058.2691840078005,
          5058.2691840078005,
          5066.6499550720555,
          5075.03072613631,
          5075.03072613631,
          5079.221111668437,
          5091.792268264819,
          5100.173039329073,
          5100.173039329073,
          5129.505738053964,
          5129.505738053964,
          5150.4576657146,
          5183.980749971618,
          5183.980749971618,
          5192.361521035872,
          5196.551906567999,
          5200.742292100127,
          5200.742292100127,
          5209.123063164381,
          5213.313448696508,
          5213.313448696508,
          5225.88460529289,
          5259.407689549908,
          5271.9788461462895,
          5276.169231678417,
          5276.169231678417,
          5284.5500027426715,
          5284.5500027426715,
          5297.1211593390535,
          5305.501930403308,
          5343.215400192453,
          5359.976942320962,
          5368.357713385216,
          5372.548098917344,
          5372.548098917344,
          5422.83272530287,
          5427.023110834997,
          5427.023110834997,
          5427.023110834997,
          5439.594267431379,
          5443.784652963506,
          5443.784652963506,
          5456.355809559888,
          5468.92696615627,
          5477.307737220524,
          5477.307737220524,
          5477.307737220524,
          5494.069279349033,
          5494.069279349033,
          5498.2596648811605,
          5515.0212070096695,
          5523.4019780739245,
          5531.782749138179,
          5544.353905734561,
          5573.686604459451,
          5582.067375523706,
          5586.257761055833,
          5607.209688716469,
          5607.209688716469,
          5607.209688716469,
          5607.209688716469,
          5611.400074248596,
          5615.590459780723,
          5615.590459780723,
          5636.542387441359,
          5640.732772973487,
          5640.732772973487,
          5649.113544037741,
          5653.303929569868,
          5657.494315101996,
          5674.255857230504,
          5682.636628294759,
          5686.827013826886,
          5699.398170423268,
          5699.398170423268,
          5699.398170423268,
          5699.398170423268,
          5699.398170423268,
          5699.398170423268,
          5699.398170423268,
          5699.398170423268,
          5699.398170423268,
          5703.588555955395,
          5707.778941487522,
          5728.7308691481585,
          5732.9212546802855,
          5737.1116402124135,
          5741.3020257445405,
          5745.492411276668,
          5749.682796808795,
          5753.8731823409225,
          5753.8731823409225,
          5758.06356787305,
          5762.253953405177,
          5774.825110001559,
          5779.015495533686,
          5783.205881065813,
          5791.586652130068,
          5808.348194258576,
          5816.728965322831,
          5846.061664047721,
          5854.442435111976,
          5854.442435111976,
          5858.632820644103,
          5862.82320617623,
          5862.82320617623,
          5871.203977240485,
          5871.203977240485,
          5879.584748304739,
          5887.965519368994,
          5887.965519368994,
          5900.536675965375,
          5904.727061497502,
          5917.298218093884,
          5929.869374690266,
          5934.059760222393,
          5938.25014575452,
          5938.25014575452,
          5942.4405312866475,
          5955.0116878830295,
          5959.2020734151565,
          5967.5828444794115,
          5971.7732300115385,
          5971.7732300115385,
          5975.963615543666,
          5980.154001075793,
          5980.154001075793,
          5984.344386607921,
          5984.344386607921,
          5988.534772140048,
          6013.677085332811,
          6013.677085332811,
          6022.057856397066,
          6034.629012993447,
          6034.629012993447,
          6038.819398525574,
          6038.819398525574,
          6038.819398525574,
          6038.819398525574,
          6055.580940654083,
          6063.961711718338,
          6076.532868314719,
          6084.913639378974,
          6089.104024911101,
          6093.294410443228,
          6131.007880232373,
          6135.1982657645,
          6139.388651296628,
          6139.388651296628,
          6143.579036828755,
          6143.579036828755,
          6151.959807893009,
          6168.721350021518,
          6172.9117355536455,
          6181.2925066179005,
          6193.863663214282,
          6206.4348198106645,
          6206.4348198106645,
          6210.625205342792,
          6214.815590874919,
          6219.005976407046,
          6223.196361939173,
          6239.957904067681,
          6239.957904067681,
          6244.14828959981,
          6248.338675131937,
          6248.338675131937,
          6252.529060664064,
          6256.719446196191,
          6265.100217260445,
          6265.100217260445,
          6281.861759388955,
          6281.861759388955,
          6281.861759388955,
          6281.861759388955,
          6281.861759388955,
          6281.861759388955,
          6281.861759388955,
          6281.861759388955,
          6281.861759388955,
          6281.861759388955,
          6281.861759388955,
          6281.861759388955,
          6281.861759388955,
          6286.052144921082,
          6290.242530453209,
          6302.81368704959,
          6302.81368704959,
          6302.81368704959,
          6315.384843645971,
          6323.765614710227,
          6323.765614710227,
          6332.146385774481,
          6336.336771306608,
          6340.527156838735,
          6344.717542370862,
          6344.717542370862,
          6344.717542370862,
          6348.907927902989,
          6353.098313435116,
          6361.479084499372,
          6374.050241095753,
          6378.24062662788,
          6382.431012160007,
          6382.431012160007,
          6399.192554288517,
          6403.382939820644,
          6407.5733253527715,
          6407.5733253527715,
          6411.7637108848985,
          6415.9540964170255,
          6420.144481949153,
          6424.33486748128,
          6428.525253013407,
          6428.525253013407,
          6436.906024077663,
          6441.09640960979,
          6453.667566206171,
          6474.619493866808,
          6478.809879398935,
          6491.381035995316,
          6503.952192591697,
          6508.142578123824,
          6512.332963655953,
          6524.904120252334,
          6529.094505784461,
          6550.046433445098,
          6550.046433445098,
          6550.046433445098,
          6550.046433445098,
          6558.427204509352,
          6566.807975573606,
          6570.998361105733,
          6579.379132169987,
          6587.759903234243,
          6604.521445362751,
          6617.0926019591325,
          6617.0926019591325,
          6617.0926019591325,
          6625.473373023388,
          6629.663758555515,
          6629.663758555515,
          6629.663758555515,
          6629.663758555515,
          6629.663758555515,
          6629.663758555515,
          6629.663758555515,
          6629.663758555515,
          6629.663758555515,
          6629.663758555515,
          6629.663758555515,
          6633.854144087642,
          6633.854144087642,
          6633.854144087642,
          6638.0445296197695,
          6642.2349151518965,
          6642.2349151518965,
          6642.2349151518965,
          6646.425300684024,
          6646.425300684024,
          6646.425300684024,
          6654.806071748278,
          6658.996457280405,
          6658.996457280405,
          6667.377228344661,
          6684.138770473169,
          6721.852240262314,
          6726.042625794441,
          6726.042625794441,
          6751.184938987205,
          6755.375324519332,
          6755.375324519332,
          6755.375324519332,
          6759.565710051459,
          6759.565710051459,
          6763.756095583586,
          6763.756095583586,
          6763.756095583586,
          6767.946481115713,
          6776.327252179967,
          6776.327252179967,
          6784.708023244223,
          6805.659950904858,
          6805.659950904858,
          6805.659950904858,
          6830.802264097622,
          6834.992649629749,
          6839.183035161876,
          6847.5638062261305,
          6851.754191758258,
          6851.754191758258,
          6855.944577290386,
          6868.5157338867675,
          6872.706119418895,
          6881.086890483149,
          6885.277276015276,
          6885.277276015276,
          6897.848432611659,
          6910.41958920804,
          6914.609974740167,
          6918.800360272294,
          6922.990745804421,
          6931.371516868677,
          6952.323444529312,
          6985.84652878633,
          6990.036914318457,
          6994.227299850584,
          6998.417685382711,
          7019.369613043348,
          7027.750384107602,
          7031.940769639729,
          7044.51192623611,
          7073.8446249610015,
          7090.6061670895115,
          7090.6061670895115,
          7094.7965526216385,
          7098.986938153766,
          7098.986938153766,
          7107.36770921802,
          7115.748480282274,
          7119.938865814401,
          7124.12925134653,
          7128.319636878657,
          7140.890793475038,
          7149.271564539292,
          7153.461950071419,
          7157.652335603546,
          7178.604263264183,
          7178.604263264183,
          7178.604263264183,
          7182.79464879631,
          7186.985034328437,
          7195.365805392691,
          7203.746576456947,
          7216.317733053328,
          7233.079275181836,
          7249.840817310346,
          7279.173516035237,
          7287.554287099491,
          7287.554287099491,
          7291.744672631618,
          7295.935058163745,
          7300.1254436958725,
          7300.1254436958725,
          7308.506214760127,
          7308.506214760127,
          7308.506214760127,
          7308.506214760127,
          7325.2677568886365,
          7337.838913485018,
          7350.410070081399,
          7354.600455613528,
          7375.552383274163,
          7375.552383274163,
          7396.5043109348,
          7400.694696466927,
          7404.885081999054,
          7413.265853063308,
          7430.027395191818,
          7430.027395191818,
          7455.16970838458,
          7463.550479448834,
          7480.312021577344,
          7497.073563705852,
          7505.4543347701065,
          7518.025491366489,
          7538.977419027125,
          7543.167804559252,
          7547.3581900913805,
          7555.738961155635,
          7555.738961155635,
          7564.119732219889,
          7585.071659880526,
          7606.023587541161,
          7610.213973073288,
          7631.165900733925,
          7643.737057330306,
          7647.927442862433,
          7673.069756055197,
          7681.450527119451,
          7702.402454780088,
          7723.354382440723,
          7723.354382440723,
          7723.354382440723,
          7769.448623294123,
          7773.6390088262515,
          7782.019779890506,
          7807.162093083268,
          7807.162093083268,
          7811.352478615395,
          7815.542864147524,
          7836.494791808159,
          7878.398647129431,
          7878.398647129431,
          7878.398647129431,
          7886.779418193685,
          7903.540960322195,
          7958.015972239848,
          7970.587128836231,
          7970.587128836231,
          7970.587128836231,
          7983.1582854326125,
          7999.919827561121,
          8020.871755221758,
          8041.823682882393,
          8075.346767139411,
          8079.537152671538,
          8087.917923735794,
          8096.298694800048,
          8121.441007992812,
          8129.821779057066,
          8138.20255012132,
          8167.535248846211,
          8175.916019910465,
          8205.248718635356,
          8222.010260763864,
          8251.342959488755,
          8305.817971406408,
          8305.817971406408,
          8305.817971406408,
          8330.960284599172,
          8335.1506701313,
          8347.72182672768,
          8393.816067581081,
          8402.196838645335,
          8414.767995241717,
          8414.767995241717,
          8414.767995241717,
          8444.100693966608,
          8444.100693966608,
          8448.291079498735,
          8452.481465030862,
          8452.481465030862,
          8456.671850562989,
          8456.671850562989,
          8481.814163755753,
          8481.814163755753,
          8490.194934820007,
          8527.908404609152,
          8527.908404609152,
          8565.621874398297,
          8582.383416526807,
          8586.573802058934,
          8603.335344187442,
          8611.716115251696,
          8611.716115251696,
          8645.239199508715,
          8657.810356105098,
          8674.571898233606,
          8682.95266929786,
          8712.28536802275,
          8712.28536802275,
          8758.37960887615,
          8762.569994408277,
          8762.569994408277,
          8779.331536536787,
          8796.093078665295,
          8812.854620793805,
          8863.139247179332,
          8884.091174839967,
          8905.043102500604,
          8917.614259096985,
          8925.99503016124,
          8934.375801225495,
          8946.946957821876,
          9001.421969739531,
          9030.75466846442,
          9039.135439528676,
          9039.135439528676,
          9055.896981657184,
          9060.087367189311,
          9068.468138253565,
          9076.848909317821,
          9085.229680382075,
          9089.420065914202,
          9093.61045144633,
          9106.18160804271,
          9110.371993574838,
          9110.371993574838,
          9131.323921235475,
          9148.085463363983,
          9156.466234428239,
          9160.656619960366,
          9164.847005492493,
          9164.847005492493,
          9173.227776556747,
          9177.418162088874,
          9202.560475281638,
          9223.512402942273,
          9227.7027884744,
          9236.083559538656,
          9244.46433060291,
          9257.035487199291,
          9269.606643795674,
          9269.606643795674,
          9282.177800392055,
          9290.55857145631,
          9303.12972805269,
          9311.510499116946,
          9315.700884649073,
          9336.652812309709,
          9349.223968906092,
          9374.366282098854,
          9403.698980823745,
          9420.460522952253,
          9424.650908484382,
          9433.031679548636,
          9441.41245061289,
          9445.602836145017,
          9462.364378273527,
          9470.745149337781,
          9474.935534869908,
          9479.125920402035,
          9479.125920402035,
          9500.077848062672,
          9508.458619126926,
          9516.83939019118,
          9516.83939019118,
          9525.220161255435,
          9525.220161255435,
          9529.410546787562,
          9537.791317851817,
          9554.552859980326,
          9562.93363104458,
          9571.314402108834,
          9575.504787640963,
          9592.26632976947,
          9596.456715301598,
          9600.647100833725,
          9634.170185090743,
          9638.36057062287,
          9642.550956154997,
          9646.741341687124,
          9650.931727219251,
          9655.12211275138,
          9659.312498283507,
          9688.645197008396,
          9692.835582540525,
          9701.21635360478,
          9705.406739136906,
          9709.597124669033,
          9713.78751020116,
          9713.78751020116,
          9717.977895733287,
          9734.739437861797,
          9743.120208926051,
          9743.120208926051,
          9755.691365522433,
          9759.88175105456,
          9768.262522118815,
          9768.262522118815,
          9789.21444977945,
          9835.30869063285,
          9835.30869063285,
          9843.689461697106,
          9852.07023276136,
          9852.07023276136,
          9868.831774889868,
          9881.402931486251,
          9898.16447361476,
          9910.73563021114,
          9910.73563021114,
          9910.73563021114,
          9914.926015743267,
          9935.877943403904,
          9965.210642128795,
          9965.210642128795,
          9965.210642128795,
          9969.401027660922,
          9977.781798725176,
          9990.352955321558,
          9998.733726385813,
          10065.779894899848,
          10069.970280431975,
          10074.160665964104,
          10090.922208092612,
          10090.922208092612,
          10111.874135753249,
          10120.254906817503,
          10120.254906817503,
          10120.254906817503,
          10124.44529234963,
          10128.635677881757,
          10132.826063413884,
          10145.397220010265,
          10157.968376606648,
          10170.53953320303,
          10170.53953320303,
          10212.443388524302,
          10237.585701717066,
          10245.96647278132,
          10245.96647278132,
          10245.96647278132,
          10258.5376293777,
          10275.29917150621,
          10292.060713634719,
          10300.441484698973,
          10304.631870231102,
          10321.39341235961,
          10321.39341235961,
          10333.964568955991,
          10333.964568955991,
          10346.535725552374,
          10350.726111084501,
          10354.916496616628,
          10363.297267680882,
          10367.48765321301,
          10388.439580873646,
          10426.153050662791,
          10451.295363855554,
          10455.485749387683,
          10468.056905984064,
          10480.628062580445,
          10489.008833644699,
          10501.579990241082,
          10514.151146837463,
          10535.1030744981,
          10543.483845562354,
          10547.674231094481,
          10572.816544287245,
          10572.816544287245,
          10581.1973153515,
          10589.578086415753,
          10602.149243012134,
          10606.339628544261,
          10610.53001407639,
          10610.53001407639,
          10614.720399608517,
          10618.910785140644,
          10652.433869397662,
          10694.337724718935,
          10736.241580040207,
          10769.764664297225,
          10773.955049829352,
          10786.526206425733,
          10807.47813408637,
          10811.668519618497,
          10811.668519618497,
          10811.668519618497,
          10815.858905150624,
          10824.239676214878,
          10832.620447279132,
          10845.191603875515,
          10845.191603875515,
          10861.953146004023,
          10866.14353153615,
          10903.857001325296,
          10924.808928985933,
          10928.99931451806,
          10941.57047111444,
          10945.760856646568,
          10958.33201324295,
          10979.283940903586,
          10987.66471196784,
          11008.616639628477,
          11016.997410692731,
          11033.758952821241,
          11037.949338353368,
          11071.472422610386,
          11113.376277931658,
          11142.708976656548,
          11151.089747720804,
          11163.660904317185,
          11172.041675381439,
          11192.993603042076,
          11218.135916234838,
          11234.897458363348,
          11243.278229427602,
          11247.46861495973,
          11272.610928152493,
          11276.80131368462,
          11310.324397941638,
          11335.4667111344,
          11360.609024327165,
          11389.941723052056,
          11444.416734969709,
          11448.607120501836,
          11503.082132419491,
          11670.69755370458,
          11704.220637961598,
          11741.934107750743,
          11758.695649879253,
          11762.88603541138,
          11771.266806475634,
          11788.028348604143,
          11813.170661796907,
          11838.31297498967,
          11913.739914567961,
          11926.311071164342,
          11930.50145669647,
          11930.50145669647,
          11934.691842228596,
          11943.07261329285,
          12077.164950320923,
          12102.307263513685,
          12123.259191174322,
          12207.066901816866,
          12244.780371606012,
          12248.970757138139,
          12253.161142670266,
          12274.113070330903,
          12278.30345586303,
          12336.968853312812,
          12345.349624377066,
          12353.73039544132,
          12462.680419276629,
          12554.868900983427,
          12613.53429843321,
          12621.915069497463,
          12655.438153754481,
          12705.722780140008,
          12810.482418443189,
          12835.624731635953,
          12835.624731635953,
          12839.81511716808,
          12877.528586957225,
          12927.813213342752,
          12973.90745419615,
          12986.478610792534,
          13011.620923985296,
          13024.192080581679,
          13175.045959738258,
          13216.949815059532,
          13254.663284848677,
          13296.56714016995,
          13317.519067830584,
          13346.851766555475,
          13388.755621876748,
          13401.326778473129,
          13418.088320601639,
          13451.611404858657,
          13531.228729969074,
          13577.322970822474,
          13602.465284015238,
          13753.319163171818,
          13837.126873814363,
          13841.31725934649,
          13853.88841594287,
          13858.078801474998,
          13879.030729135635,
          13887.411500199889,
          13916.74419892478,
          13941.886512117542,
          14042.455764888597,
          14080.169234677742,
          14101.121162338379,
          14239.403884898577,
          14289.688511284105,
          14415.400077247921,
          14469.875089165575,
          14469.875089165575,
          14767.39246194661,
          14767.39246194661,
          14809.296317267881,
          14821.867473864264,
          14838.629015992772,
          14838.629015992772,
          14930.81749769957,
          15077.480991324026,
          15131.95600324168,
          15341.475279848042,
          15404.33106282995,
          15429.473376022712,
          15735.371519868002,
          15894.606170088837,
          16389.07166287985,
          16414.213976072617,
          16845.82368588172,
          17034.391034827448,
          17038.581420359573,
          17059.53334802021,
          18517.78751320049
         ],
         "yaxis": "y"
        }
       ],
       "layout": {
        "legend": {
         "itemsizing": "constant",
         "tracegroupgap": 0
        },
        "template": {
         "data": {
          "bar": [
           {
            "error_x": {
             "color": "#2a3f5f"
            },
            "error_y": {
             "color": "#2a3f5f"
            },
            "marker": {
             "line": {
              "color": "#E5ECF6",
              "width": 0.5
             },
             "pattern": {
              "fillmode": "overlay",
              "size": 10,
              "solidity": 0.2
             }
            },
            "type": "bar"
           }
          ],
          "barpolar": [
           {
            "marker": {
             "line": {
              "color": "#E5ECF6",
              "width": 0.5
             },
             "pattern": {
              "fillmode": "overlay",
              "size": 10,
              "solidity": 0.2
             }
            },
            "type": "barpolar"
           }
          ],
          "carpet": [
           {
            "aaxis": {
             "endlinecolor": "#2a3f5f",
             "gridcolor": "white",
             "linecolor": "white",
             "minorgridcolor": "white",
             "startlinecolor": "#2a3f5f"
            },
            "baxis": {
             "endlinecolor": "#2a3f5f",
             "gridcolor": "white",
             "linecolor": "white",
             "minorgridcolor": "white",
             "startlinecolor": "#2a3f5f"
            },
            "type": "carpet"
           }
          ],
          "choropleth": [
           {
            "colorbar": {
             "outlinewidth": 0,
             "ticks": ""
            },
            "type": "choropleth"
           }
          ],
          "contour": [
           {
            "colorbar": {
             "outlinewidth": 0,
             "ticks": ""
            },
            "colorscale": [
             [
              0,
              "#0d0887"
             ],
             [
              0.1111111111111111,
              "#46039f"
             ],
             [
              0.2222222222222222,
              "#7201a8"
             ],
             [
              0.3333333333333333,
              "#9c179e"
             ],
             [
              0.4444444444444444,
              "#bd3786"
             ],
             [
              0.5555555555555556,
              "#d8576b"
             ],
             [
              0.6666666666666666,
              "#ed7953"
             ],
             [
              0.7777777777777778,
              "#fb9f3a"
             ],
             [
              0.8888888888888888,
              "#fdca26"
             ],
             [
              1,
              "#f0f921"
             ]
            ],
            "type": "contour"
           }
          ],
          "contourcarpet": [
           {
            "colorbar": {
             "outlinewidth": 0,
             "ticks": ""
            },
            "type": "contourcarpet"
           }
          ],
          "heatmap": [
           {
            "colorbar": {
             "outlinewidth": 0,
             "ticks": ""
            },
            "colorscale": [
             [
              0,
              "#0d0887"
             ],
             [
              0.1111111111111111,
              "#46039f"
             ],
             [
              0.2222222222222222,
              "#7201a8"
             ],
             [
              0.3333333333333333,
              "#9c179e"
             ],
             [
              0.4444444444444444,
              "#bd3786"
             ],
             [
              0.5555555555555556,
              "#d8576b"
             ],
             [
              0.6666666666666666,
              "#ed7953"
             ],
             [
              0.7777777777777778,
              "#fb9f3a"
             ],
             [
              0.8888888888888888,
              "#fdca26"
             ],
             [
              1,
              "#f0f921"
             ]
            ],
            "type": "heatmap"
           }
          ],
          "heatmapgl": [
           {
            "colorbar": {
             "outlinewidth": 0,
             "ticks": ""
            },
            "colorscale": [
             [
              0,
              "#0d0887"
             ],
             [
              0.1111111111111111,
              "#46039f"
             ],
             [
              0.2222222222222222,
              "#7201a8"
             ],
             [
              0.3333333333333333,
              "#9c179e"
             ],
             [
              0.4444444444444444,
              "#bd3786"
             ],
             [
              0.5555555555555556,
              "#d8576b"
             ],
             [
              0.6666666666666666,
              "#ed7953"
             ],
             [
              0.7777777777777778,
              "#fb9f3a"
             ],
             [
              0.8888888888888888,
              "#fdca26"
             ],
             [
              1,
              "#f0f921"
             ]
            ],
            "type": "heatmapgl"
           }
          ],
          "histogram": [
           {
            "marker": {
             "pattern": {
              "fillmode": "overlay",
              "size": 10,
              "solidity": 0.2
             }
            },
            "type": "histogram"
           }
          ],
          "histogram2d": [
           {
            "colorbar": {
             "outlinewidth": 0,
             "ticks": ""
            },
            "colorscale": [
             [
              0,
              "#0d0887"
             ],
             [
              0.1111111111111111,
              "#46039f"
             ],
             [
              0.2222222222222222,
              "#7201a8"
             ],
             [
              0.3333333333333333,
              "#9c179e"
             ],
             [
              0.4444444444444444,
              "#bd3786"
             ],
             [
              0.5555555555555556,
              "#d8576b"
             ],
             [
              0.6666666666666666,
              "#ed7953"
             ],
             [
              0.7777777777777778,
              "#fb9f3a"
             ],
             [
              0.8888888888888888,
              "#fdca26"
             ],
             [
              1,
              "#f0f921"
             ]
            ],
            "type": "histogram2d"
           }
          ],
          "histogram2dcontour": [
           {
            "colorbar": {
             "outlinewidth": 0,
             "ticks": ""
            },
            "colorscale": [
             [
              0,
              "#0d0887"
             ],
             [
              0.1111111111111111,
              "#46039f"
             ],
             [
              0.2222222222222222,
              "#7201a8"
             ],
             [
              0.3333333333333333,
              "#9c179e"
             ],
             [
              0.4444444444444444,
              "#bd3786"
             ],
             [
              0.5555555555555556,
              "#d8576b"
             ],
             [
              0.6666666666666666,
              "#ed7953"
             ],
             [
              0.7777777777777778,
              "#fb9f3a"
             ],
             [
              0.8888888888888888,
              "#fdca26"
             ],
             [
              1,
              "#f0f921"
             ]
            ],
            "type": "histogram2dcontour"
           }
          ],
          "mesh3d": [
           {
            "colorbar": {
             "outlinewidth": 0,
             "ticks": ""
            },
            "type": "mesh3d"
           }
          ],
          "parcoords": [
           {
            "line": {
             "colorbar": {
              "outlinewidth": 0,
              "ticks": ""
             }
            },
            "type": "parcoords"
           }
          ],
          "pie": [
           {
            "automargin": true,
            "type": "pie"
           }
          ],
          "scatter": [
           {
            "fillpattern": {
             "fillmode": "overlay",
             "size": 10,
             "solidity": 0.2
            },
            "type": "scatter"
           }
          ],
          "scatter3d": [
           {
            "line": {
             "colorbar": {
              "outlinewidth": 0,
              "ticks": ""
             }
            },
            "marker": {
             "colorbar": {
              "outlinewidth": 0,
              "ticks": ""
             }
            },
            "type": "scatter3d"
           }
          ],
          "scattercarpet": [
           {
            "marker": {
             "colorbar": {
              "outlinewidth": 0,
              "ticks": ""
             }
            },
            "type": "scattercarpet"
           }
          ],
          "scattergeo": [
           {
            "marker": {
             "colorbar": {
              "outlinewidth": 0,
              "ticks": ""
             }
            },
            "type": "scattergeo"
           }
          ],
          "scattergl": [
           {
            "marker": {
             "colorbar": {
              "outlinewidth": 0,
              "ticks": ""
             }
            },
            "type": "scattergl"
           }
          ],
          "scattermapbox": [
           {
            "marker": {
             "colorbar": {
              "outlinewidth": 0,
              "ticks": ""
             }
            },
            "type": "scattermapbox"
           }
          ],
          "scatterpolar": [
           {
            "marker": {
             "colorbar": {
              "outlinewidth": 0,
              "ticks": ""
             }
            },
            "type": "scatterpolar"
           }
          ],
          "scatterpolargl": [
           {
            "marker": {
             "colorbar": {
              "outlinewidth": 0,
              "ticks": ""
             }
            },
            "type": "scatterpolargl"
           }
          ],
          "scatterternary": [
           {
            "marker": {
             "colorbar": {
              "outlinewidth": 0,
              "ticks": ""
             }
            },
            "type": "scatterternary"
           }
          ],
          "surface": [
           {
            "colorbar": {
             "outlinewidth": 0,
             "ticks": ""
            },
            "colorscale": [
             [
              0,
              "#0d0887"
             ],
             [
              0.1111111111111111,
              "#46039f"
             ],
             [
              0.2222222222222222,
              "#7201a8"
             ],
             [
              0.3333333333333333,
              "#9c179e"
             ],
             [
              0.4444444444444444,
              "#bd3786"
             ],
             [
              0.5555555555555556,
              "#d8576b"
             ],
             [
              0.6666666666666666,
              "#ed7953"
             ],
             [
              0.7777777777777778,
              "#fb9f3a"
             ],
             [
              0.8888888888888888,
              "#fdca26"
             ],
             [
              1,
              "#f0f921"
             ]
            ],
            "type": "surface"
           }
          ],
          "table": [
           {
            "cells": {
             "fill": {
              "color": "#EBF0F8"
             },
             "line": {
              "color": "white"
             }
            },
            "header": {
             "fill": {
              "color": "#C8D4E3"
             },
             "line": {
              "color": "white"
             }
            },
            "type": "table"
           }
          ]
         },
         "layout": {
          "annotationdefaults": {
           "arrowcolor": "#2a3f5f",
           "arrowhead": 0,
           "arrowwidth": 1
          },
          "autotypenumbers": "strict",
          "coloraxis": {
           "colorbar": {
            "outlinewidth": 0,
            "ticks": ""
           }
          },
          "colorscale": {
           "diverging": [
            [
             0,
             "#8e0152"
            ],
            [
             0.1,
             "#c51b7d"
            ],
            [
             0.2,
             "#de77ae"
            ],
            [
             0.3,
             "#f1b6da"
            ],
            [
             0.4,
             "#fde0ef"
            ],
            [
             0.5,
             "#f7f7f7"
            ],
            [
             0.6,
             "#e6f5d0"
            ],
            [
             0.7,
             "#b8e186"
            ],
            [
             0.8,
             "#7fbc41"
            ],
            [
             0.9,
             "#4d9221"
            ],
            [
             1,
             "#276419"
            ]
           ],
           "sequential": [
            [
             0,
             "#0d0887"
            ],
            [
             0.1111111111111111,
             "#46039f"
            ],
            [
             0.2222222222222222,
             "#7201a8"
            ],
            [
             0.3333333333333333,
             "#9c179e"
            ],
            [
             0.4444444444444444,
             "#bd3786"
            ],
            [
             0.5555555555555556,
             "#d8576b"
            ],
            [
             0.6666666666666666,
             "#ed7953"
            ],
            [
             0.7777777777777778,
             "#fb9f3a"
            ],
            [
             0.8888888888888888,
             "#fdca26"
            ],
            [
             1,
             "#f0f921"
            ]
           ],
           "sequentialminus": [
            [
             0,
             "#0d0887"
            ],
            [
             0.1111111111111111,
             "#46039f"
            ],
            [
             0.2222222222222222,
             "#7201a8"
            ],
            [
             0.3333333333333333,
             "#9c179e"
            ],
            [
             0.4444444444444444,
             "#bd3786"
            ],
            [
             0.5555555555555556,
             "#d8576b"
            ],
            [
             0.6666666666666666,
             "#ed7953"
            ],
            [
             0.7777777777777778,
             "#fb9f3a"
            ],
            [
             0.8888888888888888,
             "#fdca26"
            ],
            [
             1,
             "#f0f921"
            ]
           ]
          },
          "colorway": [
           "#636efa",
           "#EF553B",
           "#00cc96",
           "#ab63fa",
           "#FFA15A",
           "#19d3f3",
           "#FF6692",
           "#B6E880",
           "#FF97FF",
           "#FECB52"
          ],
          "font": {
           "color": "#2a3f5f"
          },
          "geo": {
           "bgcolor": "white",
           "lakecolor": "white",
           "landcolor": "#E5ECF6",
           "showlakes": true,
           "showland": true,
           "subunitcolor": "white"
          },
          "hoverlabel": {
           "align": "left"
          },
          "hovermode": "closest",
          "mapbox": {
           "style": "light"
          },
          "paper_bgcolor": "white",
          "plot_bgcolor": "#E5ECF6",
          "polar": {
           "angularaxis": {
            "gridcolor": "white",
            "linecolor": "white",
            "ticks": ""
           },
           "bgcolor": "#E5ECF6",
           "radialaxis": {
            "gridcolor": "white",
            "linecolor": "white",
            "ticks": ""
           }
          },
          "scene": {
           "xaxis": {
            "backgroundcolor": "#E5ECF6",
            "gridcolor": "white",
            "gridwidth": 2,
            "linecolor": "white",
            "showbackground": true,
            "ticks": "",
            "zerolinecolor": "white"
           },
           "yaxis": {
            "backgroundcolor": "#E5ECF6",
            "gridcolor": "white",
            "gridwidth": 2,
            "linecolor": "white",
            "showbackground": true,
            "ticks": "",
            "zerolinecolor": "white"
           },
           "zaxis": {
            "backgroundcolor": "#E5ECF6",
            "gridcolor": "white",
            "gridwidth": 2,
            "linecolor": "white",
            "showbackground": true,
            "ticks": "",
            "zerolinecolor": "white"
           }
          },
          "shapedefaults": {
           "line": {
            "color": "#2a3f5f"
           }
          },
          "ternary": {
           "aaxis": {
            "gridcolor": "white",
            "linecolor": "white",
            "ticks": ""
           },
           "baxis": {
            "gridcolor": "white",
            "linecolor": "white",
            "ticks": ""
           },
           "bgcolor": "#E5ECF6",
           "caxis": {
            "gridcolor": "white",
            "linecolor": "white",
            "ticks": ""
           }
          },
          "title": {
           "x": 0.05
          },
          "xaxis": {
           "automargin": true,
           "gridcolor": "white",
           "linecolor": "white",
           "ticks": "",
           "title": {
            "standoff": 15
           },
           "zerolinecolor": "white",
           "zerolinewidth": 2
          },
          "yaxis": {
           "automargin": true,
           "gridcolor": "white",
           "linecolor": "white",
           "ticks": "",
           "title": {
            "standoff": 15
           },
           "zerolinecolor": "white",
           "zerolinewidth": 2
          }
         }
        },
        "title": {
         "text": "Relationship between Calories and Total Steps"
        },
        "xaxis": {
         "anchor": "y",
         "domain": [
          0,
          1
         ],
         "title": {
          "text": "Calories"
         }
        },
        "yaxis": {
         "anchor": "x",
         "domain": [
          0,
          1
         ],
         "title": {
          "text": "TotalSteps"
         }
        }
       }
      }
     },
     "metadata": {},
     "output_type": "display_data"
    }
   ],
   "source": [
    "fig = px.scatter(daily_activity, x='Calories', y='TotalSteps', size='VeryActiveMinutes', trendline='ols',\n",
    "                 title = 'Relationship between Calories and Total Steps'\n",
    "                )\n",
    "fig.show()"
   ]
  },
  {
   "cell_type": "code",
   "execution_count": 20,
   "id": "6d5f067f",
   "metadata": {},
   "outputs": [
    {
     "data": {
      "text/html": [
       "<div>\n",
       "<style scoped>\n",
       "    .dataframe tbody tr th:only-of-type {\n",
       "        vertical-align: middle;\n",
       "    }\n",
       "\n",
       "    .dataframe tbody tr th {\n",
       "        vertical-align: top;\n",
       "    }\n",
       "\n",
       "    .dataframe thead th {\n",
       "        text-align: right;\n",
       "    }\n",
       "</style>\n",
       "<table border=\"1\" class=\"dataframe\">\n",
       "  <thead>\n",
       "    <tr style=\"text-align: right;\">\n",
       "      <th></th>\n",
       "      <th>Id</th>\n",
       "      <th>ActivityDate</th>\n",
       "      <th>TotalSteps</th>\n",
       "      <th>TotalDistance</th>\n",
       "      <th>TrackerDistance</th>\n",
       "      <th>LoggedActivitiesDistance</th>\n",
       "      <th>VeryActiveDistance</th>\n",
       "      <th>ModeratelyActiveDistance</th>\n",
       "      <th>LightActiveDistance</th>\n",
       "      <th>SedentaryActiveDistance</th>\n",
       "      <th>VeryActiveMinutes</th>\n",
       "      <th>FairlyActiveMinutes</th>\n",
       "      <th>LightlyActiveMinutes</th>\n",
       "      <th>SedentaryMinutes</th>\n",
       "      <th>Calories</th>\n",
       "      <th>day</th>\n",
       "    </tr>\n",
       "  </thead>\n",
       "  <tbody>\n",
       "    <tr>\n",
       "      <th>0</th>\n",
       "      <td>1503960366</td>\n",
       "      <td>2016-04-12</td>\n",
       "      <td>13162</td>\n",
       "      <td>8.50</td>\n",
       "      <td>8.50</td>\n",
       "      <td>0.0</td>\n",
       "      <td>1.88</td>\n",
       "      <td>0.55</td>\n",
       "      <td>6.06</td>\n",
       "      <td>0.0</td>\n",
       "      <td>25</td>\n",
       "      <td>13</td>\n",
       "      <td>328</td>\n",
       "      <td>728</td>\n",
       "      <td>1985</td>\n",
       "      <td>Tuesday</td>\n",
       "    </tr>\n",
       "    <tr>\n",
       "      <th>1</th>\n",
       "      <td>1503960366</td>\n",
       "      <td>2016-04-13</td>\n",
       "      <td>10735</td>\n",
       "      <td>6.97</td>\n",
       "      <td>6.97</td>\n",
       "      <td>0.0</td>\n",
       "      <td>1.57</td>\n",
       "      <td>0.69</td>\n",
       "      <td>4.71</td>\n",
       "      <td>0.0</td>\n",
       "      <td>21</td>\n",
       "      <td>19</td>\n",
       "      <td>217</td>\n",
       "      <td>776</td>\n",
       "      <td>1797</td>\n",
       "      <td>Wednesday</td>\n",
       "    </tr>\n",
       "    <tr>\n",
       "      <th>2</th>\n",
       "      <td>1503960366</td>\n",
       "      <td>2016-04-14</td>\n",
       "      <td>10460</td>\n",
       "      <td>6.74</td>\n",
       "      <td>6.74</td>\n",
       "      <td>0.0</td>\n",
       "      <td>2.44</td>\n",
       "      <td>0.40</td>\n",
       "      <td>3.91</td>\n",
       "      <td>0.0</td>\n",
       "      <td>30</td>\n",
       "      <td>11</td>\n",
       "      <td>181</td>\n",
       "      <td>1218</td>\n",
       "      <td>1776</td>\n",
       "      <td>Thursday</td>\n",
       "    </tr>\n",
       "    <tr>\n",
       "      <th>3</th>\n",
       "      <td>1503960366</td>\n",
       "      <td>2016-04-15</td>\n",
       "      <td>9762</td>\n",
       "      <td>6.28</td>\n",
       "      <td>6.28</td>\n",
       "      <td>0.0</td>\n",
       "      <td>2.14</td>\n",
       "      <td>1.26</td>\n",
       "      <td>2.83</td>\n",
       "      <td>0.0</td>\n",
       "      <td>29</td>\n",
       "      <td>34</td>\n",
       "      <td>209</td>\n",
       "      <td>726</td>\n",
       "      <td>1745</td>\n",
       "      <td>Friday</td>\n",
       "    </tr>\n",
       "    <tr>\n",
       "      <th>4</th>\n",
       "      <td>1503960366</td>\n",
       "      <td>2016-04-16</td>\n",
       "      <td>12669</td>\n",
       "      <td>8.16</td>\n",
       "      <td>8.16</td>\n",
       "      <td>0.0</td>\n",
       "      <td>2.71</td>\n",
       "      <td>0.41</td>\n",
       "      <td>5.04</td>\n",
       "      <td>0.0</td>\n",
       "      <td>36</td>\n",
       "      <td>10</td>\n",
       "      <td>221</td>\n",
       "      <td>773</td>\n",
       "      <td>1863</td>\n",
       "      <td>Saturday</td>\n",
       "    </tr>\n",
       "  </tbody>\n",
       "</table>\n",
       "</div>"
      ],
      "text/plain": [
       "           Id ActivityDate  TotalSteps  TotalDistance  TrackerDistance  \\\n",
       "0  1503960366   2016-04-12       13162           8.50             8.50   \n",
       "1  1503960366   2016-04-13       10735           6.97             6.97   \n",
       "2  1503960366   2016-04-14       10460           6.74             6.74   \n",
       "3  1503960366   2016-04-15        9762           6.28             6.28   \n",
       "4  1503960366   2016-04-16       12669           8.16             8.16   \n",
       "\n",
       "   LoggedActivitiesDistance  VeryActiveDistance  ModeratelyActiveDistance  \\\n",
       "0                       0.0                1.88                      0.55   \n",
       "1                       0.0                1.57                      0.69   \n",
       "2                       0.0                2.44                      0.40   \n",
       "3                       0.0                2.14                      1.26   \n",
       "4                       0.0                2.71                      0.41   \n",
       "\n",
       "   LightActiveDistance  SedentaryActiveDistance  VeryActiveMinutes  \\\n",
       "0                 6.06                      0.0                 25   \n",
       "1                 4.71                      0.0                 21   \n",
       "2                 3.91                      0.0                 30   \n",
       "3                 2.83                      0.0                 29   \n",
       "4                 5.04                      0.0                 36   \n",
       "\n",
       "   FairlyActiveMinutes  LightlyActiveMinutes  SedentaryMinutes  Calories  \\\n",
       "0                   13                   328               728      1985   \n",
       "1                   19                   217               776      1797   \n",
       "2                   11                   181              1218      1776   \n",
       "3                   34                   209               726      1745   \n",
       "4                   10                   221               773      1863   \n",
       "\n",
       "         day  \n",
       "0    Tuesday  \n",
       "1  Wednesday  \n",
       "2   Thursday  \n",
       "3     Friday  \n",
       "4   Saturday  "
      ]
     },
     "execution_count": 20,
     "metadata": {},
     "output_type": "execute_result"
    }
   ],
   "source": [
    "daily_activity['day'] = daily_activity['ActivityDate'].dt.day_name()\n",
    "daily_activity.head()"
   ]
  },
  {
   "cell_type": "code",
   "execution_count": 21,
   "id": "d7d9c185",
   "metadata": {},
   "outputs": [
    {
     "data": {
      "application/vnd.plotly.v1+json": {
       "config": {
        "plotlyServerURL": "https://plot.ly"
       },
       "data": [
        {
         "direction": "clockwise",
         "labels": [
          "Sunday",
          "Monday",
          "Tuesday",
          "Wednesday",
          "Thursday",
          "Friday",
          "Saturday"
         ],
         "marker": {
          "colors": [
           "gold",
           "lightgreen",
           "pink",
           "blue",
           "skyblue",
           "cyan",
           "orange"
          ]
         },
         "type": "pie",
         "values": [
          121,
          120,
          152,
          150,
          147,
          126,
          124
         ]
        }
       ],
       "layout": {
        "annotations": [
         {
          "font": {
           "size": 16
          },
          "showarrow": false,
          "text": "Total: 940",
          "x": 0.5,
          "y": -0.15
         }
        ],
        "font": {
         "color": "black",
         "family": "Arial, sans-serif",
         "size": 14
        },
        "margin": {
         "b": 20,
         "l": 20,
         "r": 20,
         "t": 50
        },
        "showlegend": false,
        "template": {
         "data": {
          "bar": [
           {
            "error_x": {
             "color": "#2a3f5f"
            },
            "error_y": {
             "color": "#2a3f5f"
            },
            "marker": {
             "line": {
              "color": "#E5ECF6",
              "width": 0.5
             },
             "pattern": {
              "fillmode": "overlay",
              "size": 10,
              "solidity": 0.2
             }
            },
            "type": "bar"
           }
          ],
          "barpolar": [
           {
            "marker": {
             "line": {
              "color": "#E5ECF6",
              "width": 0.5
             },
             "pattern": {
              "fillmode": "overlay",
              "size": 10,
              "solidity": 0.2
             }
            },
            "type": "barpolar"
           }
          ],
          "carpet": [
           {
            "aaxis": {
             "endlinecolor": "#2a3f5f",
             "gridcolor": "white",
             "linecolor": "white",
             "minorgridcolor": "white",
             "startlinecolor": "#2a3f5f"
            },
            "baxis": {
             "endlinecolor": "#2a3f5f",
             "gridcolor": "white",
             "linecolor": "white",
             "minorgridcolor": "white",
             "startlinecolor": "#2a3f5f"
            },
            "type": "carpet"
           }
          ],
          "choropleth": [
           {
            "colorbar": {
             "outlinewidth": 0,
             "ticks": ""
            },
            "type": "choropleth"
           }
          ],
          "contour": [
           {
            "colorbar": {
             "outlinewidth": 0,
             "ticks": ""
            },
            "colorscale": [
             [
              0,
              "#0d0887"
             ],
             [
              0.1111111111111111,
              "#46039f"
             ],
             [
              0.2222222222222222,
              "#7201a8"
             ],
             [
              0.3333333333333333,
              "#9c179e"
             ],
             [
              0.4444444444444444,
              "#bd3786"
             ],
             [
              0.5555555555555556,
              "#d8576b"
             ],
             [
              0.6666666666666666,
              "#ed7953"
             ],
             [
              0.7777777777777778,
              "#fb9f3a"
             ],
             [
              0.8888888888888888,
              "#fdca26"
             ],
             [
              1,
              "#f0f921"
             ]
            ],
            "type": "contour"
           }
          ],
          "contourcarpet": [
           {
            "colorbar": {
             "outlinewidth": 0,
             "ticks": ""
            },
            "type": "contourcarpet"
           }
          ],
          "heatmap": [
           {
            "colorbar": {
             "outlinewidth": 0,
             "ticks": ""
            },
            "colorscale": [
             [
              0,
              "#0d0887"
             ],
             [
              0.1111111111111111,
              "#46039f"
             ],
             [
              0.2222222222222222,
              "#7201a8"
             ],
             [
              0.3333333333333333,
              "#9c179e"
             ],
             [
              0.4444444444444444,
              "#bd3786"
             ],
             [
              0.5555555555555556,
              "#d8576b"
             ],
             [
              0.6666666666666666,
              "#ed7953"
             ],
             [
              0.7777777777777778,
              "#fb9f3a"
             ],
             [
              0.8888888888888888,
              "#fdca26"
             ],
             [
              1,
              "#f0f921"
             ]
            ],
            "type": "heatmap"
           }
          ],
          "heatmapgl": [
           {
            "colorbar": {
             "outlinewidth": 0,
             "ticks": ""
            },
            "colorscale": [
             [
              0,
              "#0d0887"
             ],
             [
              0.1111111111111111,
              "#46039f"
             ],
             [
              0.2222222222222222,
              "#7201a8"
             ],
             [
              0.3333333333333333,
              "#9c179e"
             ],
             [
              0.4444444444444444,
              "#bd3786"
             ],
             [
              0.5555555555555556,
              "#d8576b"
             ],
             [
              0.6666666666666666,
              "#ed7953"
             ],
             [
              0.7777777777777778,
              "#fb9f3a"
             ],
             [
              0.8888888888888888,
              "#fdca26"
             ],
             [
              1,
              "#f0f921"
             ]
            ],
            "type": "heatmapgl"
           }
          ],
          "histogram": [
           {
            "marker": {
             "pattern": {
              "fillmode": "overlay",
              "size": 10,
              "solidity": 0.2
             }
            },
            "type": "histogram"
           }
          ],
          "histogram2d": [
           {
            "colorbar": {
             "outlinewidth": 0,
             "ticks": ""
            },
            "colorscale": [
             [
              0,
              "#0d0887"
             ],
             [
              0.1111111111111111,
              "#46039f"
             ],
             [
              0.2222222222222222,
              "#7201a8"
             ],
             [
              0.3333333333333333,
              "#9c179e"
             ],
             [
              0.4444444444444444,
              "#bd3786"
             ],
             [
              0.5555555555555556,
              "#d8576b"
             ],
             [
              0.6666666666666666,
              "#ed7953"
             ],
             [
              0.7777777777777778,
              "#fb9f3a"
             ],
             [
              0.8888888888888888,
              "#fdca26"
             ],
             [
              1,
              "#f0f921"
             ]
            ],
            "type": "histogram2d"
           }
          ],
          "histogram2dcontour": [
           {
            "colorbar": {
             "outlinewidth": 0,
             "ticks": ""
            },
            "colorscale": [
             [
              0,
              "#0d0887"
             ],
             [
              0.1111111111111111,
              "#46039f"
             ],
             [
              0.2222222222222222,
              "#7201a8"
             ],
             [
              0.3333333333333333,
              "#9c179e"
             ],
             [
              0.4444444444444444,
              "#bd3786"
             ],
             [
              0.5555555555555556,
              "#d8576b"
             ],
             [
              0.6666666666666666,
              "#ed7953"
             ],
             [
              0.7777777777777778,
              "#fb9f3a"
             ],
             [
              0.8888888888888888,
              "#fdca26"
             ],
             [
              1,
              "#f0f921"
             ]
            ],
            "type": "histogram2dcontour"
           }
          ],
          "mesh3d": [
           {
            "colorbar": {
             "outlinewidth": 0,
             "ticks": ""
            },
            "type": "mesh3d"
           }
          ],
          "parcoords": [
           {
            "line": {
             "colorbar": {
              "outlinewidth": 0,
              "ticks": ""
             }
            },
            "type": "parcoords"
           }
          ],
          "pie": [
           {
            "automargin": true,
            "type": "pie"
           }
          ],
          "scatter": [
           {
            "fillpattern": {
             "fillmode": "overlay",
             "size": 10,
             "solidity": 0.2
            },
            "type": "scatter"
           }
          ],
          "scatter3d": [
           {
            "line": {
             "colorbar": {
              "outlinewidth": 0,
              "ticks": ""
             }
            },
            "marker": {
             "colorbar": {
              "outlinewidth": 0,
              "ticks": ""
             }
            },
            "type": "scatter3d"
           }
          ],
          "scattercarpet": [
           {
            "marker": {
             "colorbar": {
              "outlinewidth": 0,
              "ticks": ""
             }
            },
            "type": "scattercarpet"
           }
          ],
          "scattergeo": [
           {
            "marker": {
             "colorbar": {
              "outlinewidth": 0,
              "ticks": ""
             }
            },
            "type": "scattergeo"
           }
          ],
          "scattergl": [
           {
            "marker": {
             "colorbar": {
              "outlinewidth": 0,
              "ticks": ""
             }
            },
            "type": "scattergl"
           }
          ],
          "scattermapbox": [
           {
            "marker": {
             "colorbar": {
              "outlinewidth": 0,
              "ticks": ""
             }
            },
            "type": "scattermapbox"
           }
          ],
          "scatterpolar": [
           {
            "marker": {
             "colorbar": {
              "outlinewidth": 0,
              "ticks": ""
             }
            },
            "type": "scatterpolar"
           }
          ],
          "scatterpolargl": [
           {
            "marker": {
             "colorbar": {
              "outlinewidth": 0,
              "ticks": ""
             }
            },
            "type": "scatterpolargl"
           }
          ],
          "scatterternary": [
           {
            "marker": {
             "colorbar": {
              "outlinewidth": 0,
              "ticks": ""
             }
            },
            "type": "scatterternary"
           }
          ],
          "surface": [
           {
            "colorbar": {
             "outlinewidth": 0,
             "ticks": ""
            },
            "colorscale": [
             [
              0,
              "#0d0887"
             ],
             [
              0.1111111111111111,
              "#46039f"
             ],
             [
              0.2222222222222222,
              "#7201a8"
             ],
             [
              0.3333333333333333,
              "#9c179e"
             ],
             [
              0.4444444444444444,
              "#bd3786"
             ],
             [
              0.5555555555555556,
              "#d8576b"
             ],
             [
              0.6666666666666666,
              "#ed7953"
             ],
             [
              0.7777777777777778,
              "#fb9f3a"
             ],
             [
              0.8888888888888888,
              "#fdca26"
             ],
             [
              1,
              "#f0f921"
             ]
            ],
            "type": "surface"
           }
          ],
          "table": [
           {
            "cells": {
             "fill": {
              "color": "#EBF0F8"
             },
             "line": {
              "color": "white"
             }
            },
            "header": {
             "fill": {
              "color": "#C8D4E3"
             },
             "line": {
              "color": "white"
             }
            },
            "type": "table"
           }
          ]
         },
         "layout": {
          "annotationdefaults": {
           "arrowcolor": "#2a3f5f",
           "arrowhead": 0,
           "arrowwidth": 1
          },
          "autotypenumbers": "strict",
          "coloraxis": {
           "colorbar": {
            "outlinewidth": 0,
            "ticks": ""
           }
          },
          "colorscale": {
           "diverging": [
            [
             0,
             "#8e0152"
            ],
            [
             0.1,
             "#c51b7d"
            ],
            [
             0.2,
             "#de77ae"
            ],
            [
             0.3,
             "#f1b6da"
            ],
            [
             0.4,
             "#fde0ef"
            ],
            [
             0.5,
             "#f7f7f7"
            ],
            [
             0.6,
             "#e6f5d0"
            ],
            [
             0.7,
             "#b8e186"
            ],
            [
             0.8,
             "#7fbc41"
            ],
            [
             0.9,
             "#4d9221"
            ],
            [
             1,
             "#276419"
            ]
           ],
           "sequential": [
            [
             0,
             "#0d0887"
            ],
            [
             0.1111111111111111,
             "#46039f"
            ],
            [
             0.2222222222222222,
             "#7201a8"
            ],
            [
             0.3333333333333333,
             "#9c179e"
            ],
            [
             0.4444444444444444,
             "#bd3786"
            ],
            [
             0.5555555555555556,
             "#d8576b"
            ],
            [
             0.6666666666666666,
             "#ed7953"
            ],
            [
             0.7777777777777778,
             "#fb9f3a"
            ],
            [
             0.8888888888888888,
             "#fdca26"
            ],
            [
             1,
             "#f0f921"
            ]
           ],
           "sequentialminus": [
            [
             0,
             "#0d0887"
            ],
            [
             0.1111111111111111,
             "#46039f"
            ],
            [
             0.2222222222222222,
             "#7201a8"
            ],
            [
             0.3333333333333333,
             "#9c179e"
            ],
            [
             0.4444444444444444,
             "#bd3786"
            ],
            [
             0.5555555555555556,
             "#d8576b"
            ],
            [
             0.6666666666666666,
             "#ed7953"
            ],
            [
             0.7777777777777778,
             "#fb9f3a"
            ],
            [
             0.8888888888888888,
             "#fdca26"
            ],
            [
             1,
             "#f0f921"
            ]
           ]
          },
          "colorway": [
           "#636efa",
           "#EF553B",
           "#00cc96",
           "#ab63fa",
           "#FFA15A",
           "#19d3f3",
           "#FF6692",
           "#B6E880",
           "#FF97FF",
           "#FECB52"
          ],
          "font": {
           "color": "#2a3f5f"
          },
          "geo": {
           "bgcolor": "white",
           "lakecolor": "white",
           "landcolor": "#E5ECF6",
           "showlakes": true,
           "showland": true,
           "subunitcolor": "white"
          },
          "hoverlabel": {
           "align": "left"
          },
          "hovermode": "closest",
          "mapbox": {
           "style": "light"
          },
          "paper_bgcolor": "white",
          "plot_bgcolor": "#E5ECF6",
          "polar": {
           "angularaxis": {
            "gridcolor": "white",
            "linecolor": "white",
            "ticks": ""
           },
           "bgcolor": "#E5ECF6",
           "radialaxis": {
            "gridcolor": "white",
            "linecolor": "white",
            "ticks": ""
           }
          },
          "scene": {
           "xaxis": {
            "backgroundcolor": "#E5ECF6",
            "gridcolor": "white",
            "gridwidth": 2,
            "linecolor": "white",
            "showbackground": true,
            "ticks": "",
            "zerolinecolor": "white"
           },
           "yaxis": {
            "backgroundcolor": "#E5ECF6",
            "gridcolor": "white",
            "gridwidth": 2,
            "linecolor": "white",
            "showbackground": true,
            "ticks": "",
            "zerolinecolor": "white"
           },
           "zaxis": {
            "backgroundcolor": "#E5ECF6",
            "gridcolor": "white",
            "gridwidth": 2,
            "linecolor": "white",
            "showbackground": true,
            "ticks": "",
            "zerolinecolor": "white"
           }
          },
          "shapedefaults": {
           "line": {
            "color": "#2a3f5f"
           }
          },
          "ternary": {
           "aaxis": {
            "gridcolor": "white",
            "linecolor": "white",
            "ticks": ""
           },
           "baxis": {
            "gridcolor": "white",
            "linecolor": "white",
            "ticks": ""
           },
           "bgcolor": "#E5ECF6",
           "caxis": {
            "gridcolor": "white",
            "linecolor": "white",
            "ticks": ""
           }
          },
          "title": {
           "x": 0.05
          },
          "xaxis": {
           "automargin": true,
           "gridcolor": "white",
           "linecolor": "white",
           "ticks": "",
           "title": {
            "standoff": 15
           },
           "zerolinecolor": "white",
           "zerolinewidth": 2
          },
          "yaxis": {
           "automargin": true,
           "gridcolor": "white",
           "linecolor": "white",
           "ticks": "",
           "title": {
            "standoff": 15
           },
           "zerolinecolor": "white",
           "zerolinewidth": 2
          }
         }
        },
        "title": {
         "text": "Inactive Minutes Daily",
         "x": 0.5
        }
       }
      }
     },
     "metadata": {},
     "output_type": "display_data"
    }
   ],
   "source": [
    "\n",
    "\n",
    "# Assuming daily_activity is your DataFrame containing the data\n",
    "\n",
    "# Define the order of the days of the week\n",
    "day_order = [\"Sunday\", \"Monday\", \"Tuesday\", \"Wednesday\", \"Thursday\", \"Friday\", \"Saturday\"]\n",
    "\n",
    "# Calculate the counts of sedentary minutes for each day\n",
    "day_counts = daily_activity[\"day\"].value_counts().reindex(day_order)\n",
    "\n",
    "# Extract the labels (days) and sedentary minutes counts\n",
    "labels = day_counts.index\n",
    "counts = day_counts.values\n",
    "\n",
    "# Define colors for the pie chart\n",
    "colors = ['gold', 'lightgreen', 'pink', 'blue', 'skyblue', 'cyan', 'orange']\n",
    "\n",
    "# Create a pie chart using Plotly\n",
    "fig = go.Figure(data=[go.Pie(labels=labels, values=counts, marker=dict(colors=colors), direction=\"clockwise\")])\n",
    "\n",
    "# Update layout for better aesthetics\n",
    "fig.update_layout(\n",
    "    title=\"Inactive Minutes Daily\",\n",
    "    title_x=0.5,  # Center the title\n",
    "    showlegend=False,  # Hide legend for better layout\n",
    "    margin=dict(l=20, r=20, t=50, b=20),  # Adjust margins for better layout\n",
    "    font=dict(family=\"Arial, sans-serif\", size=14, color=\"black\"),  # Set font properties\n",
    "    annotations=[dict(text=\"Total: \" + str(sum(counts)), x=0.5, y=-0.15, showarrow=False, font=dict(size=16))]  # Add total annotation\n",
    ")\n",
    "\n",
    "# Show the interactive pie chart\n",
    "fig.show()\n"
   ]
  },
  {
   "cell_type": "code",
   "execution_count": 22,
   "id": "cbeb31e6",
   "metadata": {},
   "outputs": [
    {
     "data": {
      "application/vnd.plotly.v1+json": {
       "config": {
        "plotlyServerURL": "https://plot.ly"
       },
       "data": [
        {
         "hoverinfo": "label+percent",
         "labels": [
          "Tuesday",
          "Wednesday",
          "Thursday",
          "Friday",
          "Saturday",
          "Sunday",
          "Monday"
         ],
         "marker": {
          "colors": [
           "gold",
           "lightgreen",
           "pink",
           "blue",
           "skyblue",
           "cyan",
           "orange"
          ],
          "line": {
           "color": "black",
           "width": 3
          }
         },
         "textfont": {
          "size": 30
         },
         "textinfo": "value",
         "type": "pie",
         "values": [
          1985,
          1797,
          1776,
          1745,
          1863,
          1728,
          1921,
          2035,
          1786,
          1775,
          1827,
          1949,
          1788,
          2013,
          1970,
          2159,
          1898,
          1837,
          1947,
          1820,
          2004,
          1990,
          1819,
          1959,
          1896,
          1821,
          1740,
          1819,
          1859,
          1783,
          0,
          1432,
          1411,
          1572,
          1344,
          1463,
          1554,
          1604,
          1435,
          1446,
          1467,
          1470,
          1562,
          1617,
          1492,
          1402,
          1670,
          1401,
          1404,
          1655,
          2690,
          1497,
          1334,
          1368,
          1370,
          1341,
          1474,
          1427,
          1328,
          1393,
          1359,
          1002,
          3199,
          2902,
          3226,
          2750,
          3493,
          3011,
          2806,
          3300,
          2430,
          2140,
          2344,
          2677,
          2413,
          2497,
          3123,
          2489,
          3108,
          2498,
          3846,
          2696,
          2580,
          3324,
          2222,
          2463,
          3328,
          3404,
          2987,
          3008,
          2799,
          1276,
          2030,
          1860,
          2130,
          1725,
          1657,
          1793,
          1814,
          1366,
          1349,
          2062,
          1827,
          1645,
          1347,
          1347,
          1347,
          1348,
          1992,
          1856,
          1763,
          1541,
          1348,
          1742,
          1549,
          1589,
          1351,
          1347,
          1347,
          1347,
          1347,
          1347,
          665,
          2220,
          2151,
          2383,
          2221,
          2064,
          2063,
          2111,
          2063,
          2063,
          2064,
          2093,
          2499,
          2324,
          2100,
          2638,
          2063,
          2351,
          2063,
          2064,
          2411,
          2505,
          2195,
          2338,
          2063,
          2383,
          2229,
          2063,
          2063,
          2063,
          2063,
          1383,
          2390,
          2601,
          2312,
          2525,
          2177,
          2782,
          2770,
          2489,
          2897,
          3158,
          2638,
          2069,
          2529,
          2470,
          2793,
          2463,
          2296,
          2611,
          2732,
          2380,
          2473,
          2752,
          2649,
          2609,
          2498,
          1995,
          1848,
          2709,
          2797,
          2544,
          1853,
          1459,
          1521,
          1431,
          1444,
          1373,
          1214,
          1419,
          1356,
          1667,
          1370,
          1399,
          1916,
          1401,
          1576,
          1595,
          1593,
          1649,
          1692,
          1506,
          1447,
          1690,
          1604,
          1658,
          1926,
          1736,
          1491,
          1555,
          1869,
          1141,
          1698,
          1364,
          2124,
          2003,
          1696,
          1801,
          1724,
          1852,
          1905,
          1811,
          1922,
          1610,
          1851,
          1804,
          1725,
          1654,
          1632,
          1481,
          1473,
          1410,
          1779,
          1403,
          1613,
          1878,
          1426,
          1780,
          1742,
          1972,
          1821,
          1630,
          1899,
          1903,
          1125,
          2344,
          2038,
          2010,
          2133,
          2670,
          1882,
          1944,
          2346,
          2198,
          2048,
          1946,
          2629,
          2187,
          2095,
          1861,
          2194,
          1854,
          403,
          1982,
          2004,
          1893,
          2063,
          2148,
          1529,
          1890,
          1956,
          2094,
          1970,
          2241,
          2021,
          1898,
          1907,
          1882,
          1966,
          1835,
          1780,
          1830,
          1739,
          1878,
          1906,
          2015,
          1971,
          1910,
          1897,
          2096,
          1906,
          1962,
          1826,
          1431,
          1788,
          2093,
          2065,
          1908,
          1908,
          1964,
          2014,
          1985,
          1867,
          2124,
          1669,
          1995,
          1921,
          2010,
          2057,
          2095,
          1972,
          2044,
          1946,
          1237,
          1450,
          1495,
          1433,
          1468,
          1625,
          1529,
          1584,
          1638,
          1554,
          1397,
          1481,
          1638,
          1655,
          1570,
          1551,
          1377,
          1407,
          1545,
          1650,
          1501,
          1760,
          1710,
          1628,
          1618,
          1590,
          1574,
          1633,
          1667,
          1630,
          52,
          3654,
          1981,
          2011,
          2951,
          3051,
          1990,
          1995,
          1980,
          1980,
          1980,
          1980,
          1980,
          1980,
          1980,
          1980,
          1980,
          1980,
          1980,
          1980,
          1980,
          2207,
          2828,
          3879,
          3429,
          2704,
          2975,
          3089,
          2785,
          2926,
          2645,
          1120,
          2286,
          2306,
          1776,
          1527,
          2115,
          2135,
          2302,
          1985,
          1884,
          1464,
          1632,
          2200,
          2220,
          1792,
          1886,
          1945,
          1880,
          2314,
          2236,
          2324,
          2367,
          2175,
          2092,
          1593,
          2270,
          2235,
          2282,
          2530,
          2266,
          2158,
          1792,
          2345,
          2260,
          2232,
          257,
          2955,
          3092,
          2998,
          3066,
          3073,
          2572,
          3274,
          3015,
          3083,
          3069,
          3544,
          3306,
          2885,
          3288,
          2929,
          3074,
          2969,
          2979,
          3283,
          2926,
          3147,
          3290,
          3162,
          2899,
          3425,
          4022,
          3934,
          3013,
          3061,
          2954,
          1623,
          2113,
          2095,
          2194,
          2496,
          2180,
          1933,
          2248,
          1954,
          1974,
          2150,
          2432,
          2149,
          2247,
          2070,
          2291,
          2361,
          2203,
          2196,
          2363,
          2246,
          2336,
          2421,
          2070,
          2120,
          2211,
          2123,
          2423,
          2281,
          2181,
          2499,
          1212,
          1909,
          1722,
          1922,
          2121,
          1997,
          2117,
          2116,
          1876,
          1788,
          2486,
          2094,
          2085,
          2173,
          2225,
          2223,
          2098,
          2185,
          1918,
          2105,
          1692,
          2066,
          1953,
          1842,
          2262,
          1722,
          1973,
          2666,
          2223,
          1889,
          2131,
          1452,
          2947,
          2898,
          2984,
          2896,
          3328,
          3394,
          3013,
          2812,
          3061,
          2729,
          2241,
          3691,
          3538,
          3064,
          2784,
          2908,
          3033,
          3165,
          3115,
          2017,
          2859,
          3145,
          3004,
          3006,
          2859,
          3683,
          3287,
          2990,
          3172,
          3069,
          1240,
          2026,
          1718,
          2324,
          2254,
          1831,
          1397,
          1683,
          2284,
          1570,
          2066,
          2105,
          1776,
          1507,
          2033,
          2093,
          1922,
          1999,
          2169,
          1463,
          1747,
          1996,
          2116,
          1698,
          2156,
          1916,
          1494,
          1762,
          2272,
          2335,
          1693,
          741,
          3405,
          2551,
          4022,
          4005,
          4274,
          4552,
          3625,
          3501,
          3192,
          4018,
          3329,
          3152,
          4392,
          3374,
          3088,
          3294,
          3580,
          3544,
          4501,
          4546,
          3014,
          3795,
          2755,
          3004,
          2643,
          1819,
          1819,
          2489,
          3841,
          1665,
          1496,
          1496,
          1496,
          2865,
          2828,
          2225,
          2018,
          2606,
          2536,
          4900,
          2409,
          2651,
          2305,
          1497,
          2450,
          2576,
          1879,
          2560,
          2275,
          2361,
          2044,
          1496,
          1902,
          2636,
          1838,
          2469,
          2250,
          1248,
          2560,
          2905,
          2952,
          2896,
          2783,
          3171,
          2766,
          2839,
          2701,
          2060,
          2796,
          2664,
          2703,
          2771,
          2060,
          2743,
          2687,
          2060,
          2843,
          3327,
          2725,
          2671,
          2718,
          2682,
          2806,
          2613,
          2712,
          2175,
          0,
          1841,
          2400,
          2507,
          2127,
          2225,
          2067,
          2798,
          1841,
          3727,
          1841,
          1922,
          1841,
          2053,
          2484,
          2584,
          1841,
          1993,
          1841,
          2280,
          2319,
          1841,
          1843,
          1841,
          1841,
          2496,
          1032,
          1994,
          1718,
          1466,
          1756,
          2173,
          2027,
          2039,
          2046,
          2174,
          2179,
          2086,
          2571,
          1705,
          2194,
          2012,
          2034,
          2182,
          2254,
          2002,
          1740,
          2162,
          2072,
          2086,
          2066,
          1850,
          1947,
          1659,
          2105,
          2361,
          1855,
          928,
          2937,
          2742,
          2668,
          2098,
          2076,
          2383,
          2832,
          2812,
          3096,
          2763,
          2889,
          2284,
          2667,
          3055,
          2939,
          2830,
          2836,
          3180,
          2051,
          2225,
          2642,
          2976,
          1557,
          2933,
          2553,
          120,
          2772,
          2516,
          2734,
          2395,
          1635,
          1629,
          2743,
          2944,
          2997,
          2463,
          2846,
          1965,
          2049,
          2752,
          2781,
          2693,
          2862,
          2616,
          2995,
          2730,
          2754,
          2754,
          2655,
          2386,
          2924,
          2739,
          2534,
          2960,
          2800,
          2735,
          1199,
          3186,
          3140,
          3411,
          3410,
          2867,
          3213,
          3133,
          3114,
          3043,
          3103,
          2655,
          3554,
          3577,
          3403,
          2846,
          2852,
          3062,
          2794,
          2408,
          1886,
          1988,
          3023,
          2918,
          2950,
          2859,
          3331,
          3589,
          2765,
          2926,
          2809,
          1505,
          2044,
          1935,
          1705,
          1632,
          1880,
          2112,
          1829,
          1763,
          1931,
          2218,
          1651,
          2132,
          1976,
          1909,
          1813,
          2008,
          1580,
          1854,
          0,
          3635,
          4079,
          4163,
          3666,
          3363,
          2572,
          4157,
          4092,
          3787,
          4236,
          4044,
          2908,
          2741,
          4005,
          3763,
          3061,
          2884,
          2982,
          2660,
          3369,
          3491,
          3784,
          3110,
          3783,
          3644,
          2799,
          2685,
          3721,
          3586,
          3788,
          1976,
          2650,
          2654,
          2443,
          2505,
          2693,
          2439,
          2536,
          2668,
          2647,
          2883,
          2944,
          3012,
          2889,
          2547,
          3093,
          3142,
          2757,
          3513,
          3164,
          2596,
          2894,
          3212,
          2516,
          3266,
          2683,
          2810,
          2940,
          2947,
          2846,
          2804,
          0,
          2044,
          1934,
          1963,
          2009,
          1721,
          1688,
          1688,
          1688,
          2188,
          1720,
          2419,
          2748,
          1799,
          1688,
          1928,
          2067,
          2780,
          3101,
          2896,
          1962,
          2015,
          2297,
          2067,
          1688,
          1688,
          1688,
          1688,
          1688,
          57,
          3921,
          3566,
          3793,
          3934,
          4547,
          3545,
          2761,
          3676,
          3679,
          3659,
          3427,
          3891,
          3455,
          3802,
          2860,
          3808,
          3060,
          2698,
          4398,
          2786,
          2189,
          2817,
          3477,
          3052,
          4015,
          4142,
          2847,
          3710,
          2832,
          3832,
          1849
         ]
        }
       ],
       "layout": {
        "template": {
         "data": {
          "bar": [
           {
            "error_x": {
             "color": "#2a3f5f"
            },
            "error_y": {
             "color": "#2a3f5f"
            },
            "marker": {
             "line": {
              "color": "#E5ECF6",
              "width": 0.5
             },
             "pattern": {
              "fillmode": "overlay",
              "size": 10,
              "solidity": 0.2
             }
            },
            "type": "bar"
           }
          ],
          "barpolar": [
           {
            "marker": {
             "line": {
              "color": "#E5ECF6",
              "width": 0.5
             },
             "pattern": {
              "fillmode": "overlay",
              "size": 10,
              "solidity": 0.2
             }
            },
            "type": "barpolar"
           }
          ],
          "carpet": [
           {
            "aaxis": {
             "endlinecolor": "#2a3f5f",
             "gridcolor": "white",
             "linecolor": "white",
             "minorgridcolor": "white",
             "startlinecolor": "#2a3f5f"
            },
            "baxis": {
             "endlinecolor": "#2a3f5f",
             "gridcolor": "white",
             "linecolor": "white",
             "minorgridcolor": "white",
             "startlinecolor": "#2a3f5f"
            },
            "type": "carpet"
           }
          ],
          "choropleth": [
           {
            "colorbar": {
             "outlinewidth": 0,
             "ticks": ""
            },
            "type": "choropleth"
           }
          ],
          "contour": [
           {
            "colorbar": {
             "outlinewidth": 0,
             "ticks": ""
            },
            "colorscale": [
             [
              0,
              "#0d0887"
             ],
             [
              0.1111111111111111,
              "#46039f"
             ],
             [
              0.2222222222222222,
              "#7201a8"
             ],
             [
              0.3333333333333333,
              "#9c179e"
             ],
             [
              0.4444444444444444,
              "#bd3786"
             ],
             [
              0.5555555555555556,
              "#d8576b"
             ],
             [
              0.6666666666666666,
              "#ed7953"
             ],
             [
              0.7777777777777778,
              "#fb9f3a"
             ],
             [
              0.8888888888888888,
              "#fdca26"
             ],
             [
              1,
              "#f0f921"
             ]
            ],
            "type": "contour"
           }
          ],
          "contourcarpet": [
           {
            "colorbar": {
             "outlinewidth": 0,
             "ticks": ""
            },
            "type": "contourcarpet"
           }
          ],
          "heatmap": [
           {
            "colorbar": {
             "outlinewidth": 0,
             "ticks": ""
            },
            "colorscale": [
             [
              0,
              "#0d0887"
             ],
             [
              0.1111111111111111,
              "#46039f"
             ],
             [
              0.2222222222222222,
              "#7201a8"
             ],
             [
              0.3333333333333333,
              "#9c179e"
             ],
             [
              0.4444444444444444,
              "#bd3786"
             ],
             [
              0.5555555555555556,
              "#d8576b"
             ],
             [
              0.6666666666666666,
              "#ed7953"
             ],
             [
              0.7777777777777778,
              "#fb9f3a"
             ],
             [
              0.8888888888888888,
              "#fdca26"
             ],
             [
              1,
              "#f0f921"
             ]
            ],
            "type": "heatmap"
           }
          ],
          "heatmapgl": [
           {
            "colorbar": {
             "outlinewidth": 0,
             "ticks": ""
            },
            "colorscale": [
             [
              0,
              "#0d0887"
             ],
             [
              0.1111111111111111,
              "#46039f"
             ],
             [
              0.2222222222222222,
              "#7201a8"
             ],
             [
              0.3333333333333333,
              "#9c179e"
             ],
             [
              0.4444444444444444,
              "#bd3786"
             ],
             [
              0.5555555555555556,
              "#d8576b"
             ],
             [
              0.6666666666666666,
              "#ed7953"
             ],
             [
              0.7777777777777778,
              "#fb9f3a"
             ],
             [
              0.8888888888888888,
              "#fdca26"
             ],
             [
              1,
              "#f0f921"
             ]
            ],
            "type": "heatmapgl"
           }
          ],
          "histogram": [
           {
            "marker": {
             "pattern": {
              "fillmode": "overlay",
              "size": 10,
              "solidity": 0.2
             }
            },
            "type": "histogram"
           }
          ],
          "histogram2d": [
           {
            "colorbar": {
             "outlinewidth": 0,
             "ticks": ""
            },
            "colorscale": [
             [
              0,
              "#0d0887"
             ],
             [
              0.1111111111111111,
              "#46039f"
             ],
             [
              0.2222222222222222,
              "#7201a8"
             ],
             [
              0.3333333333333333,
              "#9c179e"
             ],
             [
              0.4444444444444444,
              "#bd3786"
             ],
             [
              0.5555555555555556,
              "#d8576b"
             ],
             [
              0.6666666666666666,
              "#ed7953"
             ],
             [
              0.7777777777777778,
              "#fb9f3a"
             ],
             [
              0.8888888888888888,
              "#fdca26"
             ],
             [
              1,
              "#f0f921"
             ]
            ],
            "type": "histogram2d"
           }
          ],
          "histogram2dcontour": [
           {
            "colorbar": {
             "outlinewidth": 0,
             "ticks": ""
            },
            "colorscale": [
             [
              0,
              "#0d0887"
             ],
             [
              0.1111111111111111,
              "#46039f"
             ],
             [
              0.2222222222222222,
              "#7201a8"
             ],
             [
              0.3333333333333333,
              "#9c179e"
             ],
             [
              0.4444444444444444,
              "#bd3786"
             ],
             [
              0.5555555555555556,
              "#d8576b"
             ],
             [
              0.6666666666666666,
              "#ed7953"
             ],
             [
              0.7777777777777778,
              "#fb9f3a"
             ],
             [
              0.8888888888888888,
              "#fdca26"
             ],
             [
              1,
              "#f0f921"
             ]
            ],
            "type": "histogram2dcontour"
           }
          ],
          "mesh3d": [
           {
            "colorbar": {
             "outlinewidth": 0,
             "ticks": ""
            },
            "type": "mesh3d"
           }
          ],
          "parcoords": [
           {
            "line": {
             "colorbar": {
              "outlinewidth": 0,
              "ticks": ""
             }
            },
            "type": "parcoords"
           }
          ],
          "pie": [
           {
            "automargin": true,
            "type": "pie"
           }
          ],
          "scatter": [
           {
            "fillpattern": {
             "fillmode": "overlay",
             "size": 10,
             "solidity": 0.2
            },
            "type": "scatter"
           }
          ],
          "scatter3d": [
           {
            "line": {
             "colorbar": {
              "outlinewidth": 0,
              "ticks": ""
             }
            },
            "marker": {
             "colorbar": {
              "outlinewidth": 0,
              "ticks": ""
             }
            },
            "type": "scatter3d"
           }
          ],
          "scattercarpet": [
           {
            "marker": {
             "colorbar": {
              "outlinewidth": 0,
              "ticks": ""
             }
            },
            "type": "scattercarpet"
           }
          ],
          "scattergeo": [
           {
            "marker": {
             "colorbar": {
              "outlinewidth": 0,
              "ticks": ""
             }
            },
            "type": "scattergeo"
           }
          ],
          "scattergl": [
           {
            "marker": {
             "colorbar": {
              "outlinewidth": 0,
              "ticks": ""
             }
            },
            "type": "scattergl"
           }
          ],
          "scattermapbox": [
           {
            "marker": {
             "colorbar": {
              "outlinewidth": 0,
              "ticks": ""
             }
            },
            "type": "scattermapbox"
           }
          ],
          "scatterpolar": [
           {
            "marker": {
             "colorbar": {
              "outlinewidth": 0,
              "ticks": ""
             }
            },
            "type": "scatterpolar"
           }
          ],
          "scatterpolargl": [
           {
            "marker": {
             "colorbar": {
              "outlinewidth": 0,
              "ticks": ""
             }
            },
            "type": "scatterpolargl"
           }
          ],
          "scatterternary": [
           {
            "marker": {
             "colorbar": {
              "outlinewidth": 0,
              "ticks": ""
             }
            },
            "type": "scatterternary"
           }
          ],
          "surface": [
           {
            "colorbar": {
             "outlinewidth": 0,
             "ticks": ""
            },
            "colorscale": [
             [
              0,
              "#0d0887"
             ],
             [
              0.1111111111111111,
              "#46039f"
             ],
             [
              0.2222222222222222,
              "#7201a8"
             ],
             [
              0.3333333333333333,
              "#9c179e"
             ],
             [
              0.4444444444444444,
              "#bd3786"
             ],
             [
              0.5555555555555556,
              "#d8576b"
             ],
             [
              0.6666666666666666,
              "#ed7953"
             ],
             [
              0.7777777777777778,
              "#fb9f3a"
             ],
             [
              0.8888888888888888,
              "#fdca26"
             ],
             [
              1,
              "#f0f921"
             ]
            ],
            "type": "surface"
           }
          ],
          "table": [
           {
            "cells": {
             "fill": {
              "color": "#EBF0F8"
             },
             "line": {
              "color": "white"
             }
            },
            "header": {
             "fill": {
              "color": "#C8D4E3"
             },
             "line": {
              "color": "white"
             }
            },
            "type": "table"
           }
          ]
         },
         "layout": {
          "annotationdefaults": {
           "arrowcolor": "#2a3f5f",
           "arrowhead": 0,
           "arrowwidth": 1
          },
          "autotypenumbers": "strict",
          "coloraxis": {
           "colorbar": {
            "outlinewidth": 0,
            "ticks": ""
           }
          },
          "colorscale": {
           "diverging": [
            [
             0,
             "#8e0152"
            ],
            [
             0.1,
             "#c51b7d"
            ],
            [
             0.2,
             "#de77ae"
            ],
            [
             0.3,
             "#f1b6da"
            ],
            [
             0.4,
             "#fde0ef"
            ],
            [
             0.5,
             "#f7f7f7"
            ],
            [
             0.6,
             "#e6f5d0"
            ],
            [
             0.7,
             "#b8e186"
            ],
            [
             0.8,
             "#7fbc41"
            ],
            [
             0.9,
             "#4d9221"
            ],
            [
             1,
             "#276419"
            ]
           ],
           "sequential": [
            [
             0,
             "#0d0887"
            ],
            [
             0.1111111111111111,
             "#46039f"
            ],
            [
             0.2222222222222222,
             "#7201a8"
            ],
            [
             0.3333333333333333,
             "#9c179e"
            ],
            [
             0.4444444444444444,
             "#bd3786"
            ],
            [
             0.5555555555555556,
             "#d8576b"
            ],
            [
             0.6666666666666666,
             "#ed7953"
            ],
            [
             0.7777777777777778,
             "#fb9f3a"
            ],
            [
             0.8888888888888888,
             "#fdca26"
            ],
            [
             1,
             "#f0f921"
            ]
           ],
           "sequentialminus": [
            [
             0,
             "#0d0887"
            ],
            [
             0.1111111111111111,
             "#46039f"
            ],
            [
             0.2222222222222222,
             "#7201a8"
            ],
            [
             0.3333333333333333,
             "#9c179e"
            ],
            [
             0.4444444444444444,
             "#bd3786"
            ],
            [
             0.5555555555555556,
             "#d8576b"
            ],
            [
             0.6666666666666666,
             "#ed7953"
            ],
            [
             0.7777777777777778,
             "#fb9f3a"
            ],
            [
             0.8888888888888888,
             "#fdca26"
            ],
            [
             1,
             "#f0f921"
            ]
           ]
          },
          "colorway": [
           "#636efa",
           "#EF553B",
           "#00cc96",
           "#ab63fa",
           "#FFA15A",
           "#19d3f3",
           "#FF6692",
           "#B6E880",
           "#FF97FF",
           "#FECB52"
          ],
          "font": {
           "color": "#2a3f5f"
          },
          "geo": {
           "bgcolor": "white",
           "lakecolor": "white",
           "landcolor": "#E5ECF6",
           "showlakes": true,
           "showland": true,
           "subunitcolor": "white"
          },
          "hoverlabel": {
           "align": "left"
          },
          "hovermode": "closest",
          "mapbox": {
           "style": "light"
          },
          "paper_bgcolor": "white",
          "plot_bgcolor": "#E5ECF6",
          "polar": {
           "angularaxis": {
            "gridcolor": "white",
            "linecolor": "white",
            "ticks": ""
           },
           "bgcolor": "#E5ECF6",
           "radialaxis": {
            "gridcolor": "white",
            "linecolor": "white",
            "ticks": ""
           }
          },
          "scene": {
           "xaxis": {
            "backgroundcolor": "#E5ECF6",
            "gridcolor": "white",
            "gridwidth": 2,
            "linecolor": "white",
            "showbackground": true,
            "ticks": "",
            "zerolinecolor": "white"
           },
           "yaxis": {
            "backgroundcolor": "#E5ECF6",
            "gridcolor": "white",
            "gridwidth": 2,
            "linecolor": "white",
            "showbackground": true,
            "ticks": "",
            "zerolinecolor": "white"
           },
           "zaxis": {
            "backgroundcolor": "#E5ECF6",
            "gridcolor": "white",
            "gridwidth": 2,
            "linecolor": "white",
            "showbackground": true,
            "ticks": "",
            "zerolinecolor": "white"
           }
          },
          "shapedefaults": {
           "line": {
            "color": "#2a3f5f"
           }
          },
          "ternary": {
           "aaxis": {
            "gridcolor": "white",
            "linecolor": "white",
            "ticks": ""
           },
           "baxis": {
            "gridcolor": "white",
            "linecolor": "white",
            "ticks": ""
           },
           "bgcolor": "#E5ECF6",
           "caxis": {
            "gridcolor": "white",
            "linecolor": "white",
            "ticks": ""
           }
          },
          "title": {
           "x": 0.05
          },
          "xaxis": {
           "automargin": true,
           "gridcolor": "white",
           "linecolor": "white",
           "ticks": "",
           "title": {
            "standoff": 15
           },
           "zerolinecolor": "white",
           "zerolinewidth": 2
          },
          "yaxis": {
           "automargin": true,
           "gridcolor": "white",
           "linecolor": "white",
           "ticks": "",
           "title": {
            "standoff": 15
           },
           "zerolinecolor": "white",
           "zerolinewidth": 2
          }
         }
        },
        "title": {
         "text": "Calories Burned Daily"
        }
       }
      }
     },
     "metadata": {},
     "output_type": "display_data"
    }
   ],
   "source": [
    "calories = daily_activity[\"day\"].value_counts()\n",
    "label = calories.index\n",
    "counts = daily_activity[\"Calories\"]\n",
    "colors = ['gold','lightgreen', \"pink\", \"blue\", \"skyblue\", \"cyan\", \"orange\"]\n",
    "\n",
    "fig = go.Figure(data=[go.Pie(labels=label, values=counts)])\n",
    "fig.update_layout(title_text='Calories Burned Daily')\n",
    "fig.update_traces(hoverinfo='label+percent', textinfo='value', textfont_size=30,\n",
    "                  marker=dict(colors=colors, line=dict(color='black', width=3)))\n",
    "fig.show()"
   ]
  },
  {
   "cell_type": "code",
   "execution_count": 23,
   "id": "b256b3cd",
   "metadata": {},
   "outputs": [
    {
     "data": {
      "image/png": "[encoded data removed]",
      "text/plain": [
       "<Figure size 1200x600 with 1 Axes>"
      ]
     },
     "metadata": {},
     "output_type": "display_data"
    }
   ],
   "source": [
    "\n",
    "import seaborn as sns\n",
    "\n",
    "# Load sleep data into a DataFrame\n",
    "sleep_data = pd.read_csv('D:\\Prepinsta\\Week 8\\Fitabase Data 4.12.16-5.12.16\\sleepDay_merged.csv')\n",
    "\n",
    "# Convert date/time columns to datetime data type\n",
    "sleep_data['SleepDay'] = pd.to_datetime(sleep_data['SleepDay'])\n",
    "\n",
    "# Visualize typical sleep patterns\n",
    "plt.figure(figsize=(12, 6))\n",
    "sns.histplot(sleep_data['TotalMinutesAsleep'], kde=True, bins=20, color='skyblue', edgecolor='black')\n",
    "plt.title('Total Minutes Asleep Distribution')\n",
    "plt.xlabel('Total Minutes Asleep')\n",
    "plt.ylabel('Frequency')\n",
    "plt.show()\n",
    "\n",
    "\n"
   ]
  },
  {
   "cell_type": "code",
   "execution_count": 24,
   "id": "8e38ff81",
   "metadata": {},
   "outputs": [
    {
     "data": {
      "image/png": "[encoded data removed]",
      "text/plain": [
       "<Figure size 1200x600 with 1 Axes>"
      ]
     },
     "metadata": {},
     "output_type": "display_data"
    }
   ],
   "source": [
    "# Visualize sleep duration and quality over time\n",
    "plt.figure(figsize=(12, 6))\n",
    "sns.lineplot(x='SleepDay', y='TotalMinutesAsleep', data=sleep_data, marker='o', linestyle='-')\n",
    "sns.lineplot(x='SleepDay', y='TotalTimeInBed', data=sleep_data, marker='o', linestyle='--')\n",
    "plt.title('Total Minutes Asleep vs. Total Time In Bed Over Time')\n",
    "plt.xlabel('Sleep Day')\n",
    "plt.ylabel('Minutes')\n",
    "plt.legend(['Total Minutes Asleep', 'Total Time In Bed'])\n",
    "plt.show()\n",
    "\n"
   ]
  },
  {
   "cell_type": "code",
   "execution_count": 28,
   "id": "457ceed7",
   "metadata": {},
   "outputs": [
    {
     "data": {
      "image/png": "[encoded data removed]",
      "text/plain": [
       "<Figure size 1200x600 with 1 Axes>"
      ]
     },
     "metadata": {},
     "output_type": "display_data"
    }
   ],
   "source": [
    "# Load weight log data into a DataFrame\n",
    "weight_log_data = pd.read_csv('D:\\Prepinsta\\Week 8\\Fitabase Data 4.12.16-5.12.16\\weightLogInfo_merged.csv')\n",
    "\n",
    "# Convert date column to datetime data type\n",
    "weight_log_data['Date'] = pd.to_datetime(weight_log_data['Date'])\n",
    "\n",
    "# Visualize weight changes over time\n",
    "plt.figure(figsize=(12, 6))\n",
    "plt.plot(weight_log_data['Date'], weight_log_data['WeightKg'], marker='o')\n",
    "plt.title('Weight Changes Over Time')\n",
    "plt.xlabel('Date')\n",
    "plt.ylabel('Weight (Kg)')\n",
    "plt.xticks(rotation=45)\n",
    "plt.show()\n",
    "\n"
   ]
  },
  {
   "cell_type": "code",
   "execution_count": 30,
   "id": "db7f3a49",
   "metadata": {},
   "outputs": [
    {
     "data": {
      "image/png": "[encoded data removed]",
      "text/plain": [
       "<Figure size 1200x600 with 1 Axes>"
      ]
     },
     "metadata": {},
     "output_type": "display_data"
    }
   ],
   "source": [
    "# Analyze trends and patterns in weight fluctuations\n",
    "# Calculate rolling averages for smoother visualization\n",
    "weight_log_data['WeightKg_7d_avg'] = weight_log_data['WeightKg'].rolling(window=7).mean()\n",
    "\n",
    "plt.figure(figsize=(12, 6))\n",
    "plt.plot(weight_log_data['Date'], weight_log_data['WeightKg_7d_avg'], marker='o')\n",
    "plt.title('7-Day Rolling Average of Weight')\n",
    "plt.xlabel('Date')\n",
    "plt.ylabel('Weight (Kg)')\n",
    "plt.xticks(rotation=45)\n",
    "plt.show()\n",
    "\n",
    "\n"
   ]
  },
  {
   "cell_type": "code",
   "execution_count": 31,
   "id": "826d2e04",
   "metadata": {},
   "outputs": [
    {
     "data": {
      "image/png": "[encoded data removed]",
      "text/plain": [
       "<Figure size 800x600 with 2 Axes>"
      ]
     },
     "metadata": {},
     "output_type": "display_data"
    }
   ],
   "source": [
    "# Correlation analysis with other factors like Fat, BMI, etc.\n",
    "correlation_matrix = weight_log_data[['WeightKg', 'Fat', 'BMI']].corr()\n",
    "\n",
    "plt.figure(figsize=(8, 6))\n",
    "sns.heatmap(correlation_matrix, annot=True, cmap='coolwarm', fmt='.2f')\n",
    "plt.title('Correlation Matrix')\n",
    "plt.show()"
   ]
  },
  {
   "cell_type": "code",
   "execution_count": null,
   "id": "5b7aac2b",
   "metadata": {},
   "outputs": [],
   "source": []
  }
 ],
 "metadata": {
  "kernelspec": {
   "display_name": "Python (myenv)",
   "language": "python",
   "name": "myenv"
  },
  "language_info": {
   "codemirror_mode": {
    "name": "ipython",
    "version": 3
   },
   "file_extension": ".py",
   "mimetype": "text/x-python",
   "name": "python",
   "nbconvert_exporter": "python",
   "pygments_lexer": "ipython3",
   "version": "3.11.2"
  },
  "papermill": {
   "default_parameters": {},
   "duration": 11.757262,
   "end_time": "2021-07-09T05:00:58.288749",
   "environment_variables": {},
   "exception": null,
   "input_path": "__notebook__.ipynb",
   "output_path": "__notebook__.ipynb",
   "parameters": {},
   "start_time": "2021-07-09T05:00:46.531487",
   "version": "2.3.3"
  }
 },
 "nbformat": 4,
 "nbformat_minor": 5
}
